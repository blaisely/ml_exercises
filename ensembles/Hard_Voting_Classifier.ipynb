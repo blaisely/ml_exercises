{
  "nbformat": 4,
  "nbformat_minor": 0,
  "metadata": {
    "colab": {
      "provenance": []
    },
    "kernelspec": {
      "name": "python3",
      "display_name": "Python 3"
    },
    "language_info": {
      "name": "python"
    }
  },
  "cells": [
    {
      "cell_type": "code",
      "execution_count": 1,
      "metadata": {
        "id": "XDOVUwCLLU5p"
      },
      "outputs": [],
      "source": [
        "from sklearn.datasets import fetch_openml\n",
        "import numpy as np\n",
        "import pandas as pd\n",
        "import matplotlib.pyplot as plt\n",
        "import seaborn as sns"
      ]
    },
    {
      "cell_type": "code",
      "source": [
        "X,y = fetch_openml('mnist_784',version=1,return_X_y=True, )"
      ],
      "metadata": {
        "id": "30R3XFiwL0fL"
      },
      "execution_count": 2,
      "outputs": []
    },
    {
      "cell_type": "code",
      "source": [
        "X.shape"
      ],
      "metadata": {
        "colab": {
          "base_uri": "https://localhost:8080/"
        },
        "id": "C_Lo0PZFL7Bi",
        "outputId": "63cae85a-e7c3-4309-b1e3-7fa1c88881f5"
      },
      "execution_count": 3,
      "outputs": [
        {
          "output_type": "execute_result",
          "data": {
            "text/plain": [
              "(70000, 784)"
            ]
          },
          "metadata": {},
          "execution_count": 3
        }
      ]
    },
    {
      "cell_type": "code",
      "source": [
        "TRAIN_SET = 50000\n",
        "VAL_SET = 10000\n",
        "TEST_SET = 10000\n",
        "\n",
        "np.random.seed = 42\n",
        "random_indices = np.random.permutation(len(X))\n",
        "\n",
        "X = X.iloc[random_indices]\n",
        "y = y.iloc[random_indices]\n",
        "\n",
        "X_train = X.iloc[:TRAIN_SET]\n",
        "y_train = y.iloc[:TRAIN_SET]\n",
        "X_val = X.iloc[TRAIN_SET:TRAIN_SET+VAL_SET]\n",
        "y_val = y.iloc[TRAIN_SET:TRAIN_SET+VAL_SET]\n",
        "X_test = X.iloc[-TEST_SET:]\n",
        "y_test = y.iloc[-TEST_SET:]\n",
        "\n",
        "print(len(X_train), len(X_val), len(X_test))"
      ],
      "metadata": {
        "colab": {
          "base_uri": "https://localhost:8080/"
        },
        "id": "WJ-OAdXxL3gK",
        "outputId": "421cbe73-dd5a-49c8-dba8-67be4991af4d"
      },
      "execution_count": 4,
      "outputs": [
        {
          "output_type": "stream",
          "name": "stdout",
          "text": [
            "50000 10000 10000\n"
          ]
        }
      ]
    },
    {
      "cell_type": "code",
      "source": [
        "from sklearn.ensemble import RandomForestClassifier, ExtraTreesClassifier\n",
        "from sklearn.svm import SVC\n",
        "\n",
        "forest = RandomForestClassifier(random_state=42)\n",
        "extra = ExtraTreesClassifier(random_state=42)\n",
        "svm = SVC(random_state=42, probability=True)\n",
        "\n",
        "forest.fit(X_train, y_train)\n",
        "extra.fit(X_train, y_train)\n",
        "svm.fit(X_train, y_train)\n",
        "\n",
        "print(\"Forest: \", forest.score(X_val, y_val))\n",
        "print(\"Extra Trees: \", extra.score(X_val, y_val))\n",
        "print(\"SVM: \", svm.score(X_val, y_val))"
      ],
      "metadata": {
        "colab": {
          "base_uri": "https://localhost:8080/"
        },
        "id": "CvQFByvAN_yC",
        "outputId": "eead5a1c-941e-4bac-c17a-38bdac487867"
      },
      "execution_count": 5,
      "outputs": [
        {
          "output_type": "stream",
          "name": "stdout",
          "text": [
            "Forest:  0.9698\n",
            "Extra Trees:  0.9716\n",
            "SVM:  0.9788\n"
          ]
        }
      ]
    },
    {
      "cell_type": "code",
      "source": [
        "from sklearn.ensemble import VotingClassifier\n",
        "from sklearn.metrics import accuracy_score, recall_score, precision_score\n",
        "\n",
        "voting = VotingClassifier(\n",
        "    estimators=[('forest', forest), ('extra', extra), ('svm', svm)],\n",
        "    voting='hard'\n",
        ")\n",
        "\n",
        "voting.fit(X_train, y_train)\n",
        "print(\"Hard Voting: \", voting.score(X_val, y_val))\n",
        "\n",
        "y_pred = voting.predict(X_test)\n",
        "print(\"Precision: \", precision_score(y_test, y_pred, average=\"macro\"))\n",
        "print(\"Recall: \", recall_score(y_test, y_pred, average=\"macro\"))\n",
        "print(\"Accuracy: \", accuracy_score(y_test, y_pred))"
      ],
      "metadata": {
        "colab": {
          "base_uri": "https://localhost:8080/"
        },
        "id": "zneCuQevOZSK",
        "outputId": "75bc352a-380d-43a2-f3ec-f5c54126f8d4"
      },
      "execution_count": 6,
      "outputs": [
        {
          "output_type": "stream",
          "name": "stdout",
          "text": [
            "Hard Voting:  0.9744\n",
            "Precision:  0.9716650493958658\n",
            "Recall:  0.9717022272239453\n",
            "Accuracy:  0.9719\n"
          ]
        }
      ]
    },
    {
      "cell_type": "code",
      "source": [
        "soft_voting = VotingClassifier(\n",
        "    estimators=[('forest', forest), ('extra', extra), ('svm', svm)],\n",
        "    voting='soft'\n",
        ")\n",
        "\n",
        "soft_voting.fit(X_train, y_train)\n",
        "print(\"Soft Voting: \", voting.score(X_val, y_val))\n",
        "\n",
        "y_pred = soft_voting.predict(X_test)\n",
        "print(\"Precision: \", precision_score(y_test, y_pred, average=\"macro\"))\n",
        "print(\"Recall: \", recall_score(y_test, y_pred, average=\"macro\"))\n",
        "print(\"Accuracy: \", accuracy_score(y_test, y_pred))"
      ],
      "metadata": {
        "colab": {
          "base_uri": "https://localhost:8080/"
        },
        "id": "m5i8J4ZnPexi",
        "outputId": "e6a822ca-599d-436f-b39b-75adacbc9963"
      },
      "execution_count": 7,
      "outputs": [
        {
          "output_type": "stream",
          "name": "stdout",
          "text": [
            "Soft Voting:  0.9744\n",
            "Precision:  0.977991765893132\n",
            "Recall:  0.9779256318151104\n",
            "Accuracy:  0.9781\n"
          ]
        }
      ]
    }
  ]
}