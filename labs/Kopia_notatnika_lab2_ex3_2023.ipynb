{
  "nbformat": 4,
  "nbformat_minor": 0,
  "metadata": {
    "kernelspec": {
      "display_name": "Python 3",
      "language": "python",
      "name": "python3"
    },
    "language_info": {
      "codemirror_mode": {
        "name": "ipython",
        "version": 3
      },
      "file_extension": ".py",
      "mimetype": "text/x-python",
      "name": "python",
      "nbconvert_exporter": "python",
      "pygments_lexer": "ipython3",
      "version": "3.7.9"
    },
    "colab": {
      "provenance": [],
      "toc_visible": true
    },
    "accelerator": "GPU",
    "gpuClass": "standard"
  },
  "cells": [
    {
      "cell_type": "markdown",
      "metadata": {
        "id": "_Lra10nA9O-W"
      },
      "source": [
        "##### AI TECH - Akademia Innowacyjnych Zastosowań Technologii Cyfrowych. Programu Operacyjnego Polska Cyfrowa na lata 2014-2020\n",
        "<hr>"
      ]
    },
    {
      "cell_type": "markdown",
      "metadata": {
        "id": "vRGpfS0W9O-e"
      },
      "source": [
        "<br>\n",
        "<br>\n",
        "<br>\n",
        "<br>\n",
        "<br>\n",
        "<br>\n",
        "<br>\n",
        "<center>\n",
        "    <h1 style = \"font-size:48px; font-weight:normal\"><b>AI</b>-TECH</h1>\n",
        "    <br>\n",
        "<br>\n",
        "<br>\n",
        "<br>\n",
        "    <h1 style = \"font-size:24px; font-weight:normal\">Przykład 3 DO LABORATORIUM 1</h1>\n",
        "    <h1 style = \"font-size:24px\">z UCZENIA MASZYNOWEGO</h1>\n",
        "    <h1 style = \"font-size:24px\">Klasyfikacja nadzorowana </h1>\n",
        "    <h1 style = \"font-size:24px\">Szymon Zaporowski</h1>\n",
        "    <h3 style = \"font-size:21px\">Regresja logistyczna, SVM i Drzewa Losowe - wykorzystanie danych z MNIST i tensorflow do porównania klasyfikatorów</h3>\n",
        "</center>\n",
        "<br>\n",
        "<br>\n",
        "<br>\n",
        "<br>\n",
        "<br>\n",
        "<br>\n",
        "<br>\n",
        "<br>\n",
        "<br>\n",
        "    </body>\n",
        "    </html>"
      ]
    },
    {
      "cell_type": "markdown",
      "metadata": {
        "id": "s9XWVqEB9O-h"
      },
      "source": [
        "![stopka.svg](stopka.svg)"
      ]
    },
    {
      "cell_type": "markdown",
      "metadata": {
        "id": "fwZlOvDm9O-i"
      },
      "source": [
        "<center>\n",
        "Projekt współfinansowany ze środków Unii Europejskiej w ramach Europejskiego Funduszu Rozwoju Regionalnego\n",
        "Program Operacyjny Polska Cyfrowa na lata 2014-2020,\n",
        "Oś Priorytetowa nr 3 \"Cyfrowe kompetencje społeczeństwa\" Działanie  nr 3.2 \"Innowacyjne rozwiązania na rzecz aktywizacji cyfrowej\"\n",
        "Tytuł projektu:  „Akademia Innowacyjnych Zastosowań Technologii Cyfrowych (AI Tech)”\n",
        "    </center>"
      ]
    },
    {
      "cell_type": "markdown",
      "metadata": {
        "id": "gfJ2T4qH9O-j"
      },
      "source": [
        "<hr>"
      ]
    },
    {
      "cell_type": "markdown",
      "metadata": {
        "id": "HhcPy3gJ9O-k"
      },
      "source": [
        "# 1. Przykład 3"
      ]
    },
    {
      "cell_type": "markdown",
      "metadata": {
        "id": "KubBhCNF9O-l"
      },
      "source": [
        "Aby porównać działanie Regresji Logistycznej i SVM oraz algorytmu lasów losowych posłużymy się przykładem, który został wykorzystany w trakcie poprzedniego laboratorium i pierwotnie dotyczył tylko regresji liniowej.\n",
        "Ponownie wykorzystany zostanie zbiór danych MNIST, który zawiera 70 tysięcy obrazków o rozdzielczości 28x28 w odcieniach szarości, który został zebrany przez Yann’a Lecun (http://yann.lecun.com/exdb/mnist/). Obrazki te zawierają zeskanowane zapisy cyfr: 0-9. Daje to do dyspozycji 10 klas (0-9).\n",
        "Zbiór ten można wczytać na wiele róznych sposobów do projektu, ale żeby uniknąć w tym momencie pewnego preprocessingu skorzystamy z możliwości biblioteki tensorflow.\n",
        "\n",
        "Podobnie jak poprzednio, do celów aktualnego ćwiczenia przemodelujemy opis klas do problemu binarnego w którym cyfry od 0 do 8 będą stanowić klasę 0, zaś klasę 1 będzie stanowić cyfry 9.\n"
      ]
    },
    {
      "cell_type": "code",
      "metadata": {
        "colab": {
          "base_uri": "https://localhost:8080/"
        },
        "id": "LQRFA_Yk9O-m",
        "outputId": "e09bd60d-46a7-4608-9585-49aa6369a3b5"
      },
      "source": [
        "# Import podstawowych bibliotek\n",
        "import numpy as np\n",
        "import matplotlib.pyplot as plt\n",
        "import matplotlib\n",
        "import keras\n",
        "import tensorflow as tf\n",
        "from sklearn.linear_model import LogisticRegression\n",
        "from io import StringIO\n",
        "import requests\n",
        "from random import randint\n",
        "from sklearn import svm #Zaimporotowanie modelu SVM z packietu sklearn\n",
        "from sklearn import metrics #Import modułu metrics z pakietu scikit-lear do policzenia miary dokładności klasyfikatora\n",
        "import seaborn as sns\n",
        "import pandas as pd\n",
        "print(tf.__version__)\n",
        "print('keras:',keras.__version__)\n"
      ],
      "execution_count": null,
      "outputs": [
        {
          "output_type": "stream",
          "name": "stdout",
          "text": [
            "2.12.0\n",
            "keras: 2.12.0\n"
          ]
        }
      ]
    },
    {
      "cell_type": "markdown",
      "metadata": {
        "id": "s61VvKYl9O-p"
      },
      "source": [
        "W takim rozwiązaniu, zbiór wejściowy jest wczytywany od razu z podziałem na zbiór treningowy (60000) oraz testowy (10000). Zbiór testowy zostanie wykorzystany później do oceny treningu i wyznaczenia miar błędów."
      ]
    },
    {
      "cell_type": "code",
      "metadata": {
        "colab": {
          "base_uri": "https://localhost:8080/"
        },
        "id": "AclvfqAQ9O-p",
        "outputId": "db6c8300-4c8d-47f9-e316-1b83e2c1a159"
      },
      "source": [
        "(X_train, y_train), (X_test, y_test) = tf.keras.datasets.mnist.load_data(path='mnist.npz')\n",
        "\n",
        "print(\"Training set size: \", X_train.shape)\n",
        "print(\"Test set size: \", X_test.shape)\n"
      ],
      "execution_count": null,
      "outputs": [
        {
          "output_type": "stream",
          "name": "stdout",
          "text": [
            "Downloading data from https://storage.googleapis.com/tensorflow/tf-keras-datasets/mnist.npz\n",
            "11490434/11490434 [==============================] - 1s 0us/step\n",
            "Training set size:  (60000, 28, 28)\n",
            "Test set size:  (10000, 28, 28)\n"
          ]
        }
      ]
    },
    {
      "cell_type": "markdown",
      "metadata": {
        "id": "I4-OBreW9O-q"
      },
      "source": [
        "Do celów aktualnego ćwiczenia przemodelujemy opis klas, tak aby uzyskać problem binarny, w którym cyfry od 0 do 8 będą stanowić klasę 0, zaś klasę 1 będzie stanowić cyfry 9."
      ]
    },
    {
      "cell_type": "code",
      "metadata": {
        "id": "1vnWz7wE9O-t"
      },
      "source": [
        "y_train_binary = np.where(y_train < 9, 0.0, 1.0).reshape(y_train.shape[0], 1)\n",
        "y_train_binary = y_train_binary.astype('float32')"
      ],
      "execution_count": null,
      "outputs": []
    },
    {
      "cell_type": "markdown",
      "metadata": {
        "id": "vUR9Iddn9O-u"
      },
      "source": [
        "Dane wejściowe traktujemy jako zbiór cech, stąd \"spłaszczamy\" reprezentację 2D do reprezentacji 1D (28*28 -> 784).\n",
        "Taka spłaszczona reprezentacja obrazka przemnożona przez ilość obrazków występujących w rozważanym zbiorze daje nam wektor, który jest łatwiejszy do przetwarzania przez algorytmy uczenia maszynowego. Wartości te zostają również znormalizowane do przedziału [0,1]."
      ]
    },
    {
      "cell_type": "code",
      "metadata": {
        "colab": {
          "base_uri": "https://localhost:8080/"
        },
        "id": "Vr-VP-C49O-u",
        "outputId": "2b8218bb-bccc-41fc-bdd2-90d62ff2fab5"
      },
      "source": [
        "#przygotowanie danych treningowych jako wektor znormalizowany\n",
        "X_train_flat = X_train.reshape((X_train.shape[0], X_train.shape[1]*X_train.shape[2]))\n",
        "X_train_flat = X_train_flat.astype('float32')/255.0\n",
        "print(\"Input dataset shape: \", X_train_flat.shape)\n",
        "\n",
        "#przygotowanie danych testowych jako wektor znormalizowany\n",
        "y_test_binary = np.where(y_test < 9, 0.0, 1.0).reshape(y_test.shape[0], 1)\n",
        "y_test_binary = y_test_binary.astype('float32').flatten()\n",
        "X_test_flat = X_test.reshape((X_test.shape[0], X_test.shape[1]*X_test.shape[2]))\n",
        "X_test_flat = X_test_flat.astype('float32')/255.0\n",
        "print(\"Test dataset shape: \", X_test_flat.shape)"
      ],
      "execution_count": null,
      "outputs": [
        {
          "output_type": "stream",
          "name": "stdout",
          "text": [
            "Input dataset shape:  (60000, 784)\n",
            "Test dataset shape:  (10000, 784)\n"
          ]
        }
      ]
    },
    {
      "cell_type": "markdown",
      "metadata": {
        "id": "BeLqs3QQ9O-v"
      },
      "source": [
        "Przykładowy obraz z bazy danych, jego oryginalna etykieta oraz aktualna przynależność do klasy została przedsatwiona w poniższej sekcji."
      ]
    },
    {
      "cell_type": "code",
      "metadata": {
        "colab": {
          "base_uri": "https://localhost:8080/",
          "height": 466
        },
        "id": "JMRYbU_J9O-v",
        "outputId": "d366c616-759a-4d1d-e3d6-a57634b89dfc"
      },
      "source": [
        "example = randint(0, 100)\n",
        "plt.imshow(X_train[example], cmap=\"gray\")\n",
        "print(\"True orginal label :\", y_train[example])\n",
        "print(\"True binary label :\", y_train_binary[example])"
      ],
      "execution_count": null,
      "outputs": [
        {
          "output_type": "stream",
          "name": "stdout",
          "text": [
            "True orginal label : 7\n",
            "True binary label : [0.]\n"
          ]
        },
        {
          "output_type": "display_data",
          "data": {
            "text/plain": [
              "<Figure size 640x480 with 1 Axes>"
            ],
            "image/png": "[encoded data removed]"
          },
          "metadata": {}
        }
      ]
    },
    {
      "cell_type": "markdown",
      "metadata": {
        "id": "HtzDtfKC9O-w"
      },
      "source": [
        "W tym kroku dopasowujemy model regresji logistycznej do \"spłaszczonych\" danych wejściowych oraz prezentujemy wynik predykcji dla zbioru danych testowych"
      ]
    },
    {
      "cell_type": "code",
      "metadata": {
        "colab": {
          "base_uri": "https://localhost:8080/"
        },
        "id": "Fdj6TLj09O-w",
        "outputId": "c214a1ba-575e-4dd5-87c9-831fb0dd6ed2"
      },
      "source": [
        "model = LogisticRegression(solver='newton-cg',random_state=0).fit(X_train_flat, y_train_binary.flatten())\n",
        "\n",
        "print(\"Wynik ewaluacji wytrenowanego modelu: \", model.score(X_test_flat, y_test_binary.flatten()))"
      ],
      "execution_count": null,
      "outputs": [
        {
          "output_type": "stream",
          "name": "stdout",
          "text": [
            "Wynik ewaluacji wytrenowanego modelu:  0.9674\n"
          ]
        },
        {
          "output_type": "stream",
          "name": "stderr",
          "text": [
            "/usr/local/lib/python3.9/dist-packages/scipy/optimize/_linesearch.py:306: LineSearchWarning: The line search algorithm did not converge\n",
            "  warn('The line search algorithm did not converge', LineSearchWarning)\n",
            "/usr/local/lib/python3.9/dist-packages/sklearn/utils/optimize.py:203: UserWarning: Line Search failed\n",
            "  warnings.warn(\"Line Search failed\")\n"
          ]
        }
      ]
    },
    {
      "cell_type": "markdown",
      "metadata": {
        "id": "1-rZL2hg9O-x"
      },
      "source": [
        "Mając wytrenowany model można go użyć do oceny prognozy $p$ innego wektora wejściowego. Dodatkowo doknamy predykcji dla całego zbioru testowego."
      ]
    },
    {
      "cell_type": "code",
      "metadata": {
        "colab": {
          "base_uri": "https://localhost:8080/",
          "height": 484
        },
        "id": "RnAZxfoK9O-x",
        "outputId": "469bb6b0-38ca-4a8e-c109-c4561eb32bfc"
      },
      "source": [
        "test_example = 9\n",
        "p = model.predict(X_test_flat[test_example:test_example+1])\n",
        "\n",
        "# Wyswietlenie wartości prognozy (\"prawdopodobieństwa\") p z przedziału [0,1]\n",
        "print(\"Wartość prognozy dla wybranego przypadku: \", p)\n",
        "print(\"Prawdziwa etykieta klasy dla wybranego przypadku: \", int(y_test_binary[test_example]))\n",
        "#Predykcja odpowiedzi modelu na dane testowe\n",
        "\n",
        "# Użycie wartości progu w celu przypisania do odpowiednich klas\n",
        "predicted_class = 0 if p < 0.5 else 1\n",
        "print(\"Przewidywana etykieta klasy dla wybranego przypadku: \", predicted_class)\n",
        "\n",
        "plt.imshow(X_test[test_example], cmap=\"gray\")\n",
        "\n",
        "y_pred = model.predict(X_test_flat) # Predykcja dla całego zbioru testowego"
      ],
      "execution_count": null,
      "outputs": [
        {
          "output_type": "stream",
          "name": "stdout",
          "text": [
            "Wartość prognozy dla wybranego przypadku:  [1.]\n",
            "Prawdziwa etykieta klasy dla wybranego przypadku:  1\n",
            "Przewidywana etykieta klasy dla wybranego przypadku:  1\n"
          ]
        },
        {
          "output_type": "display_data",
          "data": {
            "text/plain": [
              "<Figure size 640x480 with 1 Axes>"
            ],
            "image/png": "[encoded data removed]"
          },
          "metadata": {}
        }
      ]
    },
    {
      "cell_type": "markdown",
      "metadata": {
        "id": "C7WJfIEOKDyZ"
      },
      "source": [
        "Sprawdzimy jak wyglądają wyniki z wykorzystaniem macierzy pomyłek"
      ]
    },
    {
      "cell_type": "code",
      "metadata": {
        "colab": {
          "base_uri": "https://localhost:8080/",
          "height": 569
        },
        "id": "xhGY1IqkQheN",
        "outputId": "4665dd13-9851-4244-8004-a624748ca49a"
      },
      "source": [
        "#Tworzenie macierzy pomyłek dla testowanego klasfikatora\n",
        "cnf_matrix = metrics.confusion_matrix(y_test_binary, y_pred)\n",
        "cnf_matrix\n",
        "class_names=[0,1] # nazwy klas\n",
        "fig, ax = plt.subplots()\n",
        "tick_marks = np.arange(len(class_names))\n",
        "plt.xticks(tick_marks, class_names)\n",
        "plt.yticks(tick_marks, class_names)\n",
        "# tworzenie mapy cieplnej\n",
        "sns.heatmap(pd.DataFrame(cnf_matrix), annot=True ,fmt='g')\n",
        "ax.xaxis.set_label_position(\"top\")\n",
        "plt.tight_layout()\n",
        "plt.title('Macierz pomyłek', y=1.1)\n",
        "plt.ylabel('Rzeczywista etykieta')\n",
        "plt.xlabel('Etykieta przewidziana przez model')"
      ],
      "execution_count": null,
      "outputs": [
        {
          "output_type": "execute_result",
          "data": {
            "text/plain": [
              "Text(0.5, 427.9555555555555, 'Etykieta przewidziana przez model')"
            ]
          },
          "metadata": {},
          "execution_count": 9
        },
        {
          "output_type": "display_data",
          "data": {
            "text/plain": [
              "<Figure size 640x480 with 2 Axes>"
            ],
            "image/png": "[encoded data removed]"
          },
          "metadata": {}
        }
      ]
    },
    {
      "cell_type": "markdown",
      "metadata": {
        "id": "q_xvSmgNKHAE"
      },
      "source": [
        "Po macierzy pomyłek widać, że zgodnie z założeniami otrzymujemy wyniki tylko w obrębie dwóch klas - 0 oraz 1. Można jednak zauważyć, że przez dokonanie ingerencji w klasy obecnie klasa 0 zawiera znacznie więcej przykładów niż klasa 1. Do czego to prowadzi będzie dokładnie widać po obliczeniu metryk precission i recall.\n",
        "Inicjalizujemy klasyfiokator oparty o SVM, podobnie jak to było w przykładzie 1."
      ]
    },
    {
      "cell_type": "code",
      "metadata": {
        "colab": {
          "base_uri": "https://localhost:8080/"
        },
        "id": "EihfZRn5HC--",
        "outputId": "bf5d8b14-0c9b-4341-dde5-1968df891002"
      },
      "source": [
        "clf = svm.SVC(C=10, kernel='poly',degree=5, probability=False, max_iter=10, decision_function_shape='ovo')\n",
        "#Trening modelu z wykorzystaniem danych treningowych\n",
        "clf.fit(X_train_flat, y_train_binary.flatten())\n",
        "#Predykcja odpowiedzi modelu na dane testowe\n",
        "y_pred = clf.predict(X_test_flat)"
      ],
      "execution_count": null,
      "outputs": [
        {
          "output_type": "stream",
          "name": "stderr",
          "text": [
            "/usr/local/lib/python3.9/dist-packages/sklearn/svm/_base.py:299: ConvergenceWarning: Solver terminated early (max_iter=10).  Consider pre-processing your data with StandardScaler or MinMaxScaler.\n",
            "  warnings.warn(\n"
          ]
        }
      ]
    },
    {
      "cell_type": "markdown",
      "metadata": {
        "id": "TofO-xlTKURc"
      },
      "source": [
        "Dokonujemy obliczeń miar: accuracy, precision i recall."
      ]
    },
    {
      "cell_type": "code",
      "metadata": {
        "colab": {
          "base_uri": "https://localhost:8080/"
        },
        "id": "hFXk2ZiTHkJ6",
        "outputId": "f69874bc-c466-4079-8e3f-b7e4ab4097a3"
      },
      "source": [
        "# Obliczenie dokładności klasyfikatora, jak często klasyfikator klasyfikuje poprawnie\n",
        "print(\"Miara accuracy:\",metrics.accuracy_score(y_test_binary, y_pred))\n",
        "y_score = clf.decision_function(X_test_flat)\n",
        "# Obliczenia wartości miary precisson dla modelu: (precission to stosunek wartości prawdziwie pozytywnych wyników do sumy wartości prawdzwie pozytywnych wyników i wyników fałszywie pozytywnych\n",
        "print(\"Wartość miary precission dla wytrenowanego modelu:\",metrics.precision_score(y_test_binary, y_pred, average=\"weighted\"))\n",
        "# Obliczenia wartości miary recall dla modelu: (recal to stosunek wartości prawdziwie pozytywnych wyników do sumy wyników prawdziwie pozytywnych i fałszywie negatywnych)\n",
        "print(\"Wartość miary recall dla wytrenowanego modelu:\",metrics.recall_score(y_test_binary, y_pred, average=\"weighted\"))"
      ],
      "execution_count": null,
      "outputs": [
        {
          "output_type": "stream",
          "name": "stdout",
          "text": [
            "Miara accuracy: 0.1684\n",
            "Wartość miary precission dla wytrenowanego modelu: 0.8485487486387226\n",
            "Wartość miary recall dla wytrenowanego modelu: 0.1684\n"
          ]
        }
      ]
    },
    {
      "cell_type": "markdown",
      "metadata": {
        "id": "u1yK3eKfaLMO"
      },
      "source": [
        "Po dokonaniu klasyfikacji z użyciem SVM widać, iż metryka accuracy jest na całkiem niezłym poziomie i wynosi ponad 80%. Patrząc tylko na tę metrykę można przypuszczać, iż model sprawuje się całkiem dobrze. Zwracając jednak uwage na pozostałe metryki widać dosyć niepokojące wartości - oscylujące w granicach poniżej 0.16. Oznacza to, iż ze względu na dysproporcję w danych i przewagę ilość danych w jednej klasie klasyfikator zaczyna dokonywać"
      ]
    },
    {
      "cell_type": "markdown",
      "metadata": {
        "id": "WePJgF_8KbkJ"
      },
      "source": [
        "Dla pewności obliczny jeszcze macierz pomyłek - można będzie bezpośrednio porównać Regresję Liniową z SVM."
      ]
    },
    {
      "cell_type": "code",
      "metadata": {
        "colab": {
          "base_uri": "https://localhost:8080/",
          "height": 569
        },
        "id": "CskpbtG0M6Gh",
        "outputId": "53b08771-b429-4490-aac5-21da96fbc665"
      },
      "source": [
        "#Tworzenie macierzy pomyłek dla testowanego klasfikatora\n",
        "cnf_matrix = metrics.confusion_matrix(y_test_binary, y_pred)\n",
        "cnf_matrix\n",
        "class_names=[0,1] # nazwy klas\n",
        "fig, ax = plt.subplots()\n",
        "tick_marks = np.arange(len(class_names))\n",
        "plt.xticks(tick_marks, class_names)\n",
        "plt.yticks(tick_marks, class_names)\n",
        "# tworzenie mapy cieplnej\n",
        "sns.heatmap(pd.DataFrame(cnf_matrix), annot=True ,fmt='g')\n",
        "ax.xaxis.set_label_position(\"top\")\n",
        "plt.tight_layout()\n",
        "plt.title('Macierz pomyłek', y=1.1)\n",
        "plt.ylabel('Rzeczywista etykieta')\n",
        "plt.xlabel('Etykieta przewidziana przez model')"
      ],
      "execution_count": null,
      "outputs": [
        {
          "output_type": "execute_result",
          "data": {
            "text/plain": [
              "Text(0.5, 427.9555555555555, 'Etykieta przewidziana przez model')"
            ]
          },
          "metadata": {},
          "execution_count": 13
        },
        {
          "output_type": "display_data",
          "data": {
            "text/plain": [
              "<Figure size 640x480 with 2 Axes>"
            ],
            "image/png": "[encoded data removed]"
          },
          "metadata": {}
        }
      ]
    },
    {
      "cell_type": "markdown",
      "metadata": {
        "id": "ckfaJGJCz1vQ"
      },
      "source": [
        "Dodajmy jeszcze klasyfikator oparty o algortym lasów losowych"
      ]
    },
    {
      "cell_type": "code",
      "metadata": {
        "id": "T9XqmD5guoGo"
      },
      "source": [
        "from sklearn.ensemble import RandomForestClassifier\n",
        "\n",
        "from sklearn.tree import DecisionTreeClassifier\n",
        "from sklearn.datasets import make_classification\n",
        "from sklearn.metrics import accuracy_score, confusion_matrix, classification_report"
      ],
      "execution_count": null,
      "outputs": []
    },
    {
      "cell_type": "markdown",
      "metadata": {
        "id": "Fdb4HuZcz7B1"
      },
      "source": [
        "Dokonamy od razu incicjalizacji i predykcji z użcyiem tego algorytmu i otrzymamy miarę accuracy."
      ]
    },
    {
      "cell_type": "code",
      "metadata": {
        "colab": {
          "base_uri": "https://localhost:8080/"
        },
        "id": "0j8AWCiKupH1",
        "outputId": "9a385327-c31c-422c-e92c-a5c567baf67e"
      },
      "source": [
        "rf = RandomForestClassifier(n_estimators = 100, random_state = 42)\n",
        "rf.fit(X_train_flat, y_train_binary.flatten());\n",
        "predictions_forest = rf.predict(X_test_flat)\n",
        "print('Wynik dla miary accuracy:')\n",
        "accuracy_score(y_test_binary, predictions_forest)"
      ],
      "execution_count": null,
      "outputs": [
        {
          "output_type": "stream",
          "name": "stdout",
          "text": [
            "Wynik dla miary accuracy:\n"
          ]
        },
        {
          "output_type": "execute_result",
          "data": {
            "text/plain": [
              "0.9844"
            ]
          },
          "metadata": {},
          "execution_count": 15
        }
      ]
    },
    {
      "cell_type": "markdown",
      "metadata": {
        "id": "Z-NAvV-q0BjI"
      },
      "source": [
        "Miara accuracy wygląda bardzo dobrze, szczególnie porównując z pozostałymi klasyfikatorami. A jak wyglądają pozostałe miary?"
      ]
    },
    {
      "cell_type": "code",
      "metadata": {
        "colab": {
          "base_uri": "https://localhost:8080/"
        },
        "id": "DOHJ8ZSWwMX3",
        "outputId": "0b49cbd8-27dd-4551-ff48-0e1df4043421"
      },
      "source": [
        "classification_report(y_test_binary, predictions_forest, output_dict= True, target_names=[0,1])"
      ],
      "execution_count": null,
      "outputs": [
        {
          "output_type": "execute_result",
          "data": {
            "text/plain": [
              "{0: {'precision': 0.9844281171181051,\n",
              "  'recall': 0.9984428873317762,\n",
              "  'f1-score': 0.9913859745996687,\n",
              "  'support': 8991},\n",
              " 1: {'precision': 0.9841089670828603,\n",
              "  'recall': 0.8592666005946482,\n",
              "  'f1-score': 0.9174603174603174,\n",
              "  'support': 1009},\n",
              " 'accuracy': 0.9844,\n",
              " 'macro avg': {'precision': 0.9842685421004826,\n",
              "  'recall': 0.9288547439632122,\n",
              "  'f1-score': 0.954423146029993,\n",
              "  'support': 10000},\n",
              " 'weighted avg': {'precision': 0.9843959148795489,\n",
              "  'recall': 0.9844,\n",
              "  'f1-score': 0.9839268757943083,\n",
              "  'support': 10000}}"
            ]
          },
          "metadata": {},
          "execution_count": 16
        }
      ]
    },
    {
      "cell_type": "markdown",
      "metadata": {
        "id": "IF7kM-lt9O-x"
      },
      "source": [
        "# Zadania do wykonania"
      ]
    },
    {
      "cell_type": "markdown",
      "metadata": {
        "id": "qcrULnXf9O-x"
      },
      "source": [
        "<p><b>Zadanie 1</b></p>\n",
        "Przeprowadź eksperyment, porównaj klasyfikację z wykorzystaniem regresji logistycznej oraz z SVM  i algorytmem lasów losowych. Zmień nastawy klasyfikatora SVM i przetestuj wszystkie funkcje jądra. Zrób podobnie dla lasów losowych wykorzystując wiedzę zdobytą w przykłądzie 2. Które nastawy sprawują się najlepiej, a które mają problemy?\n",
        "\n",
        "<p><b>Zadanie 2</b></p>\n",
        "Zmień przyporządkowanie do klas i sprawdź jak wpłynie to na wyniki klasyfikacji z wykorzystaniem SVM i lasów losowych. Zwróć szczególną uwagę na to w jaki sposób zmieniają się metryki po ponownym treningu. Jak wyjaśnisz różnicę między metrykami preccison i recall dla SVM?\n"
      ]
    },
    {
      "cell_type": "markdown",
      "metadata": {
        "id": "QSsk3AD59O-y"
      },
      "source": [
        "![stopka.svg](stopka.svg)"
      ]
    }
  ]
}