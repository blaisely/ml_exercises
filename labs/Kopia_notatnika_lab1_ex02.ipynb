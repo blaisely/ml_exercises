{
  "cells": [
    {
      "cell_type": "markdown",
      "metadata": {
        "id": "EDOURP8bTS_n"
      },
      "source": [
        "##### AI TECH - Akademia Innowacyjnych Zastosowań Technologii Cyfrowych. Programu Operacyjnego Polska Cyfrowa na lata 2014-2020\n",
        "<hr>"
      ]
    },
    {
      "cell_type": "markdown",
      "metadata": {
        "id": "SgUkC_urTS_r"
      },
      "source": [
        "## <br>\n",
        "<br>\n",
        "<br>\n",
        "<br>\n",
        "<br>\n",
        "<br>\n",
        "<br>\n",
        "<center>\n",
        "    <h1 style = \"font-size:48px; font-weight:normal\"><b>AI</b>-TECH</h1>\n",
        "    <br>\n",
        "<br>\n",
        "<br>\n",
        "<br>\n",
        "    <h1 style = \"font-size:24px; font-weight:normal\">Przykład 2 DO LABORATORIUM 1</h1>\n",
        "    <h1 style = \"font-size:24px\">z UCZENIA MASZYNOWEGO</h1>\n",
        "    <h1 style = \"font-size:24px\">Regresja liniowa i logistyczna</h1>\n",
        "    <h1 style = \"font-size:24px\">Tomasz Neumann</h1>\n",
        "    <h3 style = \"font-size:21px\">Metoda gradientu prostego</h3>\n",
        "</center>\n",
        "<br>\n",
        "<br>\n",
        "<br>\n",
        "<br>\n",
        "<br>\n",
        "<br>\n",
        "<br>\n",
        "<br>\n",
        "<br>\n",
        "    </body>\n",
        "    </html>"
      ]
    },
    {
      "cell_type": "code",
      "source": [
        "#@title\n",
        "%%html\n",
        "<iframe src=\"https://www.polskacyfrowa.gov.pl/media/48246/FE_POPC_poziom_pl-1_rgb.jpg\" width=\"800\"></iframe>"
      ],
      "metadata": {
        "colab": {
          "base_uri": "https://localhost:8080/",
          "height": 174
        },
        "cellView": "form",
        "id": "dk2UgVYiWQjz",
        "outputId": "1f9c1af2-8b58-4980-baa5-bfa0736cc276"
      },
      "execution_count": null,
      "outputs": [
        {
          "output_type": "display_data",
          "data": {
            "text/plain": [
              "<IPython.core.display.HTML object>"
            ],
            "text/html": [
              "<iframe src=\"https://www.polskacyfrowa.gov.pl/media/48246/FE_POPC_poziom_pl-1_rgb.jpg\" width=\"800\"></iframe>"
            ]
          },
          "metadata": {}
        }
      ]
    },
    {
      "cell_type": "markdown",
      "metadata": {
        "id": "IoEwGXuUTS_v"
      },
      "source": [
        "<center>\n",
        "Projekt współfinansowany ze środków Unii Europejskiej w ramach Europejskiego Funduszu Rozwoju Regionalnego\n",
        "Program Operacyjny Polska Cyfrowa na lata 2014-2020,\n",
        "Oś Priorytetowa nr 3 \"Cyfrowe kompetencje społeczeństwa\" Działanie  nr 3.2 \"Innowacyjne rozwiązania na rzecz aktywizacji cyfrowej\"\n",
        "Tytuł projektu:  „Akademia Innowacyjnych Zastosowań Technologii Cyfrowych (AI Tech)”\n",
        "    </center>"
      ]
    },
    {
      "cell_type": "markdown",
      "metadata": {
        "id": "-witUXL9TS_x"
      },
      "source": [
        "<hr>"
      ]
    },
    {
      "cell_type": "markdown",
      "metadata": {
        "id": "bJmBxxOpTS_y"
      },
      "source": [
        "# 1. Przykład 2"
      ]
    },
    {
      "cell_type": "markdown",
      "metadata": {
        "id": "fS4NiXK3TS_z"
      },
      "source": [
        "Metoda gradientu prostego (<i>gradient descent</i>) polega na wielokrotnym poprawieniu wartości parametrów w celu zminimalizowania funkcji kosztu. W metodzie tej na początku inicjujemy losowymi wartościami wektor parametrów $\\theta$, a następnie za pomocą 'małych kroków' dążymy do zredukowania funkcji kosztu (np. wspomnianej w poprzednim przykładzie MSE), aż do momentu uzyskania zbieżności algorytmu z wartością minimalną tejże funkcji.\n",
        "W metodzie tej ważny jest rozmiar poszczególnych 'kroków', który opisywany jest za pomocą hiperparametru określanego jako współczynnik uczenia (<i>learning rate</i>). Przy wyborze tej wartości należy mieć na uwadze, aby nie była zbyt mała, gdyż algorytm wówczas będzie potrzebował bardzo dużo przebiegów do osiągnięcia oczekiwanej wartości, a co za tym idzie będzie to czasochłonne. Zbyt duża wartość może doprowadzić natomiast do sytuacji w której nastąpi przeoczenie minimum, jednocześnie znajdująć się po drugiej stronie tej doliny, nawet z wartością większą niż początkową. W konsekwencji może doprowadzić do rozbieżności pracy algorytmu, a co za tym idzie, nie będzie można znaleźć rozwiązania.\n",
        "Należy także mieć na uwadze wybór funkcji kosztu do minimalizacji, gdyż nie wszystkie mają 'ładny kształ' , posiadając minima lokalne, minima globalne i wypłaszczenia, co w przypadku różnych losowych inicjacji poczatkowych, może nie doprowadzić do osiągnięcia globalnego minimum.\n",
        "W przypadku modelu regresji liniowej funkcja kosztu jest wypukła, stąd nie ma minimów lokalnych (wybór dwóch różnych punktów na jej przebiegu, nigdy nie przetnie się z tą krzywą), stąd istnieje jedno minimum globalne. Dlatego metoda gradientu prostego pozwala na zbliżenie się do minimum globalnego przy odpowiedniej wartości współczynnika uczenia oraz po wystarczająco długim czasie, co zostanie przedstawione w dalszych fragmentach kodu.\n",
        "W celu implementacji metody gradientu prostego, należy obliczyć gradient funkcji kosztu (jej zmianę) przy niewielkiej modyfikacji parametru $\\theta_j$\n",
        "$$\\dfrac{\\partial}{\\partial \\theta_j}MSE(\\boldsymbol\\theta) = \\dfrac{2}{m}\\sum_{i=1}^{m}\\big(\\boldsymbol{\\theta}^T\\mathbf{x}^{i} - y^{(i)}\\big)x_j^{(i)},$$\n",
        "lub wyliczyć wszystkie od razu\n",
        "$$\\nabla_{\\theta}MSE(\\boldsymbol\\theta) = \\dfrac{2}{m}\\mathbf{X}^T(\\mathbf{X}\\theta -\\mathbf{y}).$$\n",
        "Z powyższych wyliczeń można określić krok gradientu prostego, wykorzystując wcześniej wspomniany współczynnik uczenia\n",
        "$$\\boldsymbol{\\theta}^{(i+1)} = \\boldsymbol{\\theta}^{(i)} - \\eta \\nabla_{\\theta}MSE(\\boldsymbol\\theta).$$\n",
        "Przykład rozpoczynamy od dołączenia bibliotek ułatwiających dalszą implementację"
      ]
    },
    {
      "cell_type": "code",
      "execution_count": null,
      "metadata": {
        "id": "0FInmNAYTS_0"
      },
      "outputs": [],
      "source": [
        "# Import podstawowych bibliotek języka Python\n",
        "import numpy as np  # operacje numeryczne\n",
        "import matplotlib  # wykresy i ich ustawienia\n",
        "import matplotlib.pyplot as plt  # tworzenie wykresu"
      ]
    },
    {
      "cell_type": "markdown",
      "metadata": {
        "id": "F9_SbPnoTS_1"
      },
      "source": [
        "a następnie od zdefiniowania modelu oraz jego gradientu jak i ustaleniu początkowych wartości brzegowych."
      ]
    },
    {
      "cell_type": "code",
      "execution_count": null,
      "metadata": {
        "id": "ouBtwD4FTS_2"
      },
      "outputs": [],
      "source": [
        "# Zdefiniowanie modelu\n",
        "def model(a):\n",
        "    return a**2\n",
        "\n",
        "\n",
        "# Wyliczenie gradientu funkcji z modelu\n",
        "def df(a):\n",
        "    return 2 * a\n",
        "\n",
        "\n",
        "# Inicjalizacja punktu początkowego\n",
        "xs = 4\n",
        "y = model(xs)"
      ]
    },
    {
      "cell_type": "markdown",
      "metadata": {
        "id": "CziHSEFeTS_3"
      },
      "source": [
        "W tym kroku zostaną zdefiniowane wartości parametrów optymalizujących, takich jak współczynnik uczenia oraz wartość prezycji, przy której zostaną zakończone wyliczenia oraz tablica, która będzie przechowywać wartości $x$ i $y$ po poszczególnych iteracjach."
      ]
    },
    {
      "cell_type": "code",
      "execution_count": null,
      "metadata": {
        "id": "tdgZRMQgTS_4",
        "colab": {
          "base_uri": "https://localhost:8080/"
        },
        "outputId": "23fe6d4c-6a3e-4c3e-e4b8-7eb8e9a4b7db"
      },
      "outputs": [
        {
          "output_type": "stream",
          "name": "stdout",
          "text": [
            "[ 4. 16.]\n"
          ]
        }
      ],
      "source": [
        "# Zdefiniowanie parametrów optymalizujących\n",
        "eta = 0.05  # współczynnik uczenia (learning rate)\n",
        "precision = 0.001  # wartość progu dla bezwzględnej różnicy między poprzednim x a aktualnym x\n",
        "\n",
        "x = xs\n",
        "step_size = abs(x)\n",
        "\n",
        "dataset = np.array([])\n",
        "dataset = np.append(dataset, [x, y])\n",
        "print(dataset)"
      ]
    },
    {
      "cell_type": "markdown",
      "metadata": {
        "id": "170w3HOfTS_4"
      },
      "source": [
        "Poniższa pętla będzie wykonywała się, aż nie zostanie osiągniety pewien próg dokładności."
      ]
    },
    {
      "cell_type": "code",
      "execution_count": null,
      "metadata": {
        "id": "gWiAh-12TS_5",
        "outputId": "6660b754-5a8a-49cf-b5a3-c45cc557f23c",
        "colab": {
          "base_uri": "https://localhost:8080/"
        }
      },
      "outputs": [
        {
          "output_type": "stream",
          "name": "stdout",
          "text": [
            "Actual x 3.6\n",
            "\n",
            "Actual x 3.24\n",
            "\n",
            "Actual x 2.9160000000000004\n",
            "\n",
            "Actual x 2.6244000000000005\n",
            "\n",
            "Actual x 2.3619600000000003\n",
            "\n",
            "Actual x 2.125764\n",
            "\n",
            "Actual x 1.9131876\n",
            "\n",
            "Actual x 1.72186884\n",
            "\n",
            "Actual x 1.549681956\n",
            "\n",
            "Actual x 1.3947137604\n",
            "\n",
            "Actual x 1.25524238436\n",
            "\n",
            "Actual x 1.129718145924\n",
            "\n",
            "Actual x 1.0167463313316\n",
            "\n",
            "Actual x 0.91507169819844\n",
            "\n",
            "Actual x 0.8235645283785961\n",
            "\n",
            "Actual x 0.7412080755407364\n",
            "\n",
            "Actual x 0.6670872679866627\n",
            "\n",
            "Actual x 0.6003785411879965\n",
            "\n",
            "Actual x 0.5403406870691968\n",
            "\n",
            "Actual x 0.4863066183622771\n",
            "\n",
            "Actual x 0.4376759565260494\n",
            "\n",
            "Actual x 0.39390836087344444\n",
            "\n",
            "Actual x 0.3545175247861\n",
            "\n",
            "Actual x 0.31906577230749\n",
            "\n",
            "Actual x 0.287159195076741\n",
            "\n",
            "Actual x 0.2584432755690669\n",
            "\n",
            "Actual x 0.2325989480121602\n",
            "\n",
            "Actual x 0.20933905321094418\n",
            "\n",
            "Actual x 0.18840514788984974\n",
            "\n",
            "Actual x 0.16956463310086478\n",
            "\n",
            "Actual x 0.1526081697907783\n",
            "\n",
            "Actual x 0.13734735281170046\n",
            "\n",
            "Actual x 0.12361261753053042\n",
            "\n",
            "Actual x 0.11125135577747738\n",
            "\n",
            "Actual x 0.10012622019972964\n",
            "\n",
            "Actual x 0.09011359817975667\n",
            "\n",
            "Actual x 0.081102238361781\n",
            "\n",
            "Actual x 0.0729920145256029\n",
            "\n",
            "Actual x 0.06569281307304262\n",
            "\n",
            "Actual x 0.059123531765738355\n",
            "\n",
            "Actual x 0.05321117858916452\n",
            "\n",
            "Actual x 0.04789006073024807\n",
            "\n",
            "Actual x 0.04310105465722326\n",
            "\n",
            "Actual x 0.03879094919150094\n",
            "\n",
            "Actual x 0.03491185427235084\n",
            "\n",
            "Actual x 0.03142066884511576\n",
            "\n",
            "Actual x 0.028278601960604183\n",
            "\n",
            "Actual x 0.025450741764543764\n",
            "\n",
            "Actual x 0.022905667588089387\n",
            "\n",
            "Actual x 0.020615100829280447\n",
            "\n",
            "Actual x 0.018553590746352402\n",
            "\n",
            "Actual x 0.016698231671717162\n",
            "\n",
            "Actual x 0.015028408504545445\n",
            "\n",
            "Actual x 0.013525567654090902\n",
            "\n",
            "Actual x 0.012173010888681812\n",
            "\n",
            "Actual x 0.010955709799813631\n",
            "\n",
            "Actual x 0.009860138819832269\n",
            "\n",
            "Actual x 0.008874124937849042\n",
            "\n"
          ]
        }
      ],
      "source": [
        "i = 0 #licznik kroków\n",
        "\n",
        "# chcemy znaleźć takie x, dla których y będzie minimalne\n",
        "# dla wartości początkowych\n",
        "x_min = xs\n",
        "y_min = y\n",
        "\n",
        "while step_size > precision:\n",
        "    x_p = x                       # zapamiętanie poprzedniej wartości x\n",
        "    x = x_p - eta * df(x_p)         # zaktualizowanie wartości x\n",
        "    print(\"Actual x {}\\n\".format(x))\n",
        "    step_size = abs(x - x_p)      # wyliczenie zmiany pomiędzy x a x_p\n",
        "    y = model(x)                  # obliczenie aktualnej wartości y dla aktualnego x\n",
        "    # warunek sprawdzający, czy y jest minimalny?\n",
        "    if y < y_min:\n",
        "      y_min = y\n",
        "      x_min = x\n",
        "    dataset = np.append(dataset, [x, y])\n",
        "    i = i+1"
      ]
    },
    {
      "cell_type": "markdown",
      "metadata": {
        "id": "XiBaHBW5TS_6"
      },
      "source": [
        "Poniższa funkcja umożliwia w dalszej części zwizualizować początkowe dane wejściowe z tymi które zostały uzyskane za pomocą algorytmu optymalizującego."
      ]
    },
    {
      "cell_type": "code",
      "execution_count": null,
      "metadata": {
        "id": "MB-wBZFgTS_7"
      },
      "outputs": [],
      "source": [
        "#@title <p> <i>plot_data(points, f, x_m)</i> - funkcja pozwalająca wyświetlic działanie algorytmu optymalizującego metodą gradientu prostego</p>\n",
        "# Wykreślenie funkcji i punktów specjalnych\n",
        "def plot_data(points, f, x_m):\n",
        "    rows = int(len(points) / 2)\n",
        "    points = np.reshape(points, (rows, 2))\n",
        "\n",
        "    y_m = f(x_m)\n",
        "\n",
        "    # ustawienia wyświetlania wykresu\n",
        "    matplotlib.rcParams.update({'font.size': 14})\n",
        "    fig = plt.figure(figsize=(10, 8), dpi=72)\n",
        "    p1 = fig.add_subplot(111)\n",
        "    p1.set_xlabel('x')\n",
        "    p1.set_ylabel('y')\n",
        "    p1.plot(x_m, y_m, 'k')\n",
        "    makersize = 28\n",
        "\n",
        "    # narysowanie wartości początkowych x i y\n",
        "    p1.plot(points[0][0], points[0][1], marker='o', markersize=makersize, markerfacecolor=\"none\", color=\"red\")\n",
        "\n",
        "    for pos in range(1, rows):\n",
        "        if makersize > 4:\n",
        "            makersize = makersize - 2\n",
        "        p1.plot(points[pos][0], points[pos][1], marker='o', markersize=makersize, markerfacecolor=\"none\", color=\"red\")\n",
        "\n",
        "    # wykreślenie wyniku końcowego\n",
        "    p1.plot(points[rows-1][0], points[rows-1][1], marker='x', markersize=20, markerfacecolor=\"none\", color=\"blue\")\n",
        "    plt.show()"
      ]
    },
    {
      "cell_type": "markdown",
      "metadata": {
        "id": "I7J2K2jDTS_8"
      },
      "source": [
        "Poniższa część informuje nas o wartości punktu minimum lokalnego przy wyznaczonej wartości zmiennej niezależnej oraz wykreśla poszczególne kroki prowadzące do tej wartości na wykresie."
      ]
    },
    {
      "cell_type": "code",
      "execution_count": null,
      "metadata": {
        "id": "2iCayJixTS_9",
        "outputId": "76d245c7-c86b-49e5-a570-63a2cd52aa00",
        "colab": {
          "base_uri": "https://localhost:8080/",
          "height": 548
        }
      },
      "outputs": [
        {
          "output_type": "stream",
          "name": "stdout",
          "text": [
            "Wyznaczone minimum lokalne dla y wynosi 7.875009E-05 i występuje dla wartości x równego 8.874125E-03\n",
            "Liczba iteracji wykonana do uzyskania tego wyniku wynosi: 58\n"
          ]
        },
        {
          "output_type": "display_data",
          "data": {
            "text/plain": [
              "<Figure size 720x576 with 1 Axes>"
            ],
            "image/png": "[encoded data removed]"
          },
          "metadata": {}
        }
      ],
      "source": [
        "print(\"Wyznaczone minimum lokalne dla y wynosi {0:E} i występuje dla wartości x równego {1:E}\".format(y_min, x_min))\n",
        "print(\"Liczba iteracji wykonana do uzyskania tego wyniku wynosi:\", i)\n",
        "\n",
        "# Parametry wykresu oraz jego wykreślenie\n",
        "n = 200\n",
        "x_n = np.linspace(-10, 10, n)\n",
        "x_v = np.array(x_n).astype(np.float32)\n",
        "plot_data(dataset, model, x_v)\n"
      ]
    },
    {
      "cell_type": "markdown",
      "metadata": {
        "id": "OuXEbz-aTS_9"
      },
      "source": [
        "# Zadania do wykonania"
      ]
    },
    {
      "cell_type": "markdown",
      "metadata": {
        "id": "P7nrTvIfTS_-"
      },
      "source": [
        "<p><b>Zadanie 1</b></p>\n",
        "Przeprowadź eksperymenty dla różnych wartości początkowych.\n",
        "\n",
        "\n",
        "<p><b>Zadanie 2</b></p>\n",
        "Przeprowadź eksperymenty dla różnych współczynników uczenia badając jednocześnie ilość iteracji potrzebnych do osiągnięcia odpowiedniego wyniku. Czy dla badanego przypadku można uzyskać rozbieżność algorytmu?"
      ]
    },
    {
      "cell_type": "code",
      "source": [
        "#@title\n",
        "%%html\n",
        "<iframe src=\"https://www.polskacyfrowa.gov.pl/media/48246/FE_POPC_poziom_pl-1_rgb.jpg\" width=\"800\"></iframe>"
      ],
      "metadata": {
        "colab": {
          "base_uri": "https://localhost:8080/",
          "height": 174
        },
        "cellView": "form",
        "id": "5Uz05737Wb_o",
        "outputId": "8525be13-42c9-43ab-e2b1-420406259b9e"
      },
      "execution_count": null,
      "outputs": [
        {
          "output_type": "display_data",
          "data": {
            "text/plain": [
              "<IPython.core.display.HTML object>"
            ],
            "text/html": [
              "<iframe src=\"https://www.polskacyfrowa.gov.pl/media/48246/FE_POPC_poziom_pl-1_rgb.jpg\" width=\"800\"></iframe>"
            ]
          },
          "metadata": {}
        }
      ]
    },
    {
      "cell_type": "code",
      "source": [
        "xs=15\n",
        "y = model(xs)"
      ],
      "metadata": {
        "id": "YusSaZoDPFje"
      },
      "execution_count": null,
      "outputs": []
    },
    {
      "cell_type": "code",
      "source": [
        "# Zdefiniowanie parametrów optymalizujących\n",
        "eta = 0.005  # współczynnik uczenia (learning rate)\n",
        "precision = 0.001  # wartość progu dla bezwzględnej różnicy między poprzednim x a aktualnym x\n",
        "\n",
        "x = xs\n",
        "step_size = abs(x)\n",
        "\n",
        "dataset = np.array([])\n",
        "dataset = np.append(dataset, [x, y])\n",
        "print(dataset)"
      ],
      "metadata": {
        "colab": {
          "base_uri": "https://localhost:8080/"
        },
        "id": "NU8O6MI1O9jf",
        "outputId": "efb74393-aa60-41e3-c2ef-064abf27d09c"
      },
      "execution_count": null,
      "outputs": [
        {
          "output_type": "stream",
          "name": "stdout",
          "text": [
            "[ 15. 225.]\n"
          ]
        }
      ]
    },
    {
      "cell_type": "code",
      "source": [
        "i = 0 #licznik kroków\n",
        "\n",
        "# chcemy znaleźć takie x, dla których y będzie minimalne\n",
        "# dla wartości początkowych\n",
        "x_min = xs\n",
        "y_min = y\n",
        "\n",
        "while step_size > precision:\n",
        "    x_p = x                       # zapamiętanie poprzedniej wartości x\n",
        "    x = x_p - eta * df(x_p)         # zaktualizowanie wartości x\n",
        "    #print(\"Actual x {}\\n\".format(x))\n",
        "    step_size = abs(x - x_p)      # wyliczenie zmiany pomiędzy x a x_p\n",
        "    y = model(x)                  # obliczenie aktualnej wartości y dla aktualnego x\n",
        "    # warunek sprawdzający, czy y jest minimalny?\n",
        "    if y < y_min:\n",
        "      y_min = y\n",
        "      x_min = x\n",
        "    dataset = np.append(dataset, [x, y])\n",
        "    i = i+1"
      ],
      "metadata": {
        "id": "r1MLNSDuPP-e"
      },
      "execution_count": null,
      "outputs": []
    },
    {
      "cell_type": "code",
      "source": [
        "print(\"Wyznaczone minimum lokalne dla y wynosi {0:E} i występuje dla wartości x równego {1:E}\".format(y_min, x_min))\n",
        "print(\"Liczba iteracji wykonana do uzyskania tego wyniku wynosi:\", i)\n",
        "\n",
        "# Parametry wykresu oraz jego wykreślenie\n",
        "n = 200\n",
        "x_n = np.linspace(-10, 10, n)\n",
        "x_v = np.array(x_n).astype(np.float32)\n",
        "plot_data(dataset, model, x_v)"
      ],
      "metadata": {
        "colab": {
          "base_uri": "https://localhost:8080/",
          "height": 548
        },
        "id": "Uz3q8OG5Ok6A",
        "outputId": "58c4dd4f-7be6-4f8e-aebf-04f48b799736"
      },
      "execution_count": null,
      "outputs": [
        {
          "output_type": "stream",
          "name": "stdout",
          "text": [
            "Wyznaczone minimum lokalne dla y wynosi 9.713531E-03 i występuje dla wartości x równego 9.855725E-02\n",
            "Liczba iteracji wykonana do uzyskania tego wyniku wynosi: 500\n"
          ]
        },
        {
          "output_type": "display_data",
          "data": {
            "text/plain": [
              "<Figure size 720x576 with 1 Axes>"
            ],
            "image/png": "[encoded data removed]"
          },
          "metadata": {}
        }
      ]
    },
    {
      "cell_type": "code",
      "source": [],
      "metadata": {
        "id": "bMrafz_lOmWt"
      },
      "execution_count": null,
      "outputs": []
    }
  ],
  "metadata": {
    "kernelspec": {
      "display_name": "Python 3",
      "language": "python",
      "name": "python3"
    },
    "language_info": {
      "codemirror_mode": {
        "name": "ipython",
        "version": 3
      },
      "file_extension": ".py",
      "mimetype": "text/x-python",
      "name": "python",
      "nbconvert_exporter": "python",
      "pygments_lexer": "ipython3",
      "version": "3.7.9"
    },
    "colab": {
      "provenance": []
    }
  },
  "nbformat": 4,
  "nbformat_minor": 0
}