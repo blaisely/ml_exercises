{
 "cells": [
  {
   "cell_type": "markdown",
   "metadata": {},
   "source": [
    "##### AI TECH - Akademia Innowacyjnych Zastosowań Technologii Cyfrowych. Programu Operacyjnego Polska Cyfrowa na lata 2014-2020\n",
    "<hr>"
   ]
  },
  {
   "cell_type": "markdown",
   "metadata": {},
   "source": [
    "## <br>\n",
    "<br>\n",
    "<br>\n",
    "<br>\n",
    "<br>\n",
    "<br>\n",
    "<br>\n",
    "<center>\n",
    "    <h1 style = \"font-size:48px; font-weight:normal\"><b>AI</b>-TECH</h1>\n",
    "    <br>\n",
    "<br>\n",
    "<br>\n",
    "<br>\n",
    "    <h1 style = \"font-size:24px; font-weight:normal\">Przykład 3 DO LABORATORIUM 4</h1>\n",
    "    <h1 style = \"font-size:24px\">z UCZENIA MASZYNOWEGO</h1>\n",
    "    <h1 style = \"font-size:24px\">Metoda gradientu prostego, perceptron</h1>\n",
    "    <h1 style = \"font-size:24px\">Tomasz Neumann</h1>\n",
    "    <h3 style = \"font-size:21px\">SGDRegressor</h3>\n",
    "</center>\n",
    "<br>\n",
    "<br>\n",
    "<br>\n",
    "<br>\n",
    "<br>\n",
    "<br>\n",
    "<br>\n",
    "<br>\n",
    "<br>\n",
    "    </body>\n",
    "    </html>"
   ]
  },
  {
   "cell_type": "markdown",
   "metadata": {},
   "source": [
    "![stopka.svg](stopka.svg)"
   ]
  },
  {
   "cell_type": "markdown",
   "metadata": {},
   "source": [
    "<center>\n",
    "Projekt współfinansowany ze środków Unii Europejskiej w ramach Europejskiego Funduszu Rozwoju Regionalnego \n",
    "Program Operacyjny Polska Cyfrowa na lata 2014-2020,\n",
    "Oś Priorytetowa nr 3 \"Cyfrowe kompetencje społeczeństwa\" Działanie  nr 3.2 \"Innowacyjne rozwiązania na rzecz aktywizacji cyfrowej\" \n",
    "Tytuł projektu:  „Akademia Innowacyjnych Zastosowań Technologii Cyfrowych (AI Tech)”\n",
    "    </center>"
   ]
  },
  {
   "cell_type": "markdown",
   "metadata": {},
   "source": [
    "<hr>"
   ]
  },
  {
   "cell_type": "markdown",
   "metadata": {},
   "source": [
    "# 1. Przykład 3"
   ]
  },
  {
   "cell_type": "markdown",
   "metadata": {},
   "source": [
    "Zastosowanie metody Stochastic Gradient Descent (SGD) do klasyfikatora liniowego lub regresora zapewnia efektywny estymator problemów związanych z klasyfikacją i regresją.\n",
    "\n",
    "Scikit-learn API udostępnia klasę SGDRegressor do implementacji metody SGD dla problemów regresji. Regresor SGD stosuje regularyzowany model liniowy z uczeniem SGD w celu zbudowania estymatora. Są to regulatory L1, L2 lub Elastic Net dodane do funkcji strat w celu zmniejszenia parametrów modelu. Regresor SGD działa dobrze z wielkoskalowymi zbiorami danych.\n",
    "Spróbujmy więc dopasowywać i przewidywać dane regresji przy użyciu klasy SGDRegressor modułu Scikit-learn. W tym celu rozpoczynamy od dołaczenia odpowiednich bibliotek\n"
   ]
  },
  {
   "cell_type": "code",
   "execution_count": 1,
   "metadata": {},
   "outputs": [],
   "source": [
    "from sklearn.linear_model import SGDRegressor\n",
    "from sklearn.datasets import make_regression\n",
    "from sklearn.metrics import mean_squared_error\n",
    "from sklearn.model_selection import train_test_split\n",
    "from sklearn.model_selection import cross_val_score\n",
    "from sklearn.preprocessing import scale\n",
    "import matplotlib.pyplot as plt "
   ]
  },
  {
   "cell_type": "markdown",
   "metadata": {},
   "source": [
    "oraz wygenerowania losowych danych wejściowych przy użyciu klasy <i>make_regression()</i> tak, aby zbiór danych zawierał 10000 próbek o 30 cechach."
   ]
  },
  {
   "cell_type": "code",
   "execution_count": 2,
   "metadata": {},
   "outputs": [],
   "source": [
    "x, y = make_regression(n_samples=1000, n_features=30, noise=21)"
   ]
  },
  {
   "cell_type": "markdown",
   "metadata": {},
   "source": [
    "W celu poprawienia dokładności modelu, dane x i y zostaną przeskalowane, a następnie podzielone na zbiór zbiór treningowy i testowy, gdzie zbiór testowy będzie stanowił 15% wszystkich próbek."
   ]
  },
  {
   "cell_type": "code",
   "execution_count": 3,
   "metadata": {},
   "outputs": [],
   "source": [
    "x = scale(x)\n",
    "y = scale(y)\n",
    "xtrain, xtest, ytrain, ytest=train_test_split(x, y, test_size=0.15)"
   ]
  },
  {
   "cell_type": "markdown",
   "metadata": {},
   "source": [
    "Następnie można zbudować model regresora za pomocą klasy SGDRegressor"
   ]
  },
  {
   "cell_type": "code",
   "execution_count": 4,
   "metadata": {},
   "outputs": [
    {
     "name": "stdout",
     "output_type": "stream",
     "text": [
      "SGDRegressor()\n"
     ]
    }
   ],
   "source": [
    "sgdr = SGDRegressor()\n",
    "print(sgdr)"
   ]
  },
  {
   "cell_type": "markdown",
   "metadata": {},
   "source": [
    "po czym można przystapić do wytrenowania i sprawdzania jakości treningu jak i wyuczonych wag."
   ]
  },
  {
   "cell_type": "code",
   "execution_count": 5,
   "metadata": {},
   "outputs": [
    {
     "name": "stdout",
     "output_type": "stream",
     "text": [
      "R-squared: 0.9849865660499959\n",
      "Macierz wag:  [ 2.52646756e-03  3.37863189e-01  1.30382137e-03 -2.70954816e-03\n",
      "  7.26391250e-03  7.03563589e-05 -3.35560606e-04  2.30359697e-02\n",
      "  4.87860084e-01  3.18594969e-01 -3.03043653e-03 -3.72812588e-03\n",
      "  3.22411860e-03 -5.31253132e-03  1.89923632e-01  6.94039159e-02\n",
      " -5.34282894e-03 -1.99744365e-03  6.20816075e-03 -6.30042709e-03\n",
      " -1.33196497e-03 -5.79433751e-03  4.92393459e-05  1.69995678e-01\n",
      "  4.38419164e-01  1.87901846e-03 -4.70735631e-03  1.02103433e-01\n",
      "  1.58439379e-03  5.64585019e-01]\n"
     ]
    }
   ],
   "source": [
    "sgdr.fit(xtrain, ytrain)\n",
    "score = sgdr.score(xtrain, ytrain)\n",
    "print(\"R-squared:\", score)\n",
    "#wyświetlenie macierzy wag\n",
    "sklearn_w=sgdr.coef_\n",
    "print(\"Macierz wag: \", sklearn_w)"
   ]
  },
  {
   "cell_type": "markdown",
   "metadata": {},
   "source": [
    "Można także w tym przypadku zastosować walidację krzyżową i sprawdzić dokładność wytrenowanego modelu."
   ]
  },
  {
   "cell_type": "code",
   "execution_count": 6,
   "metadata": {},
   "outputs": [
    {
     "name": "stdout",
     "output_type": "stream",
     "text": [
      "CV mean score:  0.9834197914991274\n"
     ]
    }
   ],
   "source": [
    "cv_score = cross_val_score(sgdr, x, y, cv = 10)\n",
    "print(\"CV mean score: \", cv_score.mean())"
   ]
  },
  {
   "cell_type": "markdown",
   "metadata": {},
   "source": [
    "Aktualnie, można dokonać predykcji na wytrenowanym modelu oraz sprawdzić dokładność tych prognoz za pomocą metryki MSE i RMSE."
   ]
  },
  {
   "cell_type": "code",
   "execution_count": 7,
   "metadata": {},
   "outputs": [
    {
     "name": "stdout",
     "output_type": "stream",
     "text": [
      "MSE:  0.016353513319580577\n",
      "RMSE:  0.008176756659790289\n"
     ]
    }
   ],
   "source": [
    "ypred = sgdr.predict(xtest)\n",
    "\n",
    "mse = mean_squared_error(ytest, ypred)\n",
    "print(\"MSE: \", mse)\n",
    "print(\"RMSE: \", mse*(1/2.0)) "
   ]
  },
  {
   "cell_type": "markdown",
   "metadata": {},
   "source": [
    "Ostatecznie można zwizualizować dane oryginalne oraz te uzyskane z predykcji."
   ]
  },
  {
   "cell_type": "code",
   "execution_count": 8,
   "metadata": {},
   "outputs": [
    {
     "data": {
      "image/png": "[encoded data removed]",
      "text/plain": [
       "<Figure size 640x480 with 1 Axes>"
      ]
     },
     "metadata": {},
     "output_type": "display_data"
    }
   ],
   "source": [
    "x_ax = range(len(ytest))\n",
    "plt.plot(x_ax, ytest, linewidth=1, label=\"original\")\n",
    "plt.plot(x_ax, ypred, linewidth=1.1, label=\"predicted\")\n",
    "plt.title(\"y-test and y-predicted data\")\n",
    "plt.xlabel('X-axis')\n",
    "plt.ylabel('Y-axis')\n",
    "plt.legend(loc='best',fancybox=True, shadow=True)\n",
    "plt.grid(True)\n",
    "plt.show()"
   ]
  },
  {
   "cell_type": "markdown",
   "metadata": {},
   "source": [
    "# Zadania do wykonania"
   ]
  },
  {
   "cell_type": "markdown",
   "metadata": {},
   "source": [
    "<p><b>Zadanie 1</b></p>\n",
    "Przeprowadź eksperymenty dla SGDRegressor dla zbioru danych zaczytanych z load_diabetes (<a>https://scikit-learn.org/stable/modules/generated/sklearn.datasets.load_diabetes.html#sklearn.datasets.load_diabetes</a>). Zbiór zawiera dane 442 pacjentów, z czego w pierwszych 10 jest informacja zmiennoprzecinkowa o (w kolejności) wieku, płci wskaźniku masy ciała, średnie cisnienie krwi i sześć pomiarów surowicy krwi, a w ostatniej kolumnie znajduje się ilościowa progresja choroby rok po wizycie początkowej.\n"
   ]
  },
  {
   "cell_type": "markdown",
   "metadata": {},
   "source": [
    "![stopka.svg](stopka.svg)"
   ]
  },
  {
   "cell_type": "code",
   "execution_count": 37,
   "metadata": {},
   "outputs": [
    {
     "name": "stderr",
     "output_type": "stream",
     "text": [
      "c:\\Users\\blaze\\AppData\\Local\\Programs\\Python\\Python312\\Lib\\site-packages\\sklearn\\linear_model\\_stochastic_gradient.py:1608: ConvergenceWarning: Maximum number of iteration reached before convergence. Consider increasing max_iter to improve the fit.\n",
      "  warnings.warn(\n",
      "c:\\Users\\blaze\\AppData\\Local\\Programs\\Python\\Python312\\Lib\\site-packages\\sklearn\\linear_model\\_stochastic_gradient.py:1608: ConvergenceWarning: Maximum number of iteration reached before convergence. Consider increasing max_iter to improve the fit.\n",
      "  warnings.warn(\n",
      "c:\\Users\\blaze\\AppData\\Local\\Programs\\Python\\Python312\\Lib\\site-packages\\sklearn\\linear_model\\_stochastic_gradient.py:1608: ConvergenceWarning: Maximum number of iteration reached before convergence. Consider increasing max_iter to improve the fit.\n",
      "  warnings.warn(\n",
      "c:\\Users\\blaze\\AppData\\Local\\Programs\\Python\\Python312\\Lib\\site-packages\\sklearn\\linear_model\\_stochastic_gradient.py:1608: ConvergenceWarning: Maximum number of iteration reached before convergence. Consider increasing max_iter to improve the fit.\n",
      "  warnings.warn(\n",
      "c:\\Users\\blaze\\AppData\\Local\\Programs\\Python\\Python312\\Lib\\site-packages\\sklearn\\linear_model\\_stochastic_gradient.py:1608: ConvergenceWarning: Maximum number of iteration reached before convergence. Consider increasing max_iter to improve the fit.\n",
      "  warnings.warn(\n",
      "c:\\Users\\blaze\\AppData\\Local\\Programs\\Python\\Python312\\Lib\\site-packages\\sklearn\\linear_model\\_stochastic_gradient.py:1608: ConvergenceWarning: Maximum number of iteration reached before convergence. Consider increasing max_iter to improve the fit.\n",
      "  warnings.warn(\n"
     ]
    },
    {
     "data": {
      "text/html": [
       "<div>\n",
       "<style scoped>\n",
       "    .dataframe tbody tr th:only-of-type {\n",
       "        vertical-align: middle;\n",
       "    }\n",
       "\n",
       "    .dataframe tbody tr th {\n",
       "        vertical-align: top;\n",
       "    }\n",
       "\n",
       "    .dataframe thead th {\n",
       "        text-align: right;\n",
       "    }\n",
       "</style>\n",
       "<table border=\"1\" class=\"dataframe\">\n",
       "  <thead>\n",
       "    <tr style=\"text-align: right;\">\n",
       "      <th></th>\n",
       "      <th>Penalty</th>\n",
       "      <th>Learning Type</th>\n",
       "      <th>Learning Rate</th>\n",
       "      <th>MSE</th>\n",
       "      <th>Score</th>\n",
       "    </tr>\n",
       "  </thead>\n",
       "  <tbody>\n",
       "    <tr>\n",
       "      <th>86</th>\n",
       "      <td>l1</td>\n",
       "      <td>adaptive</td>\n",
       "      <td>0.91</td>\n",
       "      <td>2891.098883</td>\n",
       "      <td>0.523523</td>\n",
       "    </tr>\n",
       "    <tr>\n",
       "      <th>87</th>\n",
       "      <td>l1</td>\n",
       "      <td>adaptive</td>\n",
       "      <td>1.01</td>\n",
       "      <td>2889.524982</td>\n",
       "      <td>0.523502</td>\n",
       "    </tr>\n",
       "    <tr>\n",
       "      <th>85</th>\n",
       "      <td>l1</td>\n",
       "      <td>adaptive</td>\n",
       "      <td>0.81</td>\n",
       "      <td>2890.641517</td>\n",
       "      <td>0.523489</td>\n",
       "    </tr>\n",
       "    <tr>\n",
       "      <th>84</th>\n",
       "      <td>l1</td>\n",
       "      <td>adaptive</td>\n",
       "      <td>0.71</td>\n",
       "      <td>2889.776215</td>\n",
       "      <td>0.523438</td>\n",
       "    </tr>\n",
       "    <tr>\n",
       "      <th>83</th>\n",
       "      <td>l1</td>\n",
       "      <td>adaptive</td>\n",
       "      <td>0.61</td>\n",
       "      <td>2888.241040</td>\n",
       "      <td>0.523379</td>\n",
       "    </tr>\n",
       "    <tr>\n",
       "      <th>82</th>\n",
       "      <td>l1</td>\n",
       "      <td>adaptive</td>\n",
       "      <td>0.51</td>\n",
       "      <td>2885.882278</td>\n",
       "      <td>0.523291</td>\n",
       "    </tr>\n",
       "    <tr>\n",
       "      <th>81</th>\n",
       "      <td>l1</td>\n",
       "      <td>adaptive</td>\n",
       "      <td>0.41</td>\n",
       "      <td>2882.463266</td>\n",
       "      <td>0.523144</td>\n",
       "    </tr>\n",
       "    <tr>\n",
       "      <th>80</th>\n",
       "      <td>l1</td>\n",
       "      <td>adaptive</td>\n",
       "      <td>0.31</td>\n",
       "      <td>2878.298016</td>\n",
       "      <td>0.523102</td>\n",
       "    </tr>\n",
       "    <tr>\n",
       "      <th>130</th>\n",
       "      <td>elasticnet</td>\n",
       "      <td>adaptive</td>\n",
       "      <td>0.91</td>\n",
       "      <td>2877.839574</td>\n",
       "      <td>0.522905</td>\n",
       "    </tr>\n",
       "    <tr>\n",
       "      <th>129</th>\n",
       "      <td>elasticnet</td>\n",
       "      <td>adaptive</td>\n",
       "      <td>0.81</td>\n",
       "      <td>2877.956935</td>\n",
       "      <td>0.522899</td>\n",
       "    </tr>\n",
       "  </tbody>\n",
       "</table>\n",
       "</div>"
      ],
      "text/plain": [
       "        Penalty Learning Type  Learning Rate          MSE     Score\n",
       "86           l1      adaptive           0.91  2891.098883  0.523523\n",
       "87           l1      adaptive           1.01  2889.524982  0.523502\n",
       "85           l1      adaptive           0.81  2890.641517  0.523489\n",
       "84           l1      adaptive           0.71  2889.776215  0.523438\n",
       "83           l1      adaptive           0.61  2888.241040  0.523379\n",
       "82           l1      adaptive           0.51  2885.882278  0.523291\n",
       "81           l1      adaptive           0.41  2882.463266  0.523144\n",
       "80           l1      adaptive           0.31  2878.298016  0.523102\n",
       "130  elasticnet      adaptive           0.91  2877.839574  0.522905\n",
       "129  elasticnet      adaptive           0.81  2877.956935  0.522899"
      ]
     },
     "execution_count": 37,
     "metadata": {},
     "output_type": "execute_result"
    }
   ],
   "source": [
    "from sklearn.datasets import load_diabetes\n",
    "import pandas as pd\n",
    "import numpy as np\n",
    "from itertools import combinations\n",
    "X,y  = load_diabetes(return_X_y=True)\n",
    "\n",
    "X_train, X_test, y_train, y_test = train_test_split(X,y,test_size = 0.2, random_state=42)\n",
    "penalties = ['l2', 'l1', 'elasticnet']\n",
    "l_rate_types = ['constant', 'optimal', 'invscaling', 'adaptive']\n",
    "learning_rates = np.arange(0.01, 1.1, 0.1)\n",
    "predictions = []\n",
    "data = pd.DataFrame(columns=[\"Penalty\", \"Learning Type\",\"Learning Rate\", \"MSE\", \"Score\"])\n",
    "\n",
    "for penalty in penalties:\n",
    "    for l_rate_type in l_rate_types:\n",
    "        for l_rate in learning_rates:\n",
    "            sgdreg = SGDRegressor(random_state=42, penalty=penalty, learning_rate=l_rate_type, eta0=l_rate, max_iter=2000)\n",
    "            sgdreg.fit(X_train,y_train)\n",
    "            score = sgdreg.score(X_train,y_train)\n",
    "            pred = sgdreg.predict(X_test)\n",
    "            predictions.append(pred)\n",
    "            mse = mean_squared_error(y_test,pred)\n",
    "            data.loc[len(data)] = [penalty, l_rate_type,l_rate, mse, score]\n",
    "\n",
    "data.sort_values(by=\"Score\", ascending=False).head(10)\n",
    "#diabetes = pd.DataFrame(data=X, columns = ['Wiek', 'Plec', 'Masa ciala', 'Srednie Cisnienie krwi', 'Pomiar krwi 1','Pomiar krwi 2','Pomiar krwi 3','Pomiar krwi 4','Pomiar krwi 4'])\n"
   ]
  },
  {
   "cell_type": "markdown",
   "metadata": {},
   "source": [
    "*SCORE*"
   ]
  },
  {
   "cell_type": "code",
   "execution_count": 38,
   "metadata": {},
   "outputs": [
    {
     "data": {
      "text/html": [
       "<div>\n",
       "<style scoped>\n",
       "    .dataframe tbody tr th:only-of-type {\n",
       "        vertical-align: middle;\n",
       "    }\n",
       "\n",
       "    .dataframe tbody tr th {\n",
       "        vertical-align: top;\n",
       "    }\n",
       "\n",
       "    .dataframe thead th {\n",
       "        text-align: right;\n",
       "    }\n",
       "</style>\n",
       "<table border=\"1\" class=\"dataframe\">\n",
       "  <thead>\n",
       "    <tr style=\"text-align: right;\">\n",
       "      <th></th>\n",
       "      <th>Penalty</th>\n",
       "      <th>Learning Type</th>\n",
       "      <th>Learning Rate</th>\n",
       "      <th>MSE</th>\n",
       "      <th>Score</th>\n",
       "    </tr>\n",
       "  </thead>\n",
       "  <tbody>\n",
       "    <tr>\n",
       "      <th>86</th>\n",
       "      <td>l1</td>\n",
       "      <td>adaptive</td>\n",
       "      <td>0.91</td>\n",
       "      <td>2891.098883</td>\n",
       "      <td>0.523523</td>\n",
       "    </tr>\n",
       "    <tr>\n",
       "      <th>87</th>\n",
       "      <td>l1</td>\n",
       "      <td>adaptive</td>\n",
       "      <td>1.01</td>\n",
       "      <td>2889.524982</td>\n",
       "      <td>0.523502</td>\n",
       "    </tr>\n",
       "    <tr>\n",
       "      <th>85</th>\n",
       "      <td>l1</td>\n",
       "      <td>adaptive</td>\n",
       "      <td>0.81</td>\n",
       "      <td>2890.641517</td>\n",
       "      <td>0.523489</td>\n",
       "    </tr>\n",
       "    <tr>\n",
       "      <th>84</th>\n",
       "      <td>l1</td>\n",
       "      <td>adaptive</td>\n",
       "      <td>0.71</td>\n",
       "      <td>2889.776215</td>\n",
       "      <td>0.523438</td>\n",
       "    </tr>\n",
       "    <tr>\n",
       "      <th>83</th>\n",
       "      <td>l1</td>\n",
       "      <td>adaptive</td>\n",
       "      <td>0.61</td>\n",
       "      <td>2888.241040</td>\n",
       "      <td>0.523379</td>\n",
       "    </tr>\n",
       "    <tr>\n",
       "      <th>82</th>\n",
       "      <td>l1</td>\n",
       "      <td>adaptive</td>\n",
       "      <td>0.51</td>\n",
       "      <td>2885.882278</td>\n",
       "      <td>0.523291</td>\n",
       "    </tr>\n",
       "    <tr>\n",
       "      <th>81</th>\n",
       "      <td>l1</td>\n",
       "      <td>adaptive</td>\n",
       "      <td>0.41</td>\n",
       "      <td>2882.463266</td>\n",
       "      <td>0.523144</td>\n",
       "    </tr>\n",
       "    <tr>\n",
       "      <th>80</th>\n",
       "      <td>l1</td>\n",
       "      <td>adaptive</td>\n",
       "      <td>0.31</td>\n",
       "      <td>2878.298016</td>\n",
       "      <td>0.523102</td>\n",
       "    </tr>\n",
       "    <tr>\n",
       "      <th>130</th>\n",
       "      <td>elasticnet</td>\n",
       "      <td>adaptive</td>\n",
       "      <td>0.91</td>\n",
       "      <td>2877.839574</td>\n",
       "      <td>0.522905</td>\n",
       "    </tr>\n",
       "    <tr>\n",
       "      <th>129</th>\n",
       "      <td>elasticnet</td>\n",
       "      <td>adaptive</td>\n",
       "      <td>0.81</td>\n",
       "      <td>2877.956935</td>\n",
       "      <td>0.522899</td>\n",
       "    </tr>\n",
       "    <tr>\n",
       "      <th>128</th>\n",
       "      <td>elasticnet</td>\n",
       "      <td>adaptive</td>\n",
       "      <td>0.71</td>\n",
       "      <td>2877.457127</td>\n",
       "      <td>0.522882</td>\n",
       "    </tr>\n",
       "    <tr>\n",
       "      <th>127</th>\n",
       "      <td>elasticnet</td>\n",
       "      <td>adaptive</td>\n",
       "      <td>0.61</td>\n",
       "      <td>2876.392273</td>\n",
       "      <td>0.522844</td>\n",
       "    </tr>\n",
       "    <tr>\n",
       "      <th>131</th>\n",
       "      <td>elasticnet</td>\n",
       "      <td>adaptive</td>\n",
       "      <td>1.01</td>\n",
       "      <td>2876.163032</td>\n",
       "      <td>0.522833</td>\n",
       "    </tr>\n",
       "    <tr>\n",
       "      <th>126</th>\n",
       "      <td>elasticnet</td>\n",
       "      <td>adaptive</td>\n",
       "      <td>0.51</td>\n",
       "      <td>2874.775739</td>\n",
       "      <td>0.522752</td>\n",
       "    </tr>\n",
       "    <tr>\n",
       "      <th>41</th>\n",
       "      <td>l2</td>\n",
       "      <td>adaptive</td>\n",
       "      <td>0.81</td>\n",
       "      <td>2876.085635</td>\n",
       "      <td>0.522744</td>\n",
       "    </tr>\n",
       "  </tbody>\n",
       "</table>\n",
       "</div>"
      ],
      "text/plain": [
       "        Penalty Learning Type  Learning Rate          MSE     Score\n",
       "86           l1      adaptive           0.91  2891.098883  0.523523\n",
       "87           l1      adaptive           1.01  2889.524982  0.523502\n",
       "85           l1      adaptive           0.81  2890.641517  0.523489\n",
       "84           l1      adaptive           0.71  2889.776215  0.523438\n",
       "83           l1      adaptive           0.61  2888.241040  0.523379\n",
       "82           l1      adaptive           0.51  2885.882278  0.523291\n",
       "81           l1      adaptive           0.41  2882.463266  0.523144\n",
       "80           l1      adaptive           0.31  2878.298016  0.523102\n",
       "130  elasticnet      adaptive           0.91  2877.839574  0.522905\n",
       "129  elasticnet      adaptive           0.81  2877.956935  0.522899\n",
       "128  elasticnet      adaptive           0.71  2877.457127  0.522882\n",
       "127  elasticnet      adaptive           0.61  2876.392273  0.522844\n",
       "131  elasticnet      adaptive           1.01  2876.163032  0.522833\n",
       "126  elasticnet      adaptive           0.51  2874.775739  0.522752\n",
       "41           l2      adaptive           0.81  2876.085635  0.522744"
      ]
     },
     "execution_count": 38,
     "metadata": {},
     "output_type": "execute_result"
    }
   ],
   "source": [
    "data.sort_values(by=\"Score\", ascending=False).head(15)"
   ]
  },
  {
   "cell_type": "markdown",
   "metadata": {},
   "source": [
    "*MSE*"
   ]
  },
  {
   "cell_type": "code",
   "execution_count": 40,
   "metadata": {},
   "outputs": [
    {
     "data": {
      "text/html": [
       "<div>\n",
       "<style scoped>\n",
       "    .dataframe tbody tr th:only-of-type {\n",
       "        vertical-align: middle;\n",
       "    }\n",
       "\n",
       "    .dataframe tbody tr th {\n",
       "        vertical-align: top;\n",
       "    }\n",
       "\n",
       "    .dataframe thead th {\n",
       "        text-align: right;\n",
       "    }\n",
       "</style>\n",
       "<table border=\"1\" class=\"dataframe\">\n",
       "  <thead>\n",
       "    <tr style=\"text-align: right;\">\n",
       "      <th></th>\n",
       "      <th>Penalty</th>\n",
       "      <th>Learning Type</th>\n",
       "      <th>Learning Rate</th>\n",
       "      <th>MSE</th>\n",
       "      <th>Score</th>\n",
       "    </tr>\n",
       "  </thead>\n",
       "  <tbody>\n",
       "    <tr>\n",
       "      <th>71</th>\n",
       "      <td>l1</td>\n",
       "      <td>invscaling</td>\n",
       "      <td>0.51</td>\n",
       "      <td>2859.733422</td>\n",
       "      <td>0.510787</td>\n",
       "    </tr>\n",
       "    <tr>\n",
       "      <th>115</th>\n",
       "      <td>elasticnet</td>\n",
       "      <td>invscaling</td>\n",
       "      <td>0.51</td>\n",
       "      <td>2860.689333</td>\n",
       "      <td>0.509408</td>\n",
       "    </tr>\n",
       "    <tr>\n",
       "      <th>34</th>\n",
       "      <td>l2</td>\n",
       "      <td>adaptive</td>\n",
       "      <td>0.11</td>\n",
       "      <td>2860.826601</td>\n",
       "      <td>0.517552</td>\n",
       "    </tr>\n",
       "    <tr>\n",
       "      <th>27</th>\n",
       "      <td>l2</td>\n",
       "      <td>invscaling</td>\n",
       "      <td>0.51</td>\n",
       "      <td>2860.962141</td>\n",
       "      <td>0.509149</td>\n",
       "    </tr>\n",
       "    <tr>\n",
       "      <th>122</th>\n",
       "      <td>elasticnet</td>\n",
       "      <td>adaptive</td>\n",
       "      <td>0.11</td>\n",
       "      <td>2861.184920</td>\n",
       "      <td>0.517795</td>\n",
       "    </tr>\n",
       "    <tr>\n",
       "      <th>35</th>\n",
       "      <td>l2</td>\n",
       "      <td>adaptive</td>\n",
       "      <td>0.21</td>\n",
       "      <td>2863.001527</td>\n",
       "      <td>0.521717</td>\n",
       "    </tr>\n",
       "    <tr>\n",
       "      <th>70</th>\n",
       "      <td>l1</td>\n",
       "      <td>invscaling</td>\n",
       "      <td>0.41</td>\n",
       "      <td>2863.589184</td>\n",
       "      <td>0.506966</td>\n",
       "    </tr>\n",
       "    <tr>\n",
       "      <th>78</th>\n",
       "      <td>l1</td>\n",
       "      <td>adaptive</td>\n",
       "      <td>0.11</td>\n",
       "      <td>2864.014821</td>\n",
       "      <td>0.519057</td>\n",
       "    </tr>\n",
       "    <tr>\n",
       "      <th>123</th>\n",
       "      <td>elasticnet</td>\n",
       "      <td>adaptive</td>\n",
       "      <td>0.21</td>\n",
       "      <td>2864.178835</td>\n",
       "      <td>0.521893</td>\n",
       "    </tr>\n",
       "    <tr>\n",
       "      <th>114</th>\n",
       "      <td>elasticnet</td>\n",
       "      <td>invscaling</td>\n",
       "      <td>0.41</td>\n",
       "      <td>2866.092572</td>\n",
       "      <td>0.505400</td>\n",
       "    </tr>\n",
       "    <tr>\n",
       "      <th>36</th>\n",
       "      <td>l2</td>\n",
       "      <td>adaptive</td>\n",
       "      <td>0.31</td>\n",
       "      <td>2866.483261</td>\n",
       "      <td>0.522295</td>\n",
       "    </tr>\n",
       "    <tr>\n",
       "      <th>26</th>\n",
       "      <td>l2</td>\n",
       "      <td>invscaling</td>\n",
       "      <td>0.41</td>\n",
       "      <td>2866.608086</td>\n",
       "      <td>0.505114</td>\n",
       "    </tr>\n",
       "    <tr>\n",
       "      <th>124</th>\n",
       "      <td>elasticnet</td>\n",
       "      <td>adaptive</td>\n",
       "      <td>0.31</td>\n",
       "      <td>2867.948608</td>\n",
       "      <td>0.522457</td>\n",
       "    </tr>\n",
       "    <tr>\n",
       "      <th>5</th>\n",
       "      <td>l2</td>\n",
       "      <td>constant</td>\n",
       "      <td>0.51</td>\n",
       "      <td>2869.379497</td>\n",
       "      <td>0.516435</td>\n",
       "    </tr>\n",
       "    <tr>\n",
       "      <th>93</th>\n",
       "      <td>elasticnet</td>\n",
       "      <td>constant</td>\n",
       "      <td>0.51</td>\n",
       "      <td>2869.731779</td>\n",
       "      <td>0.516865</td>\n",
       "    </tr>\n",
       "  </tbody>\n",
       "</table>\n",
       "</div>"
      ],
      "text/plain": [
       "        Penalty Learning Type  Learning Rate          MSE     Score\n",
       "71           l1    invscaling           0.51  2859.733422  0.510787\n",
       "115  elasticnet    invscaling           0.51  2860.689333  0.509408\n",
       "34           l2      adaptive           0.11  2860.826601  0.517552\n",
       "27           l2    invscaling           0.51  2860.962141  0.509149\n",
       "122  elasticnet      adaptive           0.11  2861.184920  0.517795\n",
       "35           l2      adaptive           0.21  2863.001527  0.521717\n",
       "70           l1    invscaling           0.41  2863.589184  0.506966\n",
       "78           l1      adaptive           0.11  2864.014821  0.519057\n",
       "123  elasticnet      adaptive           0.21  2864.178835  0.521893\n",
       "114  elasticnet    invscaling           0.41  2866.092572  0.505400\n",
       "36           l2      adaptive           0.31  2866.483261  0.522295\n",
       "26           l2    invscaling           0.41  2866.608086  0.505114\n",
       "124  elasticnet      adaptive           0.31  2867.948608  0.522457\n",
       "5            l2      constant           0.51  2869.379497  0.516435\n",
       "93   elasticnet      constant           0.51  2869.731779  0.516865"
      ]
     },
     "execution_count": 40,
     "metadata": {},
     "output_type": "execute_result"
    }
   ],
   "source": [
    "data.sort_values(by=\"MSE\", ascending=True).head(15)"
   ]
  },
  {
   "cell_type": "code",
   "execution_count": null,
   "metadata": {},
   "outputs": [],
   "source": []
  }
 ],
 "metadata": {
  "kernelspec": {
   "display_name": "Python 3",
   "language": "python",
   "name": "python3"
  },
  "language_info": {
   "codemirror_mode": {
    "name": "ipython",
    "version": 3
   },
   "file_extension": ".py",
   "mimetype": "text/x-python",
   "name": "python",
   "nbconvert_exporter": "python",
   "pygments_lexer": "ipython3",
   "version": "3.12.8"
  }
 },
 "nbformat": 4,
 "nbformat_minor": 4
}
