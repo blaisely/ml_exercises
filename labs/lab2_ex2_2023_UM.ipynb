{
  "nbformat": 4,
  "nbformat_minor": 0,
  "metadata": {
    "colab": {
      "provenance": []
    },
    "kernelspec": {
      "name": "python3",
      "display_name": "Python 3"
    },
    "language_info": {
      "name": "python"
    }
  },
  "cells": [
    {
      "cell_type": "markdown",
      "metadata": {
        "id": "xWlaG-0G4Gy6"
      },
      "source": [
        "##### AI TECH - Akademia Innowacyjnych Zastosowań Technologii Cyfrowych. Programu Operacyjnego Polska Cyfrowa na lata 2014-2020\n",
        "<hr>\n"
      ]
    },
    {
      "cell_type": "markdown",
      "metadata": {
        "id": "fmnP7VrP4IOU"
      },
      "source": [
        "<br>\n",
        "<br>\n",
        "<br>\n",
        "<br>\n",
        "<br>\n",
        "<br>\n",
        "<br>\n",
        "<center>\n",
        "    <h1 style = \"font-size:48px; font-weight:normal\"><b>AI</b>-TECH</style></h1>\n",
        "    <br>\n",
        "<br>\n",
        "<br>\n",
        "<br>\n",
        "    <h1 style = \"font-size:24px; font-weight:normal\">Przykład 2 DO LABORATORIUM 2</style></h1>\n",
        "    <h1 style = \"font-size:24px\">z UCZENIA MASZYNOWEGO</style></h1>\n",
        "    <h1 style = \"font-size:24px\">Klasyfikacja nadzorowana</style></h1>\n",
        "    <h1 style = \"font-size:24px\">Szymon Zaporowski</style></h1>\n",
        "    <h3 style = \"font-size:21px\">Klasyfikacja z użyciem Drzew Decyzyjnych i algorytmu Lasu Losowego - przykłady</h3>\n",
        "    <h3 style =\n",
        "</center>\n",
        "<br>\n",
        "<br>\n",
        "<br>\n",
        "<br>\n",
        "<br>\n",
        "<br>\n",
        "<br>\n",
        "<br>\n",
        "<br>\n",
        "    </body>\n",
        "    </html>"
      ]
    },
    {
      "cell_type": "markdown",
      "metadata": {
        "id": "qLj1nxQ84gpo"
      },
      "source": [
        "![stopka.svg](stopka.svg)"
      ]
    },
    {
      "cell_type": "markdown",
      "metadata": {
        "id": "S9fDTpIL4hoO"
      },
      "source": [
        "<center>\n",
        "Projekt współfinansowany ze środków Unii Europejskiej w ramach Europejskiego Funduszu Rozwoju Regionalnego\n",
        "Program Operacyjny Polska Cyfrowa na lata 2014-2020,\n",
        "Oś Priorytetowa nr 3 \"Cyfrowe kompetencje społeczeństwa\" Działanie  nr 3.2 \"Innowacyjne rozwiązania na rzecz aktywizacji cyfrowej\"\n",
        "Tytuł projektu:  „Akademia Innowacyjnych Zastosowań Technologii Cyfrowych (AI Tech)”\n",
        "    </center>"
      ]
    },
    {
      "cell_type": "markdown",
      "metadata": {
        "id": "hq9TtTKl4jzy"
      },
      "source": [
        "# 1. Przykład 2"
      ]
    },
    {
      "cell_type": "markdown",
      "metadata": {
        "id": "YTJSE1Fj4pY0"
      },
      "source": [
        "Drzewa Decyzyjne (ang, Decission Trees) są wszechstronnymi algorytmami uczenia maszynowego, które mogą być wykorzystywane zarówno jako klasyfikatory jak i do zadań regresji. Można je wykorzystać do tworzenia zaawansowanych modeli zdolnych do wykonywania zadań ze złożonymi zbiorami danych.\n",
        "Drzewa decyzyjne są składowymi elementami algorytmu losowych lasów (ang. Random Forest)"
      ]
    },
    {
      "cell_type": "code",
      "metadata": {
        "id": "jbYRfo94xOGW"
      },
      "source": [
        "from sklearn import datasets\n",
        "from sklearn.model_selection import train_test_split\n",
        "from sklearn.ensemble import RandomForestClassifier\n",
        "\n",
        "from sklearn.tree import DecisionTreeClassifier\n",
        "from sklearn.datasets import make_classification\n",
        "from sklearn.metrics import accuracy_score, confusion_matrix, classification_report, recall_score, precision_score, f1_score"
      ],
      "execution_count": null,
      "outputs": []
    },
    {
      "cell_type": "markdown",
      "metadata": {
        "id": "btHjNhFd89Y7"
      },
      "source": [
        "Do przedstawienia idei stojącej za mechanizmem działania algorytmu drzewa decyzyjnego wykorzystamy prosty przykład z użyciem datasetu iris.\n",
        "W tym przykładzie skupimy się na parametrze max_depth oznaczającego maksymalne zagłebienie drzewa.\n",
        "\n",
        "\n",
        "```\n",
        "tree_clf = DecisionTreeClassifier(max_depth=1)\n",
        "```\n",
        "\n",
        "Zobaczmy jaki będzie wynik wykonania takiego kodu.\n",
        "Przy użyciu modułu export_graphviz oraz pydot tworzymy graficzną reprezentację drzewa, która zostaje zapisana na dysku zgodnie z podaną nazwą.\n"
      ]
    },
    {
      "cell_type": "code",
      "metadata": {
        "id": "z4dMkYvr5sAE"
      },
      "source": [
        "from sklearn.datasets import load_iris\n",
        "from sklearn.tree import DecisionTreeClassifier\n",
        "\n",
        "iris = load_iris()\n",
        "X= iris.data[:,2:]\n",
        "y = iris.target\n",
        "\n",
        "tree_clf = DecisionTreeClassifier(max_depth=3)\n",
        "tree_clf.fit(X,y)\n",
        "\n",
        "from sklearn.tree import export_graphviz\n",
        "import pydot\n",
        "export_graphviz(\n",
        "    tree_clf,\n",
        "    out_file='drzewo.dot',\n",
        "    feature_names=iris.feature_names[2:],\n",
        "    class_names=iris.target_names,\n",
        "    rounded = True,\n",
        "    filled=True\n",
        ")\n",
        "(graph, ) = pydot.graph_from_dot_file('drzewo.dot')# Zapis do pliku png\n",
        "graph.write_png('drzewo.png')"
      ],
      "execution_count": null,
      "outputs": []
    },
    {
      "cell_type": "code",
      "source": [],
      "metadata": {
        "id": "PuTwwNfcsI38"
      },
      "execution_count": null,
      "outputs": []
    },
    {
      "cell_type": "markdown",
      "metadata": {
        "id": "dy-1brTv-WAF"
      },
      "source": [
        "Zobaczmy jak wygląda drzewo po wykonaniu kodu:"
      ]
    },
    {
      "cell_type": "markdown",
      "metadata": {
        "id": "IARaWVHk-HWT"
      },
      "source": [
        "\n",
        "![drzewo.png](data:image/png;base64,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)"
      ]
    },
    {
      "cell_type": "markdown",
      "metadata": {
        "id": "_uGlY3Oy-ZjF"
      },
      "source": [
        "W głównym weźlę czyli korzeniu na wysokości 0 zostało zadane pytanie - czy długość płatka jest mniejsza niż 2,45 cm. Jeśli warunek jest spełniony znajdujemy się w liściu na wysokości 1. Drzewo przewiduje iż znajduje się to klasa setosa.\n",
        "<p>\n",
        "A co w przypadku, gdfy warunke nie zostaje spełiony i znajdujemy się w prawym liściu? Wskazana klasa to versicolor.\n",
        "\n",
        "Teraz pozostaje zrozumieć czym są wszystkie pozostałe atrybuty znajdujące się w drzewie.\n",
        "\n",
        "\n",
        "> Atrybut *sample* odpowiada za liczbę próbek uczących wyznaczonych dla danego węzła.<P>\n",
        "> Atrubut *value* wskazuje jak wiele przykładów uczących z każdej klasy należy do danego węzła lub liścia. W przypadku liścia po lewej stronie mamy 50 próbek należących do klasy *setosa* oraz po 0 próbek należących do pozostałych klas. W przypadku prawego liścia jest 50 próbek należacych do klasy *versicolor* i 50 należacych do klasy *virginica*.\n",
        "\n",
        "Widać teraz, że mamy tylko 2 liście i aż 3 klasy. Do tego jeden z liści zawiera po tyle samo próbek dwóch klas. Oznacza to, iż drzewo jest za płytkie i poziom zagłębienia oznaczany parametrem *max_depth* powinien zostać zwiększony.\n",
        "\n",
        "Zanim do tego przejdziemy pozostaje do rozszyfrowania ostatni parametr: *gini* - jest on rozumiany jako miara zanieczyszczenia. Oznacza to, iż będzie wynosił 0 jeśli wszystkie próbki znajdujące się w danym węźle czy liściu będą przynależeć tylko do jednej klasy. Dobrym przykładem jest tutaj lewy liść dla którego wartość parametru *gini* jest równa 0.\n",
        "\n"
      ]
    },
    {
      "cell_type": "markdown",
      "metadata": {
        "id": "mFvPYxI5Ckwx"
      },
      "source": [
        "![drzewo2.png](data:image/png;base64,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)"
      ]
    },
    {
      "cell_type": "markdown",
      "metadata": {
        "id": "huY5wEXADlK8"
      },
      "source": [
        "Widzimy, że zmieniło się pytanie zadawane w korzeniu oraz pojawiło się pytanie węźle na poziomie 1 oraz dwa dodatkowe liście wychodzące z tego węzła.\n",
        "Zmieniły się również wartości atrybutów, zarówno *samples* jak i *gini*."
      ]
    },
    {
      "cell_type": "markdown",
      "metadata": {
        "id": "lTzL9CA-KO7I"
      },
      "source": [
        "W jaki sposób szacować prawdopodobieństwo przynależności próbki do danej klasy dla drzew decyzyjnych?<P>\n",
        "Wystarczy użyć  `.predict.proba()` podając jako agrumenty wartości danej próbki.\n",
        "W wyniki otrzymane zostaną prawdopodobieństwa przynależności do klas występujących w danym drzewie. <p>\n",
        "Z wykorzystaniem polecenia `predict()` i podając wartość otrzyma się konkretną przynależnośc do klasy. Wystarczy odpalić poniższą komórkę i zobaczyć jakie zostaną otrzymane wyniki.\n"
      ]
    },
    {
      "cell_type": "code",
      "metadata": {
        "colab": {
          "base_uri": "https://localhost:8080/"
        },
        "id": "eM7NbmiOJlWu",
        "outputId": "6db3efd6-5d05-48e2-db8c-b3e463bab1a0"
      },
      "source": [
        "print(tree_clf.predict_proba([[8,0.5]]))\n",
        "tree_clf.predict([[8,0.5]])"
      ],
      "execution_count": null,
      "outputs": [
        {
          "output_type": "stream",
          "name": "stdout",
          "text": [
            "[[1. 0. 0.]]\n"
          ]
        },
        {
          "output_type": "execute_result",
          "data": {
            "text/plain": [
              "array([0])"
            ]
          },
          "metadata": {},
          "execution_count": 3
        }
      ]
    },
    {
      "cell_type": "markdown",
      "metadata": {
        "id": "wohzH1W2GPOy"
      },
      "source": [
        "Teraz spróbujemy wykonać takie same operacje dotyczace tworzenia klasyfikatora, ale z wykorzystaniem algorytmu Random Forest.\n",
        "\n",
        "Do tego celu wykorzystamy funkcję:\n",
        "```\n",
        "RandomForestClassifier(max_depth=2, random_state=0)\n",
        "```\n",
        "\n",
        "Więcej informacji dotyczących parametrów tej funkcji można znaleźć na stronie:\n",
        "https://scikit-learn.org/stable/modules/generated/sklearn.ensemble.RandomForestClassifier.html?highlight=random%20forest#sklearn.ensemble.RandomForestClassifier\n"
      ]
    },
    {
      "cell_type": "code",
      "metadata": {
        "colab": {
          "base_uri": "https://localhost:8080/"
        },
        "id": "lFQ0H9nQxOQ0",
        "outputId": "4c5b33f1-647b-4e79-dd2e-d78128a22692"
      },
      "source": [
        "dataset = datasets.load_iris()\n",
        "X = dataset.data\n",
        "y = dataset.target\n",
        "X_train, X_test, y_train, y_test = train_test_split(X, y, test_size=0.10,random_state=109)\n",
        "\n",
        "\n",
        "clf = RandomForestClassifier(max_depth=2, random_state=0)\n",
        "clf.fit(X, y)\n",
        "\n",
        "#print(clf.score)\n",
        "#print(clf.predict([[0, 0, 0, 0]]))\n",
        "\n",
        "tree = clf .estimators_[5]\n",
        "export_graphviz(tree, out_file = 'tree.dot', feature_names = dataset.feature_names, rounded = True, precision = 1)# Use dot file to create a graph\n",
        "(graph, ) = pydot.graph_from_dot_file('tree.dot')# Write graph to a png file\n",
        "graph.write_png('tree.png')\n",
        "\n",
        "y_pred= clf.predict(X_test)\n",
        "print(\"Wektor etykiet dla danych testowych:\",y_test)\n",
        "print(\"Wektor etykiet wytypowany przez klasyfikator:\",y_pred)\n",
        "print('Accuracy:')\n",
        "accuracy_score(y_test, y_pred)"
      ],
      "execution_count": null,
      "outputs": [
        {
          "output_type": "stream",
          "name": "stdout",
          "text": [
            "Wektor etykiet dla danych testowych: [2 1 2 0 2 1 0 2 1 2 2 0 1 0 0]\n",
            "Wektor etykiet wytypowany przez klasyfikator: [2 1 2 0 2 1 0 2 1 2 2 0 1 0 0]\n",
            "Accuracy:\n"
          ]
        },
        {
          "output_type": "execute_result",
          "data": {
            "text/plain": [
              "1.0"
            ]
          },
          "metadata": {},
          "execution_count": 4
        }
      ]
    },
    {
      "cell_type": "markdown",
      "source": [
        "Zadanie 1"
      ],
      "metadata": {
        "id": "u0UqVTYvzBuP"
      }
    },
    {
      "cell_type": "code",
      "source": [
        "print(\"Precision Score:\", precision_score(y_test,y_pred, average='macro'))\n",
        "print(\"Recall Score:\", recall_score(y_test,y_pred, average='macro'))\n",
        "print(\"F1 Score:\", f1_score(y_test,y_pred, average = 'macro'))\n",
        "print(\"Classification report:\\n \", classification_report(y_test,y_pred))"
      ],
      "metadata": {
        "colab": {
          "base_uri": "https://localhost:8080/"
        },
        "id": "45X6dAFWsfOJ",
        "outputId": "47e79b6b-26f0-4c85-a36d-e380c7d5148a"
      },
      "execution_count": null,
      "outputs": [
        {
          "output_type": "stream",
          "name": "stdout",
          "text": [
            "Precision Score: 1.0\n",
            "Recall Score: 1.0\n",
            "F1 Score: 1.0\n",
            "Classification report:\n",
            "                precision    recall  f1-score   support\n",
            "\n",
            "           0       1.00      1.00      1.00         5\n",
            "           1       1.00      1.00      1.00         4\n",
            "           2       1.00      1.00      1.00         6\n",
            "\n",
            "    accuracy                           1.00        15\n",
            "   macro avg       1.00      1.00      1.00        15\n",
            "weighted avg       1.00      1.00      1.00        15\n",
            "\n"
          ]
        }
      ]
    },
    {
      "cell_type": "markdown",
      "metadata": {
        "id": "SffgigggIJPs"
      },
      "source": [
        "Jak widać wektory zgadzają się ze sobą, a jak wygląd graficzna reprezentacja grafu takiego drzewa?\n",
        "Wystarczy spojrzeć poniżej aby się przekonać. <p>\n",
        "Jak widać nie zmieniło się wiele w prównaniu z algorytmem drzewa decyzyjnego."
      ]
    },
    {
      "cell_type": "markdown",
      "metadata": {
        "id": "0eAR0LkZ4GVW"
      },
      "source": [
        "![tree_random_forest.png](data:image/png;base64,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)"
      ]
    },
    {
      "cell_type": "markdown",
      "metadata": {
        "id": "pLgQBPtjMJnO"
      },
      "source": [
        "Skoro mamy za sobą wprowadzenie do drzew decyzyjnych, przejdziemy do konkretniejszych przykładów.\n",
        "W tym celu wykorzystamy dataset diabetes, który jest udostępniony na stronie Kaggle na licencji C0."
      ]
    },
    {
      "cell_type": "code",
      "metadata": {
        "colab": {
          "base_uri": "https://localhost:8080/",
          "height": 339
        },
        "id": "ZywLh0dkMIX-",
        "outputId": "3d3e3021-e3d0-4ba0-e5dc-7f20c7cfccc8"
      },
      "source": [
        "import pandas as pd\n",
        "\n",
        "features = pd.read_csv('/content/drive/MyDrive/UM_LAB2/jupyternotebook/diabetes.csv')\n",
        "features.head(5)"
      ],
      "execution_count": null,
      "outputs": [
        {
          "output_type": "error",
          "ename": "FileNotFoundError",
          "evalue": "[Errno 2] No such file or directory: '/content/drive/MyDrive/UM_LAB2/jupyternotebook/diabetes.csv'",
          "traceback": [
            "\u001b[0;31m---------------------------------------------------------------------------\u001b[0m",
            "\u001b[0;31mFileNotFoundError\u001b[0m                         Traceback (most recent call last)",
            "\u001b[0;32m<ipython-input-6-85574855fa3a>\u001b[0m in \u001b[0;36m<cell line: 0>\u001b[0;34m()\u001b[0m\n\u001b[1;32m      1\u001b[0m \u001b[0;32mimport\u001b[0m \u001b[0mpandas\u001b[0m \u001b[0;32mas\u001b[0m \u001b[0mpd\u001b[0m\u001b[0;34m\u001b[0m\u001b[0;34m\u001b[0m\u001b[0m\n\u001b[1;32m      2\u001b[0m \u001b[0;34m\u001b[0m\u001b[0m\n\u001b[0;32m----> 3\u001b[0;31m \u001b[0mfeatures\u001b[0m \u001b[0;34m=\u001b[0m \u001b[0mpd\u001b[0m\u001b[0;34m.\u001b[0m\u001b[0mread_csv\u001b[0m\u001b[0;34m(\u001b[0m\u001b[0;34m'/content/drive/MyDrive/UM_LAB2/jupyternotebook/diabetes.csv'\u001b[0m\u001b[0;34m)\u001b[0m\u001b[0;34m\u001b[0m\u001b[0;34m\u001b[0m\u001b[0m\n\u001b[0m\u001b[1;32m      4\u001b[0m \u001b[0mfeatures\u001b[0m\u001b[0;34m.\u001b[0m\u001b[0mhead\u001b[0m\u001b[0;34m(\u001b[0m\u001b[0;36m5\u001b[0m\u001b[0;34m)\u001b[0m\u001b[0;34m\u001b[0m\u001b[0;34m\u001b[0m\u001b[0m\n",
            "\u001b[0;32m/usr/local/lib/python3.11/dist-packages/pandas/io/parsers/readers.py\u001b[0m in \u001b[0;36mread_csv\u001b[0;34m(filepath_or_buffer, sep, delimiter, header, names, index_col, usecols, dtype, engine, converters, true_values, false_values, skipinitialspace, skiprows, skipfooter, nrows, na_values, keep_default_na, na_filter, verbose, skip_blank_lines, parse_dates, infer_datetime_format, keep_date_col, date_parser, date_format, dayfirst, cache_dates, iterator, chunksize, compression, thousands, decimal, lineterminator, quotechar, quoting, doublequote, escapechar, comment, encoding, encoding_errors, dialect, on_bad_lines, delim_whitespace, low_memory, memory_map, float_precision, storage_options, dtype_backend)\u001b[0m\n\u001b[1;32m   1024\u001b[0m     \u001b[0mkwds\u001b[0m\u001b[0;34m.\u001b[0m\u001b[0mupdate\u001b[0m\u001b[0;34m(\u001b[0m\u001b[0mkwds_defaults\u001b[0m\u001b[0;34m)\u001b[0m\u001b[0;34m\u001b[0m\u001b[0;34m\u001b[0m\u001b[0m\n\u001b[1;32m   1025\u001b[0m \u001b[0;34m\u001b[0m\u001b[0m\n\u001b[0;32m-> 1026\u001b[0;31m     \u001b[0;32mreturn\u001b[0m \u001b[0m_read\u001b[0m\u001b[0;34m(\u001b[0m\u001b[0mfilepath_or_buffer\u001b[0m\u001b[0;34m,\u001b[0m \u001b[0mkwds\u001b[0m\u001b[0;34m)\u001b[0m\u001b[0;34m\u001b[0m\u001b[0;34m\u001b[0m\u001b[0m\n\u001b[0m\u001b[1;32m   1027\u001b[0m \u001b[0;34m\u001b[0m\u001b[0m\n\u001b[1;32m   1028\u001b[0m \u001b[0;34m\u001b[0m\u001b[0m\n",
            "\u001b[0;32m/usr/local/lib/python3.11/dist-packages/pandas/io/parsers/readers.py\u001b[0m in \u001b[0;36m_read\u001b[0;34m(filepath_or_buffer, kwds)\u001b[0m\n\u001b[1;32m    618\u001b[0m \u001b[0;34m\u001b[0m\u001b[0m\n\u001b[1;32m    619\u001b[0m     \u001b[0;31m# Create the parser.\u001b[0m\u001b[0;34m\u001b[0m\u001b[0;34m\u001b[0m\u001b[0m\n\u001b[0;32m--> 620\u001b[0;31m     \u001b[0mparser\u001b[0m \u001b[0;34m=\u001b[0m \u001b[0mTextFileReader\u001b[0m\u001b[0;34m(\u001b[0m\u001b[0mfilepath_or_buffer\u001b[0m\u001b[0;34m,\u001b[0m \u001b[0;34m**\u001b[0m\u001b[0mkwds\u001b[0m\u001b[0;34m)\u001b[0m\u001b[0;34m\u001b[0m\u001b[0;34m\u001b[0m\u001b[0m\n\u001b[0m\u001b[1;32m    621\u001b[0m \u001b[0;34m\u001b[0m\u001b[0m\n\u001b[1;32m    622\u001b[0m     \u001b[0;32mif\u001b[0m \u001b[0mchunksize\u001b[0m \u001b[0;32mor\u001b[0m \u001b[0miterator\u001b[0m\u001b[0;34m:\u001b[0m\u001b[0;34m\u001b[0m\u001b[0;34m\u001b[0m\u001b[0m\n",
            "\u001b[0;32m/usr/local/lib/python3.11/dist-packages/pandas/io/parsers/readers.py\u001b[0m in \u001b[0;36m__init__\u001b[0;34m(self, f, engine, **kwds)\u001b[0m\n\u001b[1;32m   1618\u001b[0m \u001b[0;34m\u001b[0m\u001b[0m\n\u001b[1;32m   1619\u001b[0m         \u001b[0mself\u001b[0m\u001b[0;34m.\u001b[0m\u001b[0mhandles\u001b[0m\u001b[0;34m:\u001b[0m \u001b[0mIOHandles\u001b[0m \u001b[0;34m|\u001b[0m \u001b[0;32mNone\u001b[0m \u001b[0;34m=\u001b[0m \u001b[0;32mNone\u001b[0m\u001b[0;34m\u001b[0m\u001b[0;34m\u001b[0m\u001b[0m\n\u001b[0;32m-> 1620\u001b[0;31m         \u001b[0mself\u001b[0m\u001b[0;34m.\u001b[0m\u001b[0m_engine\u001b[0m \u001b[0;34m=\u001b[0m \u001b[0mself\u001b[0m\u001b[0;34m.\u001b[0m\u001b[0m_make_engine\u001b[0m\u001b[0;34m(\u001b[0m\u001b[0mf\u001b[0m\u001b[0;34m,\u001b[0m \u001b[0mself\u001b[0m\u001b[0;34m.\u001b[0m\u001b[0mengine\u001b[0m\u001b[0;34m)\u001b[0m\u001b[0;34m\u001b[0m\u001b[0;34m\u001b[0m\u001b[0m\n\u001b[0m\u001b[1;32m   1621\u001b[0m \u001b[0;34m\u001b[0m\u001b[0m\n\u001b[1;32m   1622\u001b[0m     \u001b[0;32mdef\u001b[0m \u001b[0mclose\u001b[0m\u001b[0;34m(\u001b[0m\u001b[0mself\u001b[0m\u001b[0;34m)\u001b[0m \u001b[0;34m->\u001b[0m \u001b[0;32mNone\u001b[0m\u001b[0;34m:\u001b[0m\u001b[0;34m\u001b[0m\u001b[0;34m\u001b[0m\u001b[0m\n",
            "\u001b[0;32m/usr/local/lib/python3.11/dist-packages/pandas/io/parsers/readers.py\u001b[0m in \u001b[0;36m_make_engine\u001b[0;34m(self, f, engine)\u001b[0m\n\u001b[1;32m   1878\u001b[0m                 \u001b[0;32mif\u001b[0m \u001b[0;34m\"b\"\u001b[0m \u001b[0;32mnot\u001b[0m \u001b[0;32min\u001b[0m \u001b[0mmode\u001b[0m\u001b[0;34m:\u001b[0m\u001b[0;34m\u001b[0m\u001b[0;34m\u001b[0m\u001b[0m\n\u001b[1;32m   1879\u001b[0m                     \u001b[0mmode\u001b[0m \u001b[0;34m+=\u001b[0m \u001b[0;34m\"b\"\u001b[0m\u001b[0;34m\u001b[0m\u001b[0;34m\u001b[0m\u001b[0m\n\u001b[0;32m-> 1880\u001b[0;31m             self.handles = get_handle(\n\u001b[0m\u001b[1;32m   1881\u001b[0m                 \u001b[0mf\u001b[0m\u001b[0;34m,\u001b[0m\u001b[0;34m\u001b[0m\u001b[0;34m\u001b[0m\u001b[0m\n\u001b[1;32m   1882\u001b[0m                 \u001b[0mmode\u001b[0m\u001b[0;34m,\u001b[0m\u001b[0;34m\u001b[0m\u001b[0;34m\u001b[0m\u001b[0m\n",
            "\u001b[0;32m/usr/local/lib/python3.11/dist-packages/pandas/io/common.py\u001b[0m in \u001b[0;36mget_handle\u001b[0;34m(path_or_buf, mode, encoding, compression, memory_map, is_text, errors, storage_options)\u001b[0m\n\u001b[1;32m    871\u001b[0m         \u001b[0;32mif\u001b[0m \u001b[0mioargs\u001b[0m\u001b[0;34m.\u001b[0m\u001b[0mencoding\u001b[0m \u001b[0;32mand\u001b[0m \u001b[0;34m\"b\"\u001b[0m \u001b[0;32mnot\u001b[0m \u001b[0;32min\u001b[0m \u001b[0mioargs\u001b[0m\u001b[0;34m.\u001b[0m\u001b[0mmode\u001b[0m\u001b[0;34m:\u001b[0m\u001b[0;34m\u001b[0m\u001b[0;34m\u001b[0m\u001b[0m\n\u001b[1;32m    872\u001b[0m             \u001b[0;31m# Encoding\u001b[0m\u001b[0;34m\u001b[0m\u001b[0;34m\u001b[0m\u001b[0m\n\u001b[0;32m--> 873\u001b[0;31m             handle = open(\n\u001b[0m\u001b[1;32m    874\u001b[0m                 \u001b[0mhandle\u001b[0m\u001b[0;34m,\u001b[0m\u001b[0;34m\u001b[0m\u001b[0;34m\u001b[0m\u001b[0m\n\u001b[1;32m    875\u001b[0m                 \u001b[0mioargs\u001b[0m\u001b[0;34m.\u001b[0m\u001b[0mmode\u001b[0m\u001b[0;34m,\u001b[0m\u001b[0;34m\u001b[0m\u001b[0;34m\u001b[0m\u001b[0m\n",
            "\u001b[0;31mFileNotFoundError\u001b[0m: [Errno 2] No such file or directory: '/content/drive/MyDrive/UM_LAB2/jupyternotebook/diabetes.csv'"
          ]
        }
      ]
    },
    {
      "cell_type": "markdown",
      "metadata": {
        "id": "ii2ZsLdYWFUc"
      },
      "source": [
        "Wyśtwitlamy kształt naszego datasetu, mamy 8 cech i etykietę na końcu,w  sumie drugi wymiar to 9."
      ]
    },
    {
      "cell_type": "code",
      "source": [
        "from google.colab import drive\n",
        "drive.mount('/content/drive')"
      ],
      "metadata": {
        "colab": {
          "base_uri": "https://localhost:8080/"
        },
        "id": "GTpDoMCQpRxp",
        "outputId": "32ce486f-1c5e-4ab8-dbe0-b57923324074"
      },
      "execution_count": null,
      "outputs": [
        {
          "output_type": "stream",
          "name": "stdout",
          "text": [
            "Drive already mounted at /content/drive; to attempt to forcibly remount, call drive.mount(\"/content/drive\", force_remount=True).\n"
          ]
        }
      ]
    },
    {
      "cell_type": "code",
      "metadata": {
        "colab": {
          "base_uri": "https://localhost:8080/"
        },
        "id": "3BYbdpJJMcr8",
        "outputId": "f820cfee-4b8e-4f17-9f48-aa3fbf56e298"
      },
      "source": [
        "print('The shape of our features is:', features.shape)\n",
        "print('our features is:', features)"
      ],
      "execution_count": null,
      "outputs": [
        {
          "output_type": "stream",
          "name": "stdout",
          "text": [
            "The shape of our features is: (768, 9)\n",
            "our features is:      Pregnancies  Glucose  BloodPressure  SkinThickness  Insulin   BMI  \\\n",
            "0              6      148             72             35        0  33.6   \n",
            "1              1       85             66             29        0  26.6   \n",
            "2              8      183             64              0        0  23.3   \n",
            "3              1       89             66             23       94  28.1   \n",
            "4              0      137             40             35      168  43.1   \n",
            "..           ...      ...            ...            ...      ...   ...   \n",
            "763           10      101             76             48      180  32.9   \n",
            "764            2      122             70             27        0  36.8   \n",
            "765            5      121             72             23      112  26.2   \n",
            "766            1      126             60              0        0  30.1   \n",
            "767            1       93             70             31        0  30.4   \n",
            "\n",
            "     DiabetesPedigreeFunction  Age  Outcome  \n",
            "0                       0.627   50        1  \n",
            "1                       0.351   31        0  \n",
            "2                       0.672   32        1  \n",
            "3                       0.167   21        0  \n",
            "4                       2.288   33        1  \n",
            "..                        ...  ...      ...  \n",
            "763                     0.171   63        0  \n",
            "764                     0.340   27        0  \n",
            "765                     0.245   30        0  \n",
            "766                     0.349   47        1  \n",
            "767                     0.315   23        0  \n",
            "\n",
            "[768 rows x 9 columns]\n"
          ]
        }
      ]
    },
    {
      "cell_type": "markdown",
      "metadata": {
        "id": "9RzvaFPYWO0r"
      },
      "source": [
        "Testowo sprawdzamy statystykę danych z użyciem funkcji:\n",
        "```\n",
        "#features.describe()\n",
        "```\n",
        "\n"
      ]
    },
    {
      "cell_type": "code",
      "metadata": {
        "colab": {
          "base_uri": "https://localhost:8080/",
          "height": 300
        },
        "id": "8Yy8H_MbMedl",
        "outputId": "beed27bd-5dd7-43a7-8ae4-6c1bbcfe5f05"
      },
      "source": [
        "features.describe()"
      ],
      "execution_count": null,
      "outputs": [
        {
          "output_type": "execute_result",
          "data": {
            "text/plain": [
              "       Pregnancies     Glucose  BloodPressure  SkinThickness     Insulin  \\\n",
              "count   768.000000  768.000000     768.000000     768.000000  768.000000   \n",
              "mean      3.845052  120.894531      69.105469      20.536458   79.799479   \n",
              "std       3.369578   31.972618      19.355807      15.952218  115.244002   \n",
              "min       0.000000    0.000000       0.000000       0.000000    0.000000   \n",
              "25%       1.000000   99.000000      62.000000       0.000000    0.000000   \n",
              "50%       3.000000  117.000000      72.000000      23.000000   30.500000   \n",
              "75%       6.000000  140.250000      80.000000      32.000000  127.250000   \n",
              "max      17.000000  199.000000     122.000000      99.000000  846.000000   \n",
              "\n",
              "              BMI  DiabetesPedigreeFunction         Age     Outcome  \n",
              "count  768.000000                768.000000  768.000000  768.000000  \n",
              "mean    31.992578                  0.471876   33.240885    0.348958  \n",
              "std      7.884160                  0.331329   11.760232    0.476951  \n",
              "min      0.000000                  0.078000   21.000000    0.000000  \n",
              "25%     27.300000                  0.243750   24.000000    0.000000  \n",
              "50%     32.000000                  0.372500   29.000000    0.000000  \n",
              "75%     36.600000                  0.626250   41.000000    1.000000  \n",
              "max     67.100000                  2.420000   81.000000    1.000000  "
            ],
            "text/html": [
              "\n",
              "  <div id=\"df-f6686657-3c44-42f6-ba69-2d56ed4d327e\" class=\"colab-df-container\">\n",
              "    <div>\n",
              "<style scoped>\n",
              "    .dataframe tbody tr th:only-of-type {\n",
              "        vertical-align: middle;\n",
              "    }\n",
              "\n",
              "    .dataframe tbody tr th {\n",
              "        vertical-align: top;\n",
              "    }\n",
              "\n",
              "    .dataframe thead th {\n",
              "        text-align: right;\n",
              "    }\n",
              "</style>\n",
              "<table border=\"1\" class=\"dataframe\">\n",
              "  <thead>\n",
              "    <tr style=\"text-align: right;\">\n",
              "      <th></th>\n",
              "      <th>Pregnancies</th>\n",
              "      <th>Glucose</th>\n",
              "      <th>BloodPressure</th>\n",
              "      <th>SkinThickness</th>\n",
              "      <th>Insulin</th>\n",
              "      <th>BMI</th>\n",
              "      <th>DiabetesPedigreeFunction</th>\n",
              "      <th>Age</th>\n",
              "      <th>Outcome</th>\n",
              "    </tr>\n",
              "  </thead>\n",
              "  <tbody>\n",
              "    <tr>\n",
              "      <th>count</th>\n",
              "      <td>768.000000</td>\n",
              "      <td>768.000000</td>\n",
              "      <td>768.000000</td>\n",
              "      <td>768.000000</td>\n",
              "      <td>768.000000</td>\n",
              "      <td>768.000000</td>\n",
              "      <td>768.000000</td>\n",
              "      <td>768.000000</td>\n",
              "      <td>768.000000</td>\n",
              "    </tr>\n",
              "    <tr>\n",
              "      <th>mean</th>\n",
              "      <td>3.845052</td>\n",
              "      <td>120.894531</td>\n",
              "      <td>69.105469</td>\n",
              "      <td>20.536458</td>\n",
              "      <td>79.799479</td>\n",
              "      <td>31.992578</td>\n",
              "      <td>0.471876</td>\n",
              "      <td>33.240885</td>\n",
              "      <td>0.348958</td>\n",
              "    </tr>\n",
              "    <tr>\n",
              "      <th>std</th>\n",
              "      <td>3.369578</td>\n",
              "      <td>31.972618</td>\n",
              "      <td>19.355807</td>\n",
              "      <td>15.952218</td>\n",
              "      <td>115.244002</td>\n",
              "      <td>7.884160</td>\n",
              "      <td>0.331329</td>\n",
              "      <td>11.760232</td>\n",
              "      <td>0.476951</td>\n",
              "    </tr>\n",
              "    <tr>\n",
              "      <th>min</th>\n",
              "      <td>0.000000</td>\n",
              "      <td>0.000000</td>\n",
              "      <td>0.000000</td>\n",
              "      <td>0.000000</td>\n",
              "      <td>0.000000</td>\n",
              "      <td>0.000000</td>\n",
              "      <td>0.078000</td>\n",
              "      <td>21.000000</td>\n",
              "      <td>0.000000</td>\n",
              "    </tr>\n",
              "    <tr>\n",
              "      <th>25%</th>\n",
              "      <td>1.000000</td>\n",
              "      <td>99.000000</td>\n",
              "      <td>62.000000</td>\n",
              "      <td>0.000000</td>\n",
              "      <td>0.000000</td>\n",
              "      <td>27.300000</td>\n",
              "      <td>0.243750</td>\n",
              "      <td>24.000000</td>\n",
              "      <td>0.000000</td>\n",
              "    </tr>\n",
              "    <tr>\n",
              "      <th>50%</th>\n",
              "      <td>3.000000</td>\n",
              "      <td>117.000000</td>\n",
              "      <td>72.000000</td>\n",
              "      <td>23.000000</td>\n",
              "      <td>30.500000</td>\n",
              "      <td>32.000000</td>\n",
              "      <td>0.372500</td>\n",
              "      <td>29.000000</td>\n",
              "      <td>0.000000</td>\n",
              "    </tr>\n",
              "    <tr>\n",
              "      <th>75%</th>\n",
              "      <td>6.000000</td>\n",
              "      <td>140.250000</td>\n",
              "      <td>80.000000</td>\n",
              "      <td>32.000000</td>\n",
              "      <td>127.250000</td>\n",
              "      <td>36.600000</td>\n",
              "      <td>0.626250</td>\n",
              "      <td>41.000000</td>\n",
              "      <td>1.000000</td>\n",
              "    </tr>\n",
              "    <tr>\n",
              "      <th>max</th>\n",
              "      <td>17.000000</td>\n",
              "      <td>199.000000</td>\n",
              "      <td>122.000000</td>\n",
              "      <td>99.000000</td>\n",
              "      <td>846.000000</td>\n",
              "      <td>67.100000</td>\n",
              "      <td>2.420000</td>\n",
              "      <td>81.000000</td>\n",
              "      <td>1.000000</td>\n",
              "    </tr>\n",
              "  </tbody>\n",
              "</table>\n",
              "</div>\n",
              "    <div class=\"colab-df-buttons\">\n",
              "\n",
              "  <div class=\"colab-df-container\">\n",
              "    <button class=\"colab-df-convert\" onclick=\"convertToInteractive('df-f6686657-3c44-42f6-ba69-2d56ed4d327e')\"\n",
              "            title=\"Convert this dataframe to an interactive table.\"\n",
              "            style=\"display:none;\">\n",
              "\n",
              "  <svg xmlns=\"http://www.w3.org/2000/svg\" height=\"24px\" viewBox=\"0 -960 960 960\">\n",
              "    <path d=\"M120-120v-720h720v720H120Zm60-500h600v-160H180v160Zm220 220h160v-160H400v160Zm0 220h160v-160H400v160ZM180-400h160v-160H180v160Zm440 0h160v-160H620v160ZM180-180h160v-160H180v160Zm440 0h160v-160H620v160Z\"/>\n",
              "  </svg>\n",
              "    </button>\n",
              "\n",
              "  <style>\n",
              "    .colab-df-container {\n",
              "      display:flex;\n",
              "      gap: 12px;\n",
              "    }\n",
              "\n",
              "    .colab-df-convert {\n",
              "      background-color: #E8F0FE;\n",
              "      border: none;\n",
              "      border-radius: 50%;\n",
              "      cursor: pointer;\n",
              "      display: none;\n",
              "      fill: #1967D2;\n",
              "      height: 32px;\n",
              "      padding: 0 0 0 0;\n",
              "      width: 32px;\n",
              "    }\n",
              "\n",
              "    .colab-df-convert:hover {\n",
              "      background-color: #E2EBFA;\n",
              "      box-shadow: 0px 1px 2px rgba(60, 64, 67, 0.3), 0px 1px 3px 1px rgba(60, 64, 67, 0.15);\n",
              "      fill: #174EA6;\n",
              "    }\n",
              "\n",
              "    .colab-df-buttons div {\n",
              "      margin-bottom: 4px;\n",
              "    }\n",
              "\n",
              "    [theme=dark] .colab-df-convert {\n",
              "      background-color: #3B4455;\n",
              "      fill: #D2E3FC;\n",
              "    }\n",
              "\n",
              "    [theme=dark] .colab-df-convert:hover {\n",
              "      background-color: #434B5C;\n",
              "      box-shadow: 0px 1px 3px 1px rgba(0, 0, 0, 0.15);\n",
              "      filter: drop-shadow(0px 1px 2px rgba(0, 0, 0, 0.3));\n",
              "      fill: #FFFFFF;\n",
              "    }\n",
              "  </style>\n",
              "\n",
              "    <script>\n",
              "      const buttonEl =\n",
              "        document.querySelector('#df-f6686657-3c44-42f6-ba69-2d56ed4d327e button.colab-df-convert');\n",
              "      buttonEl.style.display =\n",
              "        google.colab.kernel.accessAllowed ? 'block' : 'none';\n",
              "\n",
              "      async function convertToInteractive(key) {\n",
              "        const element = document.querySelector('#df-f6686657-3c44-42f6-ba69-2d56ed4d327e');\n",
              "        const dataTable =\n",
              "          await google.colab.kernel.invokeFunction('convertToInteractive',\n",
              "                                                    [key], {});\n",
              "        if (!dataTable) return;\n",
              "\n",
              "        const docLinkHtml = 'Like what you see? Visit the ' +\n",
              "          '<a target=\"_blank\" href=https://colab.research.google.com/notebooks/data_table.ipynb>data table notebook</a>'\n",
              "          + ' to learn more about interactive tables.';\n",
              "        element.innerHTML = '';\n",
              "        dataTable['output_type'] = 'display_data';\n",
              "        await google.colab.output.renderOutput(dataTable, element);\n",
              "        const docLink = document.createElement('div');\n",
              "        docLink.innerHTML = docLinkHtml;\n",
              "        element.appendChild(docLink);\n",
              "      }\n",
              "    </script>\n",
              "  </div>\n",
              "\n",
              "\n",
              "<div id=\"df-1939e5a3-2422-47e7-a965-6340cedac93d\">\n",
              "  <button class=\"colab-df-quickchart\" onclick=\"quickchart('df-1939e5a3-2422-47e7-a965-6340cedac93d')\"\n",
              "            title=\"Suggest charts\"\n",
              "            style=\"display:none;\">\n",
              "\n",
              "<svg xmlns=\"http://www.w3.org/2000/svg\" height=\"24px\"viewBox=\"0 0 24 24\"\n",
              "     width=\"24px\">\n",
              "    <g>\n",
              "        <path d=\"M19 3H5c-1.1 0-2 .9-2 2v14c0 1.1.9 2 2 2h14c1.1 0 2-.9 2-2V5c0-1.1-.9-2-2-2zM9 17H7v-7h2v7zm4 0h-2V7h2v10zm4 0h-2v-4h2v4z\"/>\n",
              "    </g>\n",
              "</svg>\n",
              "  </button>\n",
              "\n",
              "<style>\n",
              "  .colab-df-quickchart {\n",
              "      --bg-color: #E8F0FE;\n",
              "      --fill-color: #1967D2;\n",
              "      --hover-bg-color: #E2EBFA;\n",
              "      --hover-fill-color: #174EA6;\n",
              "      --disabled-fill-color: #AAA;\n",
              "      --disabled-bg-color: #DDD;\n",
              "  }\n",
              "\n",
              "  [theme=dark] .colab-df-quickchart {\n",
              "      --bg-color: #3B4455;\n",
              "      --fill-color: #D2E3FC;\n",
              "      --hover-bg-color: #434B5C;\n",
              "      --hover-fill-color: #FFFFFF;\n",
              "      --disabled-bg-color: #3B4455;\n",
              "      --disabled-fill-color: #666;\n",
              "  }\n",
              "\n",
              "  .colab-df-quickchart {\n",
              "    background-color: var(--bg-color);\n",
              "    border: none;\n",
              "    border-radius: 50%;\n",
              "    cursor: pointer;\n",
              "    display: none;\n",
              "    fill: var(--fill-color);\n",
              "    height: 32px;\n",
              "    padding: 0;\n",
              "    width: 32px;\n",
              "  }\n",
              "\n",
              "  .colab-df-quickchart:hover {\n",
              "    background-color: var(--hover-bg-color);\n",
              "    box-shadow: 0 1px 2px rgba(60, 64, 67, 0.3), 0 1px 3px 1px rgba(60, 64, 67, 0.15);\n",
              "    fill: var(--button-hover-fill-color);\n",
              "  }\n",
              "\n",
              "  .colab-df-quickchart-complete:disabled,\n",
              "  .colab-df-quickchart-complete:disabled:hover {\n",
              "    background-color: var(--disabled-bg-color);\n",
              "    fill: var(--disabled-fill-color);\n",
              "    box-shadow: none;\n",
              "  }\n",
              "\n",
              "  .colab-df-spinner {\n",
              "    border: 2px solid var(--fill-color);\n",
              "    border-color: transparent;\n",
              "    border-bottom-color: var(--fill-color);\n",
              "    animation:\n",
              "      spin 1s steps(1) infinite;\n",
              "  }\n",
              "\n",
              "  @keyframes spin {\n",
              "    0% {\n",
              "      border-color: transparent;\n",
              "      border-bottom-color: var(--fill-color);\n",
              "      border-left-color: var(--fill-color);\n",
              "    }\n",
              "    20% {\n",
              "      border-color: transparent;\n",
              "      border-left-color: var(--fill-color);\n",
              "      border-top-color: var(--fill-color);\n",
              "    }\n",
              "    30% {\n",
              "      border-color: transparent;\n",
              "      border-left-color: var(--fill-color);\n",
              "      border-top-color: var(--fill-color);\n",
              "      border-right-color: var(--fill-color);\n",
              "    }\n",
              "    40% {\n",
              "      border-color: transparent;\n",
              "      border-right-color: var(--fill-color);\n",
              "      border-top-color: var(--fill-color);\n",
              "    }\n",
              "    60% {\n",
              "      border-color: transparent;\n",
              "      border-right-color: var(--fill-color);\n",
              "    }\n",
              "    80% {\n",
              "      border-color: transparent;\n",
              "      border-right-color: var(--fill-color);\n",
              "      border-bottom-color: var(--fill-color);\n",
              "    }\n",
              "    90% {\n",
              "      border-color: transparent;\n",
              "      border-bottom-color: var(--fill-color);\n",
              "    }\n",
              "  }\n",
              "</style>\n",
              "\n",
              "  <script>\n",
              "    async function quickchart(key) {\n",
              "      const quickchartButtonEl =\n",
              "        document.querySelector('#' + key + ' button');\n",
              "      quickchartButtonEl.disabled = true;  // To prevent multiple clicks.\n",
              "      quickchartButtonEl.classList.add('colab-df-spinner');\n",
              "      try {\n",
              "        const charts = await google.colab.kernel.invokeFunction(\n",
              "            'suggestCharts', [key], {});\n",
              "      } catch (error) {\n",
              "        console.error('Error during call to suggestCharts:', error);\n",
              "      }\n",
              "      quickchartButtonEl.classList.remove('colab-df-spinner');\n",
              "      quickchartButtonEl.classList.add('colab-df-quickchart-complete');\n",
              "    }\n",
              "    (() => {\n",
              "      let quickchartButtonEl =\n",
              "        document.querySelector('#df-1939e5a3-2422-47e7-a965-6340cedac93d button');\n",
              "      quickchartButtonEl.style.display =\n",
              "        google.colab.kernel.accessAllowed ? 'block' : 'none';\n",
              "    })();\n",
              "  </script>\n",
              "</div>\n",
              "\n",
              "    </div>\n",
              "  </div>\n"
            ],
            "application/vnd.google.colaboratory.intrinsic+json": {
              "type": "dataframe",
              "summary": "{\n  \"name\": \"features\",\n  \"rows\": 8,\n  \"fields\": [\n    {\n      \"column\": \"Pregnancies\",\n      \"properties\": {\n        \"dtype\": \"number\",\n        \"std\": 269.85223453356366,\n        \"min\": 0.0,\n        \"max\": 768.0,\n        \"num_unique_values\": 8,\n        \"samples\": [\n          3.8450520833333335,\n          3.0,\n          768.0\n        ],\n        \"semantic_type\": \"\",\n        \"description\": \"\"\n      }\n    },\n    {\n      \"column\": \"Glucose\",\n      \"properties\": {\n        \"dtype\": \"number\",\n        \"std\": 243.73802348295857,\n        \"min\": 0.0,\n        \"max\": 768.0,\n        \"num_unique_values\": 8,\n        \"samples\": [\n          120.89453125,\n          117.0,\n          768.0\n        ],\n        \"semantic_type\": \"\",\n        \"description\": \"\"\n      }\n    },\n    {\n      \"column\": \"BloodPressure\",\n      \"properties\": {\n        \"dtype\": \"number\",\n        \"std\": 252.85250535810619,\n        \"min\": 0.0,\n        \"max\": 768.0,\n        \"num_unique_values\": 8,\n        \"samples\": [\n          69.10546875,\n          72.0,\n          768.0\n        ],\n        \"semantic_type\": \"\",\n        \"description\": \"\"\n      }\n    },\n    {\n      \"column\": \"SkinThickness\",\n      \"properties\": {\n        \"dtype\": \"number\",\n        \"std\": 263.7684730531098,\n        \"min\": 0.0,\n        \"max\": 768.0,\n        \"num_unique_values\": 7,\n        \"samples\": [\n          768.0,\n          20.536458333333332,\n          32.0\n        ],\n        \"semantic_type\": \"\",\n        \"description\": \"\"\n      }\n    },\n    {\n      \"column\": \"Insulin\",\n      \"properties\": {\n        \"dtype\": \"number\",\n        \"std\": 350.26059167945886,\n        \"min\": 0.0,\n        \"max\": 846.0,\n        \"num_unique_values\": 7,\n        \"samples\": [\n          768.0,\n          79.79947916666667,\n          127.25\n        ],\n        \"semantic_type\": \"\",\n        \"description\": \"\"\n      }\n    },\n    {\n      \"column\": \"BMI\",\n      \"properties\": {\n        \"dtype\": \"number\",\n        \"std\": 262.05117817552093,\n        \"min\": 0.0,\n        \"max\": 768.0,\n        \"num_unique_values\": 8,\n        \"samples\": [\n          31.992578124999998,\n          32.0,\n          768.0\n        ],\n        \"semantic_type\": \"\",\n        \"description\": \"\"\n      }\n    },\n    {\n      \"column\": \"DiabetesPedigreeFunction\",\n      \"properties\": {\n        \"dtype\": \"number\",\n        \"std\": 271.3005221658502,\n        \"min\": 0.078,\n        \"max\": 768.0,\n        \"num_unique_values\": 8,\n        \"samples\": [\n          0.47187630208333325,\n          0.3725,\n          768.0\n        ],\n        \"semantic_type\": \"\",\n        \"description\": \"\"\n      }\n    },\n    {\n      \"column\": \"Age\",\n      \"properties\": {\n        \"dtype\": \"number\",\n        \"std\": 260.1941178528413,\n        \"min\": 11.76023154067868,\n        \"max\": 768.0,\n        \"num_unique_values\": 8,\n        \"samples\": [\n          33.240885416666664,\n          29.0,\n          768.0\n        ],\n        \"semantic_type\": \"\",\n        \"description\": \"\"\n      }\n    },\n    {\n      \"column\": \"Outcome\",\n      \"properties\": {\n        \"dtype\": \"number\",\n        \"std\": 271.3865920388932,\n        \"min\": 0.0,\n        \"max\": 768.0,\n        \"num_unique_values\": 5,\n        \"samples\": [\n          0.3489583333333333,\n          1.0,\n          0.4769513772427971\n        ],\n        \"semantic_type\": \"\",\n        \"description\": \"\"\n      }\n    }\n  ]\n}"
            }
          },
          "metadata": {},
          "execution_count": 13
        }
      ]
    },
    {
      "cell_type": "markdown",
      "metadata": {
        "id": "zjKHcK_mec9g"
      },
      "source": [
        "Dokonujemy przekształceń z wykorzystaniem biblioteki numpy, musimy rozdzelić etykiety od danych."
      ]
    },
    {
      "cell_type": "code",
      "metadata": {
        "id": "mIeubt_FMlb2",
        "colab": {
          "base_uri": "https://localhost:8080/",
          "height": 211
        },
        "outputId": "2f49c3f1-e007-4b4d-e029-34fa82c6037b"
      },
      "source": [
        "# Wykorzystujemy bibliotekę numpy aby zamienić dane na tablice numpy\n",
        "import numpy as np#\n",
        "labels = np.array(features['Outcome'])# Usuwamy etykiety ze zbioru parametrów\n",
        "# axis 1 odnosi sie do kolumn\n",
        "features = features.drop('Outcome', axis = 1)#  Zostawiamy nazwy etykiet do wykorzystania później\n",
        "feature_list = list(features.columns)# Właściwa konwersja na tablice numpy\n",
        "features = np.array(features)"
      ],
      "execution_count": null,
      "outputs": [
        {
          "output_type": "error",
          "ename": "NameError",
          "evalue": "name 'features' is not defined",
          "traceback": [
            "\u001b[0;31m---------------------------------------------------------------------------\u001b[0m",
            "\u001b[0;31mNameError\u001b[0m                                 Traceback (most recent call last)",
            "\u001b[0;32m<ipython-input-5-85c2d45d4dcd>\u001b[0m in \u001b[0;36m<cell line: 0>\u001b[0;34m()\u001b[0m\n\u001b[1;32m      1\u001b[0m \u001b[0;31m# Wykorzystujemy bibliotekę numpy aby zamienić dane na tablice numpy\u001b[0m\u001b[0;34m\u001b[0m\u001b[0;34m\u001b[0m\u001b[0m\n\u001b[1;32m      2\u001b[0m \u001b[0;32mimport\u001b[0m \u001b[0mnumpy\u001b[0m \u001b[0;32mas\u001b[0m \u001b[0mnp\u001b[0m\u001b[0;31m#\u001b[0m\u001b[0;34m\u001b[0m\u001b[0;34m\u001b[0m\u001b[0m\n\u001b[0;32m----> 3\u001b[0;31m \u001b[0mlabels\u001b[0m \u001b[0;34m=\u001b[0m \u001b[0mnp\u001b[0m\u001b[0;34m.\u001b[0m\u001b[0marray\u001b[0m\u001b[0;34m(\u001b[0m\u001b[0mfeatures\u001b[0m\u001b[0;34m[\u001b[0m\u001b[0;34m'Outcome'\u001b[0m\u001b[0;34m]\u001b[0m\u001b[0;34m)\u001b[0m\u001b[0;31m# Usuwamy etykiety ze zbioru parametrów\u001b[0m\u001b[0;34m\u001b[0m\u001b[0;34m\u001b[0m\u001b[0m\n\u001b[0m\u001b[1;32m      4\u001b[0m \u001b[0;31m# axis 1 odnosi sie do kolumn\u001b[0m\u001b[0;34m\u001b[0m\u001b[0;34m\u001b[0m\u001b[0m\n\u001b[1;32m      5\u001b[0m \u001b[0mfeatures\u001b[0m \u001b[0;34m=\u001b[0m \u001b[0mfeatures\u001b[0m\u001b[0;34m.\u001b[0m\u001b[0mdrop\u001b[0m\u001b[0;34m(\u001b[0m\u001b[0;34m'Outcome'\u001b[0m\u001b[0;34m,\u001b[0m \u001b[0maxis\u001b[0m \u001b[0;34m=\u001b[0m \u001b[0;36m1\u001b[0m\u001b[0;34m)\u001b[0m\u001b[0;31m#  Zostawiamy nazwy etykiet do wykorzystania później\u001b[0m\u001b[0;34m\u001b[0m\u001b[0;34m\u001b[0m\u001b[0m\n",
            "\u001b[0;31mNameError\u001b[0m: name 'features' is not defined"
          ]
        }
      ]
    },
    {
      "cell_type": "markdown",
      "metadata": {
        "id": "echjG_hneqt3"
      },
      "source": [
        "Standardowy podział danych z wykorzystaniem funkcji:\n",
        "```\n",
        "train_test_split()\n",
        "```"
      ]
    },
    {
      "cell_type": "code",
      "metadata": {
        "id": "G5uc5dcFMn87",
        "colab": {
          "base_uri": "https://localhost:8080/",
          "height": 159
        },
        "outputId": "1f5b27d9-5d97-4908-aaa6-c3963feb5bbf"
      },
      "source": [
        "from sklearn.model_selection import train_test_split# Podział danych\n",
        "train_features, test_features, train_labels, test_labels = train_test_split(features, labels, test_size = 0.25, random_state = 42)"
      ],
      "execution_count": null,
      "outputs": [
        {
          "output_type": "error",
          "ename": "NameError",
          "evalue": "name 'features' is not defined",
          "traceback": [
            "\u001b[0;31m---------------------------------------------------------------------------\u001b[0m",
            "\u001b[0;31mNameError\u001b[0m                                 Traceback (most recent call last)",
            "\u001b[0;32m<ipython-input-4-e448c27eb793>\u001b[0m in \u001b[0;36m<cell line: 0>\u001b[0;34m()\u001b[0m\n\u001b[1;32m      1\u001b[0m \u001b[0;32mfrom\u001b[0m \u001b[0msklearn\u001b[0m\u001b[0;34m.\u001b[0m\u001b[0mmodel_selection\u001b[0m \u001b[0;32mimport\u001b[0m \u001b[0mtrain_test_split\u001b[0m\u001b[0;31m# Podział danych\u001b[0m\u001b[0;34m\u001b[0m\u001b[0;34m\u001b[0m\u001b[0m\n\u001b[0;32m----> 2\u001b[0;31m \u001b[0mtrain_features\u001b[0m\u001b[0;34m,\u001b[0m \u001b[0mtest_features\u001b[0m\u001b[0;34m,\u001b[0m \u001b[0mtrain_labels\u001b[0m\u001b[0;34m,\u001b[0m \u001b[0mtest_labels\u001b[0m \u001b[0;34m=\u001b[0m \u001b[0mtrain_test_split\u001b[0m\u001b[0;34m(\u001b[0m\u001b[0mfeatures\u001b[0m\u001b[0;34m,\u001b[0m \u001b[0mlabels\u001b[0m\u001b[0;34m,\u001b[0m \u001b[0mtest_size\u001b[0m \u001b[0;34m=\u001b[0m \u001b[0;36m0.25\u001b[0m\u001b[0;34m,\u001b[0m \u001b[0mrandom_state\u001b[0m \u001b[0;34m=\u001b[0m \u001b[0;36m42\u001b[0m\u001b[0;34m)\u001b[0m\u001b[0;34m\u001b[0m\u001b[0;34m\u001b[0m\u001b[0m\n\u001b[0m",
            "\u001b[0;31mNameError\u001b[0m: name 'features' is not defined"
          ]
        }
      ]
    },
    {
      "cell_type": "markdown",
      "metadata": {
        "id": "fiYqei-ye0se"
      },
      "source": [
        "Sprawdzmay jaki kształt mają dane po podziale, czy wartości dla etykiet zgadzają się z danymi."
      ]
    },
    {
      "cell_type": "code",
      "metadata": {
        "colab": {
          "base_uri": "https://localhost:8080/"
        },
        "id": "Kw6z2px8Mp8K",
        "outputId": "62a40234-85c9-4fb6-9bf7-e80641722b77"
      },
      "source": [
        "print('Kształt danych treningowych:', train_features.shape)\n",
        "print('Kształt etykiet trenignowych:', train_labels.shape)\n",
        "print('Kształt danych testowych:', test_features.shape)\n",
        "print('Kształt etykiet testowych:', test_labels.shape)"
      ],
      "execution_count": null,
      "outputs": [
        {
          "output_type": "stream",
          "name": "stdout",
          "text": [
            "Kształt danych treningowych: (576, 8)\n",
            "Kształt etykiet trenignowych: (576,)\n",
            "Kształt danych testowych: (192, 8)\n",
            "Kształt etykiet testowych: (192,)\n"
          ]
        }
      ]
    },
    {
      "cell_type": "markdown",
      "metadata": {
        "id": "Vplby6ohe8wd"
      },
      "source": [
        "Dokonujemy właściwego importu modelu oraz trenignu."
      ]
    },
    {
      "cell_type": "code",
      "metadata": {
        "colab": {
          "base_uri": "https://localhost:8080/",
          "height": 211
        },
        "id": "0LRVjHTqMs4J",
        "outputId": "85af6ecb-6d2c-483c-83f9-8e0cd2086d80"
      },
      "source": [
        "# Import wykorzystywanego modelu\n",
        "from sklearn.ensemble import RandomForestClassifier# Wykorzystujemy algorytm Random Rofest\n",
        "rf = RandomForestClassifier(n_estimators = 100, random_state = 42)\n",
        "rf.fit(train_features, train_labels);\n",
        "predictions_forest = rf.predict(test_features)\n",
        "print('Accuracy:')\n",
        "accuracy_score(test_labels, predictions_forest)"
      ],
      "execution_count": null,
      "outputs": [
        {
          "output_type": "error",
          "ename": "NameError",
          "evalue": "name 'train_features' is not defined",
          "traceback": [
            "\u001b[0;31m---------------------------------------------------------------------------\u001b[0m",
            "\u001b[0;31mNameError\u001b[0m                                 Traceback (most recent call last)",
            "\u001b[0;32m<ipython-input-3-4ec6221d79e1>\u001b[0m in \u001b[0;36m<cell line: 0>\u001b[0;34m()\u001b[0m\n\u001b[1;32m      2\u001b[0m \u001b[0;32mfrom\u001b[0m \u001b[0msklearn\u001b[0m\u001b[0;34m.\u001b[0m\u001b[0mensemble\u001b[0m \u001b[0;32mimport\u001b[0m \u001b[0mRandomForestClassifier\u001b[0m\u001b[0;31m# Wykorzystujemy algorytm Random Rofest\u001b[0m\u001b[0;34m\u001b[0m\u001b[0;34m\u001b[0m\u001b[0m\n\u001b[1;32m      3\u001b[0m \u001b[0mrf\u001b[0m \u001b[0;34m=\u001b[0m \u001b[0mRandomForestClassifier\u001b[0m\u001b[0;34m(\u001b[0m\u001b[0mn_estimators\u001b[0m \u001b[0;34m=\u001b[0m \u001b[0;36m100\u001b[0m\u001b[0;34m,\u001b[0m \u001b[0mrandom_state\u001b[0m \u001b[0;34m=\u001b[0m \u001b[0;36m42\u001b[0m\u001b[0;34m)\u001b[0m\u001b[0;34m\u001b[0m\u001b[0;34m\u001b[0m\u001b[0m\n\u001b[0;32m----> 4\u001b[0;31m \u001b[0mrf\u001b[0m\u001b[0;34m.\u001b[0m\u001b[0mfit\u001b[0m\u001b[0;34m(\u001b[0m\u001b[0mtrain_features\u001b[0m\u001b[0;34m,\u001b[0m \u001b[0mtrain_labels\u001b[0m\u001b[0;34m)\u001b[0m\u001b[0;34m;\u001b[0m\u001b[0;34m\u001b[0m\u001b[0;34m\u001b[0m\u001b[0m\n\u001b[0m\u001b[1;32m      5\u001b[0m \u001b[0mpredictions_forest\u001b[0m \u001b[0;34m=\u001b[0m \u001b[0mrf\u001b[0m\u001b[0;34m.\u001b[0m\u001b[0mpredict\u001b[0m\u001b[0;34m(\u001b[0m\u001b[0mtest_features\u001b[0m\u001b[0;34m)\u001b[0m\u001b[0;34m\u001b[0m\u001b[0;34m\u001b[0m\u001b[0m\n\u001b[1;32m      6\u001b[0m \u001b[0mprint\u001b[0m\u001b[0;34m(\u001b[0m\u001b[0;34m'Accuracy:'\u001b[0m\u001b[0;34m)\u001b[0m\u001b[0;34m\u001b[0m\u001b[0;34m\u001b[0m\u001b[0m\n",
            "\u001b[0;31mNameError\u001b[0m: name 'train_features' is not defined"
          ]
        }
      ]
    },
    {
      "cell_type": "markdown",
      "metadata": {
        "id": "N-cGy7sWfBtl"
      },
      "source": [
        "Wynik accuracy nie jest najlepszy, ale w tej chwili nie jest to najistoniejsze.\n",
        "Tworzymy graf wytrenowanego klasyfikatora. Najelpiej podejrzeć go otwierając po lewej stronie okno z danymi i pobierając plik randomtree.png"
      ]
    },
    {
      "cell_type": "code",
      "metadata": {
        "id": "bKII4xLGM4wq"
      },
      "source": [
        "# Import bibliotek niezbędnych do wizualizacji\n",
        "from sklearn.tree import export_graphviz\n",
        "import pydot\n",
        "tree = rf.estimators_[5]# Wybór jednego z drzew z lasu\n",
        "export_graphviz(tree, out_file = 'randomtree.dot', feature_names = feature_list, rounded = True, precision = 1)# Tworzymy graf z wykorzystaniem pliku dot\n",
        "(graph, ) = pydot.graph_from_dot_file('randomtree.dot')# Zapis do pliku png\n",
        "graph.write_png('randomtree.png')"
      ],
      "execution_count": null,
      "outputs": []
    },
    {
      "cell_type": "markdown",
      "metadata": {
        "id": "BVAm-QoPfR9G"
      },
      "source": [
        "Ze względu na wielkość otrzymanego drzewa dokonujemy zmniejszenia modelu. Powtarzamy czynności dla pliku small_tree.png"
      ]
    },
    {
      "cell_type": "code",
      "metadata": {
        "id": "RjkOPpPwM7rm"
      },
      "source": [
        "# Zmniejszamy rozmiar drzewa do maksymalnej złożoności 3 poziomów\n",
        "rf_small = RandomForestClassifier(n_estimators=10, max_depth = 3)\n",
        "rf_small.fit(train_features, train_labels)# Extract the small tree\n",
        "tree_small = rf_small.estimators_[5]# Save the tree as a png image\n",
        "export_graphviz(tree_small, out_file = 'small_tree.dot', feature_names = feature_list, rounded = True, precision = 1)\n",
        "(graph, ) = pydot.graph_from_dot_file('small_tree.dot')\n",
        "graph.write_png('small_tree.png');"
      ],
      "execution_count": null,
      "outputs": []
    },
    {
      "cell_type": "markdown",
      "metadata": {
        "id": "nkguhBfTfo5V"
      },
      "source": [
        "Algortym losowych lasów posiada bardzo ciekawą właściwość. Z jego wykorzystaniemj można w łatwy sposób dokonać pomiaru względnej istotności każdej z cech zbioru. W przypadku modułu scikit-learn pomiar istotności to miara w jakim stopniu węzły we wszystkich drzewach w lesie zmniejszają zanieczyszczenie korzystając z tej cechy (zmiana atrybutu *gini*).\n",
        "Gdyby spojrzeć na to z matematycznego punktu widzenia jest to nic innego jak średnia ważona przy założeniu, że waga każdego z węzłów jest równa liczbie powiązanych z danym węzłem próbek treningowych. Bardzo przydatną cechą w module scikit-learn jest fakt, iż automatycznie obliczany jest wynik dla każdej cechy po wykonaniu treningu i dodatkowo jest on skalowany przez co suma wszystkich istotności wynosi 1.\n",
        "\n",
        "Wykorzystamy tę funkcję drzew losowych do obliczenia najistotniejszych cech w zbiorze."
      ]
    },
    {
      "cell_type": "code",
      "metadata": {
        "colab": {
          "base_uri": "https://localhost:8080/",
          "height": 211
        },
        "id": "UkQPfnDmM_Nn",
        "outputId": "1c43c958-d7fa-482e-f111-c3ddb62a3a44"
      },
      "source": [
        "# Liczymy istotność parametrów z wykorzystaniem algorytmu losowych lasów\n",
        "importances = list(rf.feature_importances_)# Lista krotek ze zmiennymi oraz istotnościami\n",
        "feature_importances = [(feature, round(importance, 2)) for feature, importance in zip(feature_list, importances)]#  Sortowanie istotności cech zaczynając od najbardziej istotnej cechy\n",
        "feature_importances = sorted(feature_importances, key = lambda x: x[1], reverse = True)# Wypisanie najistotniejszych cech wraz z istotnością\n",
        "[print('Variable: {:30} Importance: {}'.format(*pair)) for pair in feature_importances];"
      ],
      "execution_count": null,
      "outputs": [
        {
          "output_type": "error",
          "ename": "NameError",
          "evalue": "name 'rf' is not defined",
          "traceback": [
            "\u001b[0;31m---------------------------------------------------------------------------\u001b[0m",
            "\u001b[0;31mNameError\u001b[0m                                 Traceback (most recent call last)",
            "\u001b[0;32m<ipython-input-2-c5c614cd3986>\u001b[0m in \u001b[0;36m<cell line: 0>\u001b[0;34m()\u001b[0m\n\u001b[1;32m      1\u001b[0m \u001b[0;31m# Liczymy istotność parametrów z wykorzystaniem algorytmu losowych lasów\u001b[0m\u001b[0;34m\u001b[0m\u001b[0;34m\u001b[0m\u001b[0m\n\u001b[0;32m----> 2\u001b[0;31m \u001b[0mimportances\u001b[0m \u001b[0;34m=\u001b[0m \u001b[0mlist\u001b[0m\u001b[0;34m(\u001b[0m\u001b[0mrf\u001b[0m\u001b[0;34m.\u001b[0m\u001b[0mfeature_importances_\u001b[0m\u001b[0;34m)\u001b[0m\u001b[0;31m# Lista krotek ze zmiennymi oraz istotnościami\u001b[0m\u001b[0;34m\u001b[0m\u001b[0;34m\u001b[0m\u001b[0m\n\u001b[0m\u001b[1;32m      3\u001b[0m \u001b[0mfeature_importances\u001b[0m \u001b[0;34m=\u001b[0m \u001b[0;34m[\u001b[0m\u001b[0;34m(\u001b[0m\u001b[0mfeature\u001b[0m\u001b[0;34m,\u001b[0m \u001b[0mround\u001b[0m\u001b[0;34m(\u001b[0m\u001b[0mimportance\u001b[0m\u001b[0;34m,\u001b[0m \u001b[0;36m2\u001b[0m\u001b[0;34m)\u001b[0m\u001b[0;34m)\u001b[0m \u001b[0;32mfor\u001b[0m \u001b[0mfeature\u001b[0m\u001b[0;34m,\u001b[0m \u001b[0mimportance\u001b[0m \u001b[0;32min\u001b[0m \u001b[0mzip\u001b[0m\u001b[0;34m(\u001b[0m\u001b[0mfeature_list\u001b[0m\u001b[0;34m,\u001b[0m \u001b[0mimportances\u001b[0m\u001b[0;34m)\u001b[0m\u001b[0;34m]\u001b[0m\u001b[0;31m#  Sortowanie istotności cech zaczynając od najbardziej istotnej cechy\u001b[0m\u001b[0;34m\u001b[0m\u001b[0;34m\u001b[0m\u001b[0m\n\u001b[1;32m      4\u001b[0m \u001b[0mfeature_importances\u001b[0m \u001b[0;34m=\u001b[0m \u001b[0msorted\u001b[0m\u001b[0;34m(\u001b[0m\u001b[0mfeature_importances\u001b[0m\u001b[0;34m,\u001b[0m \u001b[0mkey\u001b[0m \u001b[0;34m=\u001b[0m \u001b[0;32mlambda\u001b[0m \u001b[0mx\u001b[0m\u001b[0;34m:\u001b[0m \u001b[0mx\u001b[0m\u001b[0;34m[\u001b[0m\u001b[0;36m1\u001b[0m\u001b[0;34m]\u001b[0m\u001b[0;34m,\u001b[0m \u001b[0mreverse\u001b[0m \u001b[0;34m=\u001b[0m \u001b[0;32mTrue\u001b[0m\u001b[0;34m)\u001b[0m\u001b[0;31m# Wypisanie najistotniejszych cech wraz z istotnością\u001b[0m\u001b[0;34m\u001b[0m\u001b[0;34m\u001b[0m\u001b[0m\n\u001b[1;32m      5\u001b[0m \u001b[0;34m[\u001b[0m\u001b[0mprint\u001b[0m\u001b[0;34m(\u001b[0m\u001b[0;34m'Variable: {:30} Importance: {}'\u001b[0m\u001b[0;34m.\u001b[0m\u001b[0mformat\u001b[0m\u001b[0;34m(\u001b[0m\u001b[0;34m*\u001b[0m\u001b[0mpair\u001b[0m\u001b[0;34m)\u001b[0m\u001b[0;34m)\u001b[0m \u001b[0;32mfor\u001b[0m \u001b[0mpair\u001b[0m \u001b[0;32min\u001b[0m \u001b[0mfeature_importances\u001b[0m\u001b[0;34m]\u001b[0m\u001b[0;34m;\u001b[0m\u001b[0;34m\u001b[0m\u001b[0;34m\u001b[0m\u001b[0m\n",
            "\u001b[0;31mNameError\u001b[0m: name 'rf' is not defined"
          ]
        }
      ]
    },
    {
      "cell_type": "markdown",
      "metadata": {
        "id": "OrOKm-PJg90M"
      },
      "source": [
        "Jak widać najistotniejszą cechą jest wartość glukozy, co w sumie nie powinno dziwić w przypadku klsyfikowania cukrzycy. Pozostałe cechy nie odbiegają od siebie istotnością w tak znaczący sposób. <P>\n",
        "Można teraz sobie zadać pytanie, co by było gdyby dokonać treningu wykorzystując tylko najisotniejsze cech? Czy wyniki będą lepsze czy gorsze? A może czas treningu ulegnie zmianie?"
      ]
    },
    {
      "cell_type": "code",
      "metadata": {
        "colab": {
          "base_uri": "https://localhost:8080/"
        },
        "id": "tmG7HjR7M_ua",
        "outputId": "33abd9f4-932f-4185-dd4c-0b4eff87c9d0"
      },
      "source": [
        "# Tworzymy nową instancję algorytmu losowego lasu wykorzystując tylko najistoniejsze cechy\n",
        "\n",
        "rf_most_important = RandomForestClassifier(n_estimators= 100, random_state=42)# Extract the two most important features\n",
        "important_indices = [feature_list.index('Glucose'), feature_list.index('BMI')] # wybieramy tylko 2 najistotnijeszcze cechy - glukozę i BMI\n",
        "train_important = train_features[:, important_indices]\n",
        "test_important = test_features[:, important_indices]# Trening\n",
        "rf_most_important.fit(train_important, train_labels)# Predykcja wyników\n",
        "predictions = rf_most_important.predict(test_important)\n",
        "print('Accuracy:')\n",
        "accuracy_score(test_labels, predictions)"
      ],
      "execution_count": null,
      "outputs": [
        {
          "output_type": "stream",
          "name": "stdout",
          "text": [
            "Accuracy:\n"
          ]
        },
        {
          "output_type": "execute_result",
          "data": {
            "text/plain": [
              "0.7291666666666666"
            ]
          },
          "metadata": {},
          "execution_count": 21
        }
      ]
    },
    {
      "cell_type": "markdown",
      "metadata": {
        "id": "yyj6RNb7izam"
      },
      "source": [
        "Jak widać wartość miary accuracy pełnego modeli i trenowanego tylko z użyciem dwóch najistotniejszych cech nie odbiega od siebie znacząco. Oznacza to, iż lepiej korzystać z modelu, który jest prostszy obliczeniowo.\n",
        "<P>\n",
        "Zobaczmy jeszcze jak wyglądają pozostałe metryki, w tym celu skorzystajmy z funkcji:\n",
        "\n",
        "```\n",
        "# classification_report()\n",
        "```\n",
        "Ta funkcja wylicza wartośći miar f1, precison i recall dla poszczególnych klas oraz podaje liczbę sklasyfikownaych przypadków w postaci pola *support*.\n",
        "Dodatkow wyliczane są średnie wartośći macro czyli uśrednianie średniej niezbalandsowanej dla każdej z etykiet oraz średniej ważonej, która uwzględnia ilość danych dla każdej z klas.\n",
        "\n"
      ]
    },
    {
      "cell_type": "code",
      "metadata": {
        "colab": {
          "base_uri": "https://localhost:8080/"
        },
        "id": "aVK-kWawaIbq",
        "outputId": "424a6072-bc0f-42cc-f067-afd410f629e0"
      },
      "source": [
        "classification_report(test_labels, predictions, output_dict= True, target_names=[0,1])"
      ],
      "execution_count": null,
      "outputs": [
        {
          "output_type": "execute_result",
          "data": {
            "text/plain": [
              "{0: {'precision': 0.7795275590551181,\n",
              "  'recall': 0.8048780487804879,\n",
              "  'f1-score': 0.792,\n",
              "  'support': 123.0},\n",
              " 1: {'precision': 0.6307692307692307,\n",
              "  'recall': 0.5942028985507246,\n",
              "  'f1-score': 0.6119402985074627,\n",
              "  'support': 69.0},\n",
              " 'accuracy': 0.7291666666666666,\n",
              " 'macro avg': {'precision': 0.7051483949121744,\n",
              "  'recall': 0.6995404736656062,\n",
              "  'f1-score': 0.7019701492537314,\n",
              "  'support': 192.0},\n",
              " 'weighted avg': {'precision': 0.7260675348273774,\n",
              "  'recall': 0.7291666666666666,\n",
              "  'f1-score': 0.7272910447761195,\n",
              "  'support': 192.0}}"
            ]
          },
          "metadata": {},
          "execution_count": 22
        }
      ]
    },
    {
      "cell_type": "markdown",
      "metadata": {
        "id": "pRdIgx3wkAn2"
      },
      "source": [
        "Dla pewności można wykonać obliczenie macierzy pomyłek, w formie kodu."
      ]
    },
    {
      "cell_type": "code",
      "metadata": {
        "colab": {
          "base_uri": "https://localhost:8080/"
        },
        "id": "QpHVpN6IaJ7I",
        "outputId": "5a8680b4-1ee6-48ab-8443-56f2dc12c4f2"
      },
      "source": [
        "confusion_matrix(test_labels, predictions)"
      ],
      "execution_count": null,
      "outputs": [
        {
          "output_type": "execute_result",
          "data": {
            "text/plain": [
              "array([[99, 24],\n",
              "       [28, 41]])"
            ]
          },
          "metadata": {},
          "execution_count": 23
        }
      ]
    },
    {
      "cell_type": "markdown",
      "metadata": {
        "id": "OA-4wPt_kHix"
      },
      "source": [
        "Oraz w znanej z wcześniejszego przykładu formie graficznej."
      ]
    },
    {
      "cell_type": "code",
      "metadata": {
        "colab": {
          "base_uri": "https://localhost:8080/",
          "height": 568
        },
        "id": "x-RGhro0b1YX",
        "outputId": "31e035f6-001f-4a57-d741-65f07d4325c3"
      },
      "source": [
        "import seaborn as sns\n",
        "import matplotlib.pyplot as plt\n",
        "#Tworzenie macierzy pomyłek dla testowanego klasfikatora\n",
        "cnf_matrix = confusion_matrix(test_labels, predictions)\n",
        "cnf_matrix\n",
        "class_names=[0,1] # nazwy klas\n",
        "fig, ax = plt.subplots()\n",
        "tick_marks = np.arange(len(class_names))\n",
        "plt.xticks(tick_marks, class_names)\n",
        "plt.yticks(tick_marks, class_names)\n",
        "# tworzenie mapy cieplnej\n",
        "sns.heatmap(pd.DataFrame(cnf_matrix), annot=True ,fmt='g')\n",
        "ax.xaxis.set_label_position(\"top\")\n",
        "plt.tight_layout()\n",
        "plt.title('Macierz pomyłek', y=1.1)\n",
        "plt.ylabel('Rzeczywista etykieta')\n",
        "plt.xlabel('Etykieta przewidziana przez model')"
      ],
      "execution_count": null,
      "outputs": [
        {
          "output_type": "execute_result",
          "data": {
            "text/plain": [
              "Text(0.5, 427.9555555555555, 'Etykieta przewidziana przez model')"
            ]
          },
          "metadata": {},
          "execution_count": 24
        },
        {
          "output_type": "display_data",
          "data": {
            "text/plain": [
              "<Figure size 640x480 with 2 Axes>"
            ],
            "image/png": "[encoded data removed]"
          },
          "metadata": {}
        }
      ]
    },
    {
      "cell_type": "markdown",
      "metadata": {
        "id": "5mY_A5TEkNMO"
      },
      "source": [
        "Dodatkowo, można wykreślić wykres istotności cech z wykorzystaniem biblioteki matplotlib."
      ]
    },
    {
      "cell_type": "code",
      "metadata": {
        "colab": {
          "base_uri": "https://localhost:8080/",
          "height": 639
        },
        "id": "N0XCuav8NCOV",
        "outputId": "f96b75e3-c3c1-4d70-f0f7-b4df149d516f"
      },
      "source": [
        "import argparse\n",
        "parser = argparse.ArgumentParser()\n",
        "parser.parse_args([])\n",
        "\n",
        "import matplotlib.pyplot as plt\n",
        "\n",
        "plt.style.use('bmh')\n",
        "x_values = list(range(len(importances)))# Tworzenie wykresu słupkowego\n",
        "plt.bar(x_values, importances, orientation = 'vertical')# Podpisy osi dla osi X\n",
        "plt.xticks(x_values, feature_list, rotation='vertical')\n",
        "plt.ylabel('Istotność');\n",
        "plt.xlabel('Zmienna');\n",
        "plt.title('Istotność Cech');"
      ],
      "execution_count": null,
      "outputs": [
        {
          "output_type": "display_data",
          "data": {
            "text/plain": [
              "<Figure size 640x480 with 1 Axes>"
            ],
            "image/png": "[encoded data removed]"
          },
          "metadata": {}
        }
      ]
    },
    {
      "cell_type": "markdown",
      "metadata": {
        "id": "JVihlveZMsby"
      },
      "source": [
        "<p><b>Zadanie 1</b></p>\n",
        "Korzystając z pokazanych przykładów dopisać funkcje raportujące wyniki metryk i porównać z tymi w przykładzie. Wykorzystaj funkcję `classification_report` w jednej z pierwszych komórek, gdzie ładowano dataset Iris i wykorzystano tylko miarę accuracy.\n",
        "\n",
        "<p><b>Zadanie 2</b></p>\n",
        "Korzystając z innych parametrów niż *max_depth*, sprawdzić ich wpływ działania na klasyfikator w wybranym z przedstawionych w przykładzie datasetacie (Preferowany Diabetes).\n",
        "Sprawdzić parametry:\n",
        "\n",
        "> *min_samples_split* - odpowiadający za minimalną liczbe próbek znajdujących się w węźle zanim zostanie podzielony\n",
        "\n",
        ">*min_samples_leaf* - minimalna liczbę próbek znajdujących się w liściu\n",
        "\n",
        ">*max_leaf_nodes* - maksymalna liczba liści\n",
        "\n",
        ">*max_features* - maksymalna liczba cech stosowana do dzielenia węzłów\n",
        "\n",
        "\n",
        "<p><b>Zadanie 3</b></p>\n",
        "\n",
        "Zamienić domyślny wskaźnik zanieczysczenia *gini* na *entropy* dla wybranego klasyfikatora w zbiorze Diabetes. Czy zaobserowano znaczącą różnicę w działaniu klasyfikatora?\n",
        "\n",
        "<p><b>Zadanie 4</b></p>\n",
        "\n",
        "Wykorzystując algorytm istotnośći cech wytrenować klasyfikator zawierający:\n",
        "\n",
        "\n",
        "*   4 najlepsze cechy\n",
        "*   2 najgorsze cechy\n",
        "\n",
        "Jak zmiana tych parametów wpłyneła na metryki? Wykonaj zadanie dla zbioru Diabetes.\n",
        "\n"
      ]
    },
    {
      "cell_type": "markdown",
      "source": [
        "ZADANIE 2"
      ],
      "metadata": {
        "id": "N7UR8ibA_GO_"
      }
    },
    {
      "cell_type": "code",
      "source": [
        "from sklearn.model_selection import RandomizedSearchCV\n",
        "from sklearn.metrics import make_scorer\n",
        "from scipy.stats import randint\n",
        "\n",
        "param_distrib = {'min_samples_split': randint(2,10),\n",
        "                 'min_samples_leaf': randint(1,10),\n",
        "                 'max_leaf_nodes': randint(0,1000),\n",
        "                 'max_features': ('sqrt','log2')}\n",
        "scoring = {\n",
        "    'accuracy': make_scorer(accuracy_score),\n",
        "    'precision': make_scorer(precision_score,average='macro' ),\n",
        "    'recall': make_scorer(recall_score,average='macro'),\n",
        "}\n",
        "\n",
        "rnd_search = RandomizedSearchCV(estimator = RandomForestClassifier(), param_distributions=param_distrib,\n",
        "                                n_iter = 10, scoring = scoring, cv=2,random_state=42, refit = 'accuracy')\n",
        "rnd_search.fit(train_features, train_labels)\n",
        "rnd_search.best_params_"
      ],
      "metadata": {
        "colab": {
          "base_uri": "https://localhost:8080/"
        },
        "id": "GO5AoJYiywmw",
        "outputId": "d3d31982-34fe-46e1-cd8a-92b15c5ae1c8"
      },
      "execution_count": null,
      "outputs": [
        {
          "output_type": "execute_result",
          "data": {
            "text/plain": [
              "{'max_features': 'log2',\n",
              " 'max_leaf_nodes': 955,\n",
              " 'min_samples_leaf': 5,\n",
              " 'min_samples_split': 2}"
            ]
          },
          "metadata": {},
          "execution_count": 26
        }
      ]
    },
    {
      "cell_type": "code",
      "source": [
        "result = rnd_search.cv_results_\n",
        "result_df = pd.DataFrame(result)\n",
        "result_df.sort_values(by='mean_test_accuracy', ascending = False, inplace = True)\n",
        "result_df.head()\n",
        "lables =  [ 'params', 'mean_test_precision', 'mean_test_accuracy', 'mean_test_recall']\n",
        "best_params = rnd_search.best_params_\n",
        "result_df[lables]"
      ],
      "metadata": {
        "colab": {
          "base_uri": "https://localhost:8080/",
          "height": 516
        },
        "id": "5i7bDqAzzDwU",
        "outputId": "805ecaeb-277f-4eb2-d86a-ad188d955ae5"
      },
      "execution_count": null,
      "outputs": [
        {
          "output_type": "execute_result",
          "data": {
            "text/plain": [
              "   mean_fit_time  std_fit_time  mean_score_time  std_score_time  \\\n",
              "6       0.174504      0.006897         0.013803        0.000046   \n",
              "9       0.172594      0.003799         0.014654        0.000215   \n",
              "1       0.172639      0.001850         0.014053        0.000181   \n",
              "3       0.176378      0.005159         0.013364        0.000264   \n",
              "8       0.175620      0.000124         0.014057        0.000193   \n",
              "\n",
              "  param_max_features  param_max_leaf_nodes  param_min_samples_leaf  \\\n",
              "6               log2                   955                       5   \n",
              "9               sqrt                   510                       3   \n",
              "1               sqrt                   614                       3   \n",
              "3               log2                   871                       8   \n",
              "8               log2                   856                       1   \n",
              "\n",
              "   param_min_samples_split                                             params  \\\n",
              "6                        2  {'max_features': 'log2', 'max_leaf_nodes': 955...   \n",
              "9                        5  {'max_features': 'sqrt', 'max_leaf_nodes': 510...   \n",
              "1                        8  {'max_features': 'sqrt', 'max_leaf_nodes': 614...   \n",
              "3                        4  {'max_features': 'log2', 'max_leaf_nodes': 871...   \n",
              "8                        4  {'max_features': 'log2', 'max_leaf_nodes': 856...   \n",
              "\n",
              "   split0_test_accuracy  ...  split0_test_precision  split1_test_precision  \\\n",
              "6              0.770833  ...               0.754212               0.779718   \n",
              "9              0.791667  ...               0.782522               0.749398   \n",
              "1              0.777778  ...               0.764647               0.752303   \n",
              "3              0.777778  ...               0.759104               0.748537   \n",
              "8              0.781250  ...               0.766610               0.743409   \n",
              "\n",
              "   mean_test_precision  std_test_precision  rank_test_precision  \\\n",
              "6             0.766965            0.012753                    1   \n",
              "9             0.765960            0.016562                    2   \n",
              "1             0.758475            0.006172                    3   \n",
              "3             0.753820            0.005283                    7   \n",
              "8             0.755010            0.011601                    5   \n",
              "\n",
              "   split0_test_recall  split1_test_recall  mean_test_recall  std_test_recall  \\\n",
              "6            0.721489            0.752525          0.737007         0.015518   \n",
              "9            0.742128            0.726792          0.734460         0.007668   \n",
              "1            0.726809            0.734247          0.730528         0.003719   \n",
              "3            0.736170            0.729197          0.732683         0.003487   \n",
              "8            0.734149            0.728956          0.731553         0.002596   \n",
              "\n",
              "   rank_test_recall  \n",
              "6                 1  \n",
              "9                 2  \n",
              "1                 5  \n",
              "3                 3  \n",
              "8                 4  \n",
              "\n",
              "[5 rows x 24 columns]"
            ],
            "text/html": [
              "\n",
              "  <div id=\"df-6aa94751-3922-49b5-baf1-ce6c4613fc8f\" class=\"colab-df-container\">\n",
              "    <div>\n",
              "<style scoped>\n",
              "    .dataframe tbody tr th:only-of-type {\n",
              "        vertical-align: middle;\n",
              "    }\n",
              "\n",
              "    .dataframe tbody tr th {\n",
              "        vertical-align: top;\n",
              "    }\n",
              "\n",
              "    .dataframe thead th {\n",
              "        text-align: right;\n",
              "    }\n",
              "</style>\n",
              "<table border=\"1\" class=\"dataframe\">\n",
              "  <thead>\n",
              "    <tr style=\"text-align: right;\">\n",
              "      <th></th>\n",
              "      <th>mean_fit_time</th>\n",
              "      <th>std_fit_time</th>\n",
              "      <th>mean_score_time</th>\n",
              "      <th>std_score_time</th>\n",
              "      <th>param_max_features</th>\n",
              "      <th>param_max_leaf_nodes</th>\n",
              "      <th>param_min_samples_leaf</th>\n",
              "      <th>param_min_samples_split</th>\n",
              "      <th>params</th>\n",
              "      <th>split0_test_accuracy</th>\n",
              "      <th>...</th>\n",
              "      <th>split0_test_precision</th>\n",
              "      <th>split1_test_precision</th>\n",
              "      <th>mean_test_precision</th>\n",
              "      <th>std_test_precision</th>\n",
              "      <th>rank_test_precision</th>\n",
              "      <th>split0_test_recall</th>\n",
              "      <th>split1_test_recall</th>\n",
              "      <th>mean_test_recall</th>\n",
              "      <th>std_test_recall</th>\n",
              "      <th>rank_test_recall</th>\n",
              "    </tr>\n",
              "  </thead>\n",
              "  <tbody>\n",
              "    <tr>\n",
              "      <th>6</th>\n",
              "      <td>0.174504</td>\n",
              "      <td>0.006897</td>\n",
              "      <td>0.013803</td>\n",
              "      <td>0.000046</td>\n",
              "      <td>log2</td>\n",
              "      <td>955</td>\n",
              "      <td>5</td>\n",
              "      <td>2</td>\n",
              "      <td>{'max_features': 'log2', 'max_leaf_nodes': 955...</td>\n",
              "      <td>0.770833</td>\n",
              "      <td>...</td>\n",
              "      <td>0.754212</td>\n",
              "      <td>0.779718</td>\n",
              "      <td>0.766965</td>\n",
              "      <td>0.012753</td>\n",
              "      <td>1</td>\n",
              "      <td>0.721489</td>\n",
              "      <td>0.752525</td>\n",
              "      <td>0.737007</td>\n",
              "      <td>0.015518</td>\n",
              "      <td>1</td>\n",
              "    </tr>\n",
              "    <tr>\n",
              "      <th>9</th>\n",
              "      <td>0.172594</td>\n",
              "      <td>0.003799</td>\n",
              "      <td>0.014654</td>\n",
              "      <td>0.000215</td>\n",
              "      <td>sqrt</td>\n",
              "      <td>510</td>\n",
              "      <td>3</td>\n",
              "      <td>5</td>\n",
              "      <td>{'max_features': 'sqrt', 'max_leaf_nodes': 510...</td>\n",
              "      <td>0.791667</td>\n",
              "      <td>...</td>\n",
              "      <td>0.782522</td>\n",
              "      <td>0.749398</td>\n",
              "      <td>0.765960</td>\n",
              "      <td>0.016562</td>\n",
              "      <td>2</td>\n",
              "      <td>0.742128</td>\n",
              "      <td>0.726792</td>\n",
              "      <td>0.734460</td>\n",
              "      <td>0.007668</td>\n",
              "      <td>2</td>\n",
              "    </tr>\n",
              "    <tr>\n",
              "      <th>1</th>\n",
              "      <td>0.172639</td>\n",
              "      <td>0.001850</td>\n",
              "      <td>0.014053</td>\n",
              "      <td>0.000181</td>\n",
              "      <td>sqrt</td>\n",
              "      <td>614</td>\n",
              "      <td>3</td>\n",
              "      <td>8</td>\n",
              "      <td>{'max_features': 'sqrt', 'max_leaf_nodes': 614...</td>\n",
              "      <td>0.777778</td>\n",
              "      <td>...</td>\n",
              "      <td>0.764647</td>\n",
              "      <td>0.752303</td>\n",
              "      <td>0.758475</td>\n",
              "      <td>0.006172</td>\n",
              "      <td>3</td>\n",
              "      <td>0.726809</td>\n",
              "      <td>0.734247</td>\n",
              "      <td>0.730528</td>\n",
              "      <td>0.003719</td>\n",
              "      <td>5</td>\n",
              "    </tr>\n",
              "    <tr>\n",
              "      <th>3</th>\n",
              "      <td>0.176378</td>\n",
              "      <td>0.005159</td>\n",
              "      <td>0.013364</td>\n",
              "      <td>0.000264</td>\n",
              "      <td>log2</td>\n",
              "      <td>871</td>\n",
              "      <td>8</td>\n",
              "      <td>4</td>\n",
              "      <td>{'max_features': 'log2', 'max_leaf_nodes': 871...</td>\n",
              "      <td>0.777778</td>\n",
              "      <td>...</td>\n",
              "      <td>0.759104</td>\n",
              "      <td>0.748537</td>\n",
              "      <td>0.753820</td>\n",
              "      <td>0.005283</td>\n",
              "      <td>7</td>\n",
              "      <td>0.736170</td>\n",
              "      <td>0.729197</td>\n",
              "      <td>0.732683</td>\n",
              "      <td>0.003487</td>\n",
              "      <td>3</td>\n",
              "    </tr>\n",
              "    <tr>\n",
              "      <th>8</th>\n",
              "      <td>0.175620</td>\n",
              "      <td>0.000124</td>\n",
              "      <td>0.014057</td>\n",
              "      <td>0.000193</td>\n",
              "      <td>log2</td>\n",
              "      <td>856</td>\n",
              "      <td>1</td>\n",
              "      <td>4</td>\n",
              "      <td>{'max_features': 'log2', 'max_leaf_nodes': 856...</td>\n",
              "      <td>0.781250</td>\n",
              "      <td>...</td>\n",
              "      <td>0.766610</td>\n",
              "      <td>0.743409</td>\n",
              "      <td>0.755010</td>\n",
              "      <td>0.011601</td>\n",
              "      <td>5</td>\n",
              "      <td>0.734149</td>\n",
              "      <td>0.728956</td>\n",
              "      <td>0.731553</td>\n",
              "      <td>0.002596</td>\n",
              "      <td>4</td>\n",
              "    </tr>\n",
              "  </tbody>\n",
              "</table>\n",
              "<p>5 rows × 24 columns</p>\n",
              "</div>\n",
              "    <div class=\"colab-df-buttons\">\n",
              "\n",
              "  <div class=\"colab-df-container\">\n",
              "    <button class=\"colab-df-convert\" onclick=\"convertToInteractive('df-6aa94751-3922-49b5-baf1-ce6c4613fc8f')\"\n",
              "            title=\"Convert this dataframe to an interactive table.\"\n",
              "            style=\"display:none;\">\n",
              "\n",
              "  <svg xmlns=\"http://www.w3.org/2000/svg\" height=\"24px\" viewBox=\"0 -960 960 960\">\n",
              "    <path d=\"M120-120v-720h720v720H120Zm60-500h600v-160H180v160Zm220 220h160v-160H400v160Zm0 220h160v-160H400v160ZM180-400h160v-160H180v160Zm440 0h160v-160H620v160ZM180-180h160v-160H180v160Zm440 0h160v-160H620v160Z\"/>\n",
              "  </svg>\n",
              "    </button>\n",
              "\n",
              "  <style>\n",
              "    .colab-df-container {\n",
              "      display:flex;\n",
              "      gap: 12px;\n",
              "    }\n",
              "\n",
              "    .colab-df-convert {\n",
              "      background-color: #E8F0FE;\n",
              "      border: none;\n",
              "      border-radius: 50%;\n",
              "      cursor: pointer;\n",
              "      display: none;\n",
              "      fill: #1967D2;\n",
              "      height: 32px;\n",
              "      padding: 0 0 0 0;\n",
              "      width: 32px;\n",
              "    }\n",
              "\n",
              "    .colab-df-convert:hover {\n",
              "      background-color: #E2EBFA;\n",
              "      box-shadow: 0px 1px 2px rgba(60, 64, 67, 0.3), 0px 1px 3px 1px rgba(60, 64, 67, 0.15);\n",
              "      fill: #174EA6;\n",
              "    }\n",
              "\n",
              "    .colab-df-buttons div {\n",
              "      margin-bottom: 4px;\n",
              "    }\n",
              "\n",
              "    [theme=dark] .colab-df-convert {\n",
              "      background-color: #3B4455;\n",
              "      fill: #D2E3FC;\n",
              "    }\n",
              "\n",
              "    [theme=dark] .colab-df-convert:hover {\n",
              "      background-color: #434B5C;\n",
              "      box-shadow: 0px 1px 3px 1px rgba(0, 0, 0, 0.15);\n",
              "      filter: drop-shadow(0px 1px 2px rgba(0, 0, 0, 0.3));\n",
              "      fill: #FFFFFF;\n",
              "    }\n",
              "  </style>\n",
              "\n",
              "    <script>\n",
              "      const buttonEl =\n",
              "        document.querySelector('#df-6aa94751-3922-49b5-baf1-ce6c4613fc8f button.colab-df-convert');\n",
              "      buttonEl.style.display =\n",
              "        google.colab.kernel.accessAllowed ? 'block' : 'none';\n",
              "\n",
              "      async function convertToInteractive(key) {\n",
              "        const element = document.querySelector('#df-6aa94751-3922-49b5-baf1-ce6c4613fc8f');\n",
              "        const dataTable =\n",
              "          await google.colab.kernel.invokeFunction('convertToInteractive',\n",
              "                                                    [key], {});\n",
              "        if (!dataTable) return;\n",
              "\n",
              "        const docLinkHtml = 'Like what you see? Visit the ' +\n",
              "          '<a target=\"_blank\" href=https://colab.research.google.com/notebooks/data_table.ipynb>data table notebook</a>'\n",
              "          + ' to learn more about interactive tables.';\n",
              "        element.innerHTML = '';\n",
              "        dataTable['output_type'] = 'display_data';\n",
              "        await google.colab.output.renderOutput(dataTable, element);\n",
              "        const docLink = document.createElement('div');\n",
              "        docLink.innerHTML = docLinkHtml;\n",
              "        element.appendChild(docLink);\n",
              "      }\n",
              "    </script>\n",
              "  </div>\n",
              "\n",
              "\n",
              "<div id=\"df-30c4923a-b3ec-414c-a086-a8d8b33be702\">\n",
              "  <button class=\"colab-df-quickchart\" onclick=\"quickchart('df-30c4923a-b3ec-414c-a086-a8d8b33be702')\"\n",
              "            title=\"Suggest charts\"\n",
              "            style=\"display:none;\">\n",
              "\n",
              "<svg xmlns=\"http://www.w3.org/2000/svg\" height=\"24px\"viewBox=\"0 0 24 24\"\n",
              "     width=\"24px\">\n",
              "    <g>\n",
              "        <path d=\"M19 3H5c-1.1 0-2 .9-2 2v14c0 1.1.9 2 2 2h14c1.1 0 2-.9 2-2V5c0-1.1-.9-2-2-2zM9 17H7v-7h2v7zm4 0h-2V7h2v10zm4 0h-2v-4h2v4z\"/>\n",
              "    </g>\n",
              "</svg>\n",
              "  </button>\n",
              "\n",
              "<style>\n",
              "  .colab-df-quickchart {\n",
              "      --bg-color: #E8F0FE;\n",
              "      --fill-color: #1967D2;\n",
              "      --hover-bg-color: #E2EBFA;\n",
              "      --hover-fill-color: #174EA6;\n",
              "      --disabled-fill-color: #AAA;\n",
              "      --disabled-bg-color: #DDD;\n",
              "  }\n",
              "\n",
              "  [theme=dark] .colab-df-quickchart {\n",
              "      --bg-color: #3B4455;\n",
              "      --fill-color: #D2E3FC;\n",
              "      --hover-bg-color: #434B5C;\n",
              "      --hover-fill-color: #FFFFFF;\n",
              "      --disabled-bg-color: #3B4455;\n",
              "      --disabled-fill-color: #666;\n",
              "  }\n",
              "\n",
              "  .colab-df-quickchart {\n",
              "    background-color: var(--bg-color);\n",
              "    border: none;\n",
              "    border-radius: 50%;\n",
              "    cursor: pointer;\n",
              "    display: none;\n",
              "    fill: var(--fill-color);\n",
              "    height: 32px;\n",
              "    padding: 0;\n",
              "    width: 32px;\n",
              "  }\n",
              "\n",
              "  .colab-df-quickchart:hover {\n",
              "    background-color: var(--hover-bg-color);\n",
              "    box-shadow: 0 1px 2px rgba(60, 64, 67, 0.3), 0 1px 3px 1px rgba(60, 64, 67, 0.15);\n",
              "    fill: var(--button-hover-fill-color);\n",
              "  }\n",
              "\n",
              "  .colab-df-quickchart-complete:disabled,\n",
              "  .colab-df-quickchart-complete:disabled:hover {\n",
              "    background-color: var(--disabled-bg-color);\n",
              "    fill: var(--disabled-fill-color);\n",
              "    box-shadow: none;\n",
              "  }\n",
              "\n",
              "  .colab-df-spinner {\n",
              "    border: 2px solid var(--fill-color);\n",
              "    border-color: transparent;\n",
              "    border-bottom-color: var(--fill-color);\n",
              "    animation:\n",
              "      spin 1s steps(1) infinite;\n",
              "  }\n",
              "\n",
              "  @keyframes spin {\n",
              "    0% {\n",
              "      border-color: transparent;\n",
              "      border-bottom-color: var(--fill-color);\n",
              "      border-left-color: var(--fill-color);\n",
              "    }\n",
              "    20% {\n",
              "      border-color: transparent;\n",
              "      border-left-color: var(--fill-color);\n",
              "      border-top-color: var(--fill-color);\n",
              "    }\n",
              "    30% {\n",
              "      border-color: transparent;\n",
              "      border-left-color: var(--fill-color);\n",
              "      border-top-color: var(--fill-color);\n",
              "      border-right-color: var(--fill-color);\n",
              "    }\n",
              "    40% {\n",
              "      border-color: transparent;\n",
              "      border-right-color: var(--fill-color);\n",
              "      border-top-color: var(--fill-color);\n",
              "    }\n",
              "    60% {\n",
              "      border-color: transparent;\n",
              "      border-right-color: var(--fill-color);\n",
              "    }\n",
              "    80% {\n",
              "      border-color: transparent;\n",
              "      border-right-color: var(--fill-color);\n",
              "      border-bottom-color: var(--fill-color);\n",
              "    }\n",
              "    90% {\n",
              "      border-color: transparent;\n",
              "      border-bottom-color: var(--fill-color);\n",
              "    }\n",
              "  }\n",
              "</style>\n",
              "\n",
              "  <script>\n",
              "    async function quickchart(key) {\n",
              "      const quickchartButtonEl =\n",
              "        document.querySelector('#' + key + ' button');\n",
              "      quickchartButtonEl.disabled = true;  // To prevent multiple clicks.\n",
              "      quickchartButtonEl.classList.add('colab-df-spinner');\n",
              "      try {\n",
              "        const charts = await google.colab.kernel.invokeFunction(\n",
              "            'suggestCharts', [key], {});\n",
              "      } catch (error) {\n",
              "        console.error('Error during call to suggestCharts:', error);\n",
              "      }\n",
              "      quickchartButtonEl.classList.remove('colab-df-spinner');\n",
              "      quickchartButtonEl.classList.add('colab-df-quickchart-complete');\n",
              "    }\n",
              "    (() => {\n",
              "      let quickchartButtonEl =\n",
              "        document.querySelector('#df-30c4923a-b3ec-414c-a086-a8d8b33be702 button');\n",
              "      quickchartButtonEl.style.display =\n",
              "        google.colab.kernel.accessAllowed ? 'block' : 'none';\n",
              "    })();\n",
              "  </script>\n",
              "</div>\n",
              "\n",
              "    </div>\n",
              "  </div>\n"
            ],
            "application/vnd.google.colaboratory.intrinsic+json": {
              "type": "dataframe"
            }
          },
          "metadata": {},
          "execution_count": 27
        }
      ]
    },
    {
      "cell_type": "code",
      "source": [
        "def print_result(res, param):\n",
        "  result_df = pd.DataFrame(res)\n",
        "  result_df.sort_values(by='mean_test_accuracy', ascending = False, inplace = True)\n",
        "  lables =  [ 'params', 'mean_test_precision', 'mean_test_accuracy', 'mean_test_recall', 'mean_fit_time']\n",
        "  print(f\"{param}  results: \\n\", result_df[lables])\n",
        "  print(\"\\n\")"
      ],
      "metadata": {
        "id": "lNfop8MW5Jsf"
      },
      "execution_count": null,
      "outputs": []
    },
    {
      "cell_type": "code",
      "source": [
        "scoring = {\n",
        "    'accuracy': make_scorer(accuracy_score),\n",
        "    'precision': make_scorer(precision_score,average='macro' ),\n",
        "    'recall': make_scorer(recall_score,average='macro'),\n",
        "}"
      ],
      "metadata": {
        "id": "c33s7E2adS9P"
      },
      "execution_count": null,
      "outputs": []
    },
    {
      "cell_type": "code",
      "source": [
        "param_distrib_splt = {'min_samples_split': randint(2,50),}\n",
        "param_distrib_leaf = {'min_samples_leaf': randint(2,50),}\n",
        "param_distrib_nodes = {'max_leaf_nodes': randint(2,100),}\n",
        "param_distrib_max_features = {'max_features': randint(2,100),}\n",
        "\n",
        "rnd_search_splt = RandomizedSearchCV(estimator = RandomForestClassifier(), param_distributions=param_distrib_splt,\n",
        "                                n_iter = 5, scoring = scoring, cv=2,random_state=42, refit = 'accuracy')\n",
        "rnd_search_splt.fit(train_features, train_labels)\n",
        "\n",
        "rnd_search_leaf = RandomizedSearchCV(estimator = RandomForestClassifier(), param_distributions=param_distrib_leaf,\n",
        "                                n_iter = 5, scoring = scoring, cv=2,random_state=42, refit = 'accuracy')\n",
        "rnd_search_leaf.fit(train_features, train_labels)\n",
        "\n",
        "rnd_search_nodes = RandomizedSearchCV(estimator = RandomForestClassifier(), param_distributions=param_distrib_nodes,\n",
        "                                n_iter = 5, scoring = scoring, cv=2,random_state=42, refit = 'accuracy')\n",
        "rnd_search_nodes.fit(train_features, train_labels)\n",
        "\n",
        "rnd_search_features = RandomizedSearchCV(estimator = RandomForestClassifier(), param_distributions=param_distrib_max_features,\n",
        "                                n_iter = 5, scoring = scoring, cv=2,random_state=42, refit = 'accuracy')\n",
        "rnd_search_features.fit(train_features, train_labels)"
      ],
      "metadata": {
        "colab": {
          "base_uri": "https://localhost:8080/",
          "height": 166
        },
        "id": "Xi8fso3XzzT9",
        "outputId": "468badda-1f23-46e1-d9b7-0878fc70660e"
      },
      "execution_count": null,
      "outputs": [
        {
          "output_type": "execute_result",
          "data": {
            "text/plain": [
              "RandomizedSearchCV(cv=2, estimator=RandomForestClassifier(), n_iter=5,\n",
              "                   param_distributions={'max_features': <scipy.stats._distn_infrastructure.rv_discrete_frozen object at 0x786096923690>},\n",
              "                   random_state=42, refit='accuracy',\n",
              "                   scoring={'accuracy': make_scorer(accuracy_score, response_method='predict'),\n",
              "                            'precision': make_scorer(precision_score, response_method='predict', average=macro),\n",
              "                            'recall': make_scorer(recall_score, response_method='predict', average=macro)})"
            ],
            "text/html": [
              "<style>#sk-container-id-1 {\n",
              "  /* Definition of color scheme common for light and dark mode */\n",
              "  --sklearn-color-text: #000;\n",
              "  --sklearn-color-text-muted: #666;\n",
              "  --sklearn-color-line: gray;\n",
              "  /* Definition of color scheme for unfitted estimators */\n",
              "  --sklearn-color-unfitted-level-0: #fff5e6;\n",
              "  --sklearn-color-unfitted-level-1: #f6e4d2;\n",
              "  --sklearn-color-unfitted-level-2: #ffe0b3;\n",
              "  --sklearn-color-unfitted-level-3: chocolate;\n",
              "  /* Definition of color scheme for fitted estimators */\n",
              "  --sklearn-color-fitted-level-0: #f0f8ff;\n",
              "  --sklearn-color-fitted-level-1: #d4ebff;\n",
              "  --sklearn-color-fitted-level-2: #b3dbfd;\n",
              "  --sklearn-color-fitted-level-3: cornflowerblue;\n",
              "\n",
              "  /* Specific color for light theme */\n",
              "  --sklearn-color-text-on-default-background: var(--sg-text-color, var(--theme-code-foreground, var(--jp-content-font-color1, black)));\n",
              "  --sklearn-color-background: var(--sg-background-color, var(--theme-background, var(--jp-layout-color0, white)));\n",
              "  --sklearn-color-border-box: var(--sg-text-color, var(--theme-code-foreground, var(--jp-content-font-color1, black)));\n",
              "  --sklearn-color-icon: #696969;\n",
              "\n",
              "  @media (prefers-color-scheme: dark) {\n",
              "    /* Redefinition of color scheme for dark theme */\n",
              "    --sklearn-color-text-on-default-background: var(--sg-text-color, var(--theme-code-foreground, var(--jp-content-font-color1, white)));\n",
              "    --sklearn-color-background: var(--sg-background-color, var(--theme-background, var(--jp-layout-color0, #111)));\n",
              "    --sklearn-color-border-box: var(--sg-text-color, var(--theme-code-foreground, var(--jp-content-font-color1, white)));\n",
              "    --sklearn-color-icon: #878787;\n",
              "  }\n",
              "}\n",
              "\n",
              "#sk-container-id-1 {\n",
              "  color: var(--sklearn-color-text);\n",
              "}\n",
              "\n",
              "#sk-container-id-1 pre {\n",
              "  padding: 0;\n",
              "}\n",
              "\n",
              "#sk-container-id-1 input.sk-hidden--visually {\n",
              "  border: 0;\n",
              "  clip: rect(1px 1px 1px 1px);\n",
              "  clip: rect(1px, 1px, 1px, 1px);\n",
              "  height: 1px;\n",
              "  margin: -1px;\n",
              "  overflow: hidden;\n",
              "  padding: 0;\n",
              "  position: absolute;\n",
              "  width: 1px;\n",
              "}\n",
              "\n",
              "#sk-container-id-1 div.sk-dashed-wrapped {\n",
              "  border: 1px dashed var(--sklearn-color-line);\n",
              "  margin: 0 0.4em 0.5em 0.4em;\n",
              "  box-sizing: border-box;\n",
              "  padding-bottom: 0.4em;\n",
              "  background-color: var(--sklearn-color-background);\n",
              "}\n",
              "\n",
              "#sk-container-id-1 div.sk-container {\n",
              "  /* jupyter's `normalize.less` sets `[hidden] { display: none; }`\n",
              "     but bootstrap.min.css set `[hidden] { display: none !important; }`\n",
              "     so we also need the `!important` here to be able to override the\n",
              "     default hidden behavior on the sphinx rendered scikit-learn.org.\n",
              "     See: https://github.com/scikit-learn/scikit-learn/issues/21755 */\n",
              "  display: inline-block !important;\n",
              "  position: relative;\n",
              "}\n",
              "\n",
              "#sk-container-id-1 div.sk-text-repr-fallback {\n",
              "  display: none;\n",
              "}\n",
              "\n",
              "div.sk-parallel-item,\n",
              "div.sk-serial,\n",
              "div.sk-item {\n",
              "  /* draw centered vertical line to link estimators */\n",
              "  background-image: linear-gradient(var(--sklearn-color-text-on-default-background), var(--sklearn-color-text-on-default-background));\n",
              "  background-size: 2px 100%;\n",
              "  background-repeat: no-repeat;\n",
              "  background-position: center center;\n",
              "}\n",
              "\n",
              "/* Parallel-specific style estimator block */\n",
              "\n",
              "#sk-container-id-1 div.sk-parallel-item::after {\n",
              "  content: \"\";\n",
              "  width: 100%;\n",
              "  border-bottom: 2px solid var(--sklearn-color-text-on-default-background);\n",
              "  flex-grow: 1;\n",
              "}\n",
              "\n",
              "#sk-container-id-1 div.sk-parallel {\n",
              "  display: flex;\n",
              "  align-items: stretch;\n",
              "  justify-content: center;\n",
              "  background-color: var(--sklearn-color-background);\n",
              "  position: relative;\n",
              "}\n",
              "\n",
              "#sk-container-id-1 div.sk-parallel-item {\n",
              "  display: flex;\n",
              "  flex-direction: column;\n",
              "}\n",
              "\n",
              "#sk-container-id-1 div.sk-parallel-item:first-child::after {\n",
              "  align-self: flex-end;\n",
              "  width: 50%;\n",
              "}\n",
              "\n",
              "#sk-container-id-1 div.sk-parallel-item:last-child::after {\n",
              "  align-self: flex-start;\n",
              "  width: 50%;\n",
              "}\n",
              "\n",
              "#sk-container-id-1 div.sk-parallel-item:only-child::after {\n",
              "  width: 0;\n",
              "}\n",
              "\n",
              "/* Serial-specific style estimator block */\n",
              "\n",
              "#sk-container-id-1 div.sk-serial {\n",
              "  display: flex;\n",
              "  flex-direction: column;\n",
              "  align-items: center;\n",
              "  background-color: var(--sklearn-color-background);\n",
              "  padding-right: 1em;\n",
              "  padding-left: 1em;\n",
              "}\n",
              "\n",
              "\n",
              "/* Toggleable style: style used for estimator/Pipeline/ColumnTransformer box that is\n",
              "clickable and can be expanded/collapsed.\n",
              "- Pipeline and ColumnTransformer use this feature and define the default style\n",
              "- Estimators will overwrite some part of the style using the `sk-estimator` class\n",
              "*/\n",
              "\n",
              "/* Pipeline and ColumnTransformer style (default) */\n",
              "\n",
              "#sk-container-id-1 div.sk-toggleable {\n",
              "  /* Default theme specific background. It is overwritten whether we have a\n",
              "  specific estimator or a Pipeline/ColumnTransformer */\n",
              "  background-color: var(--sklearn-color-background);\n",
              "}\n",
              "\n",
              "/* Toggleable label */\n",
              "#sk-container-id-1 label.sk-toggleable__label {\n",
              "  cursor: pointer;\n",
              "  display: flex;\n",
              "  width: 100%;\n",
              "  margin-bottom: 0;\n",
              "  padding: 0.5em;\n",
              "  box-sizing: border-box;\n",
              "  text-align: center;\n",
              "  align-items: start;\n",
              "  justify-content: space-between;\n",
              "  gap: 0.5em;\n",
              "}\n",
              "\n",
              "#sk-container-id-1 label.sk-toggleable__label .caption {\n",
              "  font-size: 0.6rem;\n",
              "  font-weight: lighter;\n",
              "  color: var(--sklearn-color-text-muted);\n",
              "}\n",
              "\n",
              "#sk-container-id-1 label.sk-toggleable__label-arrow:before {\n",
              "  /* Arrow on the left of the label */\n",
              "  content: \"▸\";\n",
              "  float: left;\n",
              "  margin-right: 0.25em;\n",
              "  color: var(--sklearn-color-icon);\n",
              "}\n",
              "\n",
              "#sk-container-id-1 label.sk-toggleable__label-arrow:hover:before {\n",
              "  color: var(--sklearn-color-text);\n",
              "}\n",
              "\n",
              "/* Toggleable content - dropdown */\n",
              "\n",
              "#sk-container-id-1 div.sk-toggleable__content {\n",
              "  max-height: 0;\n",
              "  max-width: 0;\n",
              "  overflow: hidden;\n",
              "  text-align: left;\n",
              "  /* unfitted */\n",
              "  background-color: var(--sklearn-color-unfitted-level-0);\n",
              "}\n",
              "\n",
              "#sk-container-id-1 div.sk-toggleable__content.fitted {\n",
              "  /* fitted */\n",
              "  background-color: var(--sklearn-color-fitted-level-0);\n",
              "}\n",
              "\n",
              "#sk-container-id-1 div.sk-toggleable__content pre {\n",
              "  margin: 0.2em;\n",
              "  border-radius: 0.25em;\n",
              "  color: var(--sklearn-color-text);\n",
              "  /* unfitted */\n",
              "  background-color: var(--sklearn-color-unfitted-level-0);\n",
              "}\n",
              "\n",
              "#sk-container-id-1 div.sk-toggleable__content.fitted pre {\n",
              "  /* unfitted */\n",
              "  background-color: var(--sklearn-color-fitted-level-0);\n",
              "}\n",
              "\n",
              "#sk-container-id-1 input.sk-toggleable__control:checked~div.sk-toggleable__content {\n",
              "  /* Expand drop-down */\n",
              "  max-height: 200px;\n",
              "  max-width: 100%;\n",
              "  overflow: auto;\n",
              "}\n",
              "\n",
              "#sk-container-id-1 input.sk-toggleable__control:checked~label.sk-toggleable__label-arrow:before {\n",
              "  content: \"▾\";\n",
              "}\n",
              "\n",
              "/* Pipeline/ColumnTransformer-specific style */\n",
              "\n",
              "#sk-container-id-1 div.sk-label input.sk-toggleable__control:checked~label.sk-toggleable__label {\n",
              "  color: var(--sklearn-color-text);\n",
              "  background-color: var(--sklearn-color-unfitted-level-2);\n",
              "}\n",
              "\n",
              "#sk-container-id-1 div.sk-label.fitted input.sk-toggleable__control:checked~label.sk-toggleable__label {\n",
              "  background-color: var(--sklearn-color-fitted-level-2);\n",
              "}\n",
              "\n",
              "/* Estimator-specific style */\n",
              "\n",
              "/* Colorize estimator box */\n",
              "#sk-container-id-1 div.sk-estimator input.sk-toggleable__control:checked~label.sk-toggleable__label {\n",
              "  /* unfitted */\n",
              "  background-color: var(--sklearn-color-unfitted-level-2);\n",
              "}\n",
              "\n",
              "#sk-container-id-1 div.sk-estimator.fitted input.sk-toggleable__control:checked~label.sk-toggleable__label {\n",
              "  /* fitted */\n",
              "  background-color: var(--sklearn-color-fitted-level-2);\n",
              "}\n",
              "\n",
              "#sk-container-id-1 div.sk-label label.sk-toggleable__label,\n",
              "#sk-container-id-1 div.sk-label label {\n",
              "  /* The background is the default theme color */\n",
              "  color: var(--sklearn-color-text-on-default-background);\n",
              "}\n",
              "\n",
              "/* On hover, darken the color of the background */\n",
              "#sk-container-id-1 div.sk-label:hover label.sk-toggleable__label {\n",
              "  color: var(--sklearn-color-text);\n",
              "  background-color: var(--sklearn-color-unfitted-level-2);\n",
              "}\n",
              "\n",
              "/* Label box, darken color on hover, fitted */\n",
              "#sk-container-id-1 div.sk-label.fitted:hover label.sk-toggleable__label.fitted {\n",
              "  color: var(--sklearn-color-text);\n",
              "  background-color: var(--sklearn-color-fitted-level-2);\n",
              "}\n",
              "\n",
              "/* Estimator label */\n",
              "\n",
              "#sk-container-id-1 div.sk-label label {\n",
              "  font-family: monospace;\n",
              "  font-weight: bold;\n",
              "  display: inline-block;\n",
              "  line-height: 1.2em;\n",
              "}\n",
              "\n",
              "#sk-container-id-1 div.sk-label-container {\n",
              "  text-align: center;\n",
              "}\n",
              "\n",
              "/* Estimator-specific */\n",
              "#sk-container-id-1 div.sk-estimator {\n",
              "  font-family: monospace;\n",
              "  border: 1px dotted var(--sklearn-color-border-box);\n",
              "  border-radius: 0.25em;\n",
              "  box-sizing: border-box;\n",
              "  margin-bottom: 0.5em;\n",
              "  /* unfitted */\n",
              "  background-color: var(--sklearn-color-unfitted-level-0);\n",
              "}\n",
              "\n",
              "#sk-container-id-1 div.sk-estimator.fitted {\n",
              "  /* fitted */\n",
              "  background-color: var(--sklearn-color-fitted-level-0);\n",
              "}\n",
              "\n",
              "/* on hover */\n",
              "#sk-container-id-1 div.sk-estimator:hover {\n",
              "  /* unfitted */\n",
              "  background-color: var(--sklearn-color-unfitted-level-2);\n",
              "}\n",
              "\n",
              "#sk-container-id-1 div.sk-estimator.fitted:hover {\n",
              "  /* fitted */\n",
              "  background-color: var(--sklearn-color-fitted-level-2);\n",
              "}\n",
              "\n",
              "/* Specification for estimator info (e.g. \"i\" and \"?\") */\n",
              "\n",
              "/* Common style for \"i\" and \"?\" */\n",
              "\n",
              ".sk-estimator-doc-link,\n",
              "a:link.sk-estimator-doc-link,\n",
              "a:visited.sk-estimator-doc-link {\n",
              "  float: right;\n",
              "  font-size: smaller;\n",
              "  line-height: 1em;\n",
              "  font-family: monospace;\n",
              "  background-color: var(--sklearn-color-background);\n",
              "  border-radius: 1em;\n",
              "  height: 1em;\n",
              "  width: 1em;\n",
              "  text-decoration: none !important;\n",
              "  margin-left: 0.5em;\n",
              "  text-align: center;\n",
              "  /* unfitted */\n",
              "  border: var(--sklearn-color-unfitted-level-1) 1pt solid;\n",
              "  color: var(--sklearn-color-unfitted-level-1);\n",
              "}\n",
              "\n",
              ".sk-estimator-doc-link.fitted,\n",
              "a:link.sk-estimator-doc-link.fitted,\n",
              "a:visited.sk-estimator-doc-link.fitted {\n",
              "  /* fitted */\n",
              "  border: var(--sklearn-color-fitted-level-1) 1pt solid;\n",
              "  color: var(--sklearn-color-fitted-level-1);\n",
              "}\n",
              "\n",
              "/* On hover */\n",
              "div.sk-estimator:hover .sk-estimator-doc-link:hover,\n",
              ".sk-estimator-doc-link:hover,\n",
              "div.sk-label-container:hover .sk-estimator-doc-link:hover,\n",
              ".sk-estimator-doc-link:hover {\n",
              "  /* unfitted */\n",
              "  background-color: var(--sklearn-color-unfitted-level-3);\n",
              "  color: var(--sklearn-color-background);\n",
              "  text-decoration: none;\n",
              "}\n",
              "\n",
              "div.sk-estimator.fitted:hover .sk-estimator-doc-link.fitted:hover,\n",
              ".sk-estimator-doc-link.fitted:hover,\n",
              "div.sk-label-container:hover .sk-estimator-doc-link.fitted:hover,\n",
              ".sk-estimator-doc-link.fitted:hover {\n",
              "  /* fitted */\n",
              "  background-color: var(--sklearn-color-fitted-level-3);\n",
              "  color: var(--sklearn-color-background);\n",
              "  text-decoration: none;\n",
              "}\n",
              "\n",
              "/* Span, style for the box shown on hovering the info icon */\n",
              ".sk-estimator-doc-link span {\n",
              "  display: none;\n",
              "  z-index: 9999;\n",
              "  position: relative;\n",
              "  font-weight: normal;\n",
              "  right: .2ex;\n",
              "  padding: .5ex;\n",
              "  margin: .5ex;\n",
              "  width: min-content;\n",
              "  min-width: 20ex;\n",
              "  max-width: 50ex;\n",
              "  color: var(--sklearn-color-text);\n",
              "  box-shadow: 2pt 2pt 4pt #999;\n",
              "  /* unfitted */\n",
              "  background: var(--sklearn-color-unfitted-level-0);\n",
              "  border: .5pt solid var(--sklearn-color-unfitted-level-3);\n",
              "}\n",
              "\n",
              ".sk-estimator-doc-link.fitted span {\n",
              "  /* fitted */\n",
              "  background: var(--sklearn-color-fitted-level-0);\n",
              "  border: var(--sklearn-color-fitted-level-3);\n",
              "}\n",
              "\n",
              ".sk-estimator-doc-link:hover span {\n",
              "  display: block;\n",
              "}\n",
              "\n",
              "/* \"?\"-specific style due to the `<a>` HTML tag */\n",
              "\n",
              "#sk-container-id-1 a.estimator_doc_link {\n",
              "  float: right;\n",
              "  font-size: 1rem;\n",
              "  line-height: 1em;\n",
              "  font-family: monospace;\n",
              "  background-color: var(--sklearn-color-background);\n",
              "  border-radius: 1rem;\n",
              "  height: 1rem;\n",
              "  width: 1rem;\n",
              "  text-decoration: none;\n",
              "  /* unfitted */\n",
              "  color: var(--sklearn-color-unfitted-level-1);\n",
              "  border: var(--sklearn-color-unfitted-level-1) 1pt solid;\n",
              "}\n",
              "\n",
              "#sk-container-id-1 a.estimator_doc_link.fitted {\n",
              "  /* fitted */\n",
              "  border: var(--sklearn-color-fitted-level-1) 1pt solid;\n",
              "  color: var(--sklearn-color-fitted-level-1);\n",
              "}\n",
              "\n",
              "/* On hover */\n",
              "#sk-container-id-1 a.estimator_doc_link:hover {\n",
              "  /* unfitted */\n",
              "  background-color: var(--sklearn-color-unfitted-level-3);\n",
              "  color: var(--sklearn-color-background);\n",
              "  text-decoration: none;\n",
              "}\n",
              "\n",
              "#sk-container-id-1 a.estimator_doc_link.fitted:hover {\n",
              "  /* fitted */\n",
              "  background-color: var(--sklearn-color-fitted-level-3);\n",
              "}\n",
              "</style><div id=\"sk-container-id-1\" class=\"sk-top-container\"><div class=\"sk-text-repr-fallback\"><pre>RandomizedSearchCV(cv=2, estimator=RandomForestClassifier(), n_iter=5,\n",
              "                   param_distributions={&#x27;max_features&#x27;: &lt;scipy.stats._distn_infrastructure.rv_discrete_frozen object at 0x786096923690&gt;},\n",
              "                   random_state=42, refit=&#x27;accuracy&#x27;,\n",
              "                   scoring={&#x27;accuracy&#x27;: make_scorer(accuracy_score, response_method=&#x27;predict&#x27;),\n",
              "                            &#x27;precision&#x27;: make_scorer(precision_score, response_method=&#x27;predict&#x27;, average=macro),\n",
              "                            &#x27;recall&#x27;: make_scorer(recall_score, response_method=&#x27;predict&#x27;, average=macro)})</pre><b>In a Jupyter environment, please rerun this cell to show the HTML representation or trust the notebook. <br />On GitHub, the HTML representation is unable to render, please try loading this page with nbviewer.org.</b></div><div class=\"sk-container\" hidden><div class=\"sk-item sk-dashed-wrapped\"><div class=\"sk-label-container\"><div class=\"sk-label fitted sk-toggleable\"><input class=\"sk-toggleable__control sk-hidden--visually\" id=\"sk-estimator-id-1\" type=\"checkbox\" ><label for=\"sk-estimator-id-1\" class=\"sk-toggleable__label fitted sk-toggleable__label-arrow\"><div><div>RandomizedSearchCV</div></div><div><a class=\"sk-estimator-doc-link fitted\" rel=\"noreferrer\" target=\"_blank\" href=\"https://scikit-learn.org/1.6/modules/generated/sklearn.model_selection.RandomizedSearchCV.html\">?<span>Documentation for RandomizedSearchCV</span></a><span class=\"sk-estimator-doc-link fitted\">i<span>Fitted</span></span></div></label><div class=\"sk-toggleable__content fitted\"><pre>RandomizedSearchCV(cv=2, estimator=RandomForestClassifier(), n_iter=5,\n",
              "                   param_distributions={&#x27;max_features&#x27;: &lt;scipy.stats._distn_infrastructure.rv_discrete_frozen object at 0x786096923690&gt;},\n",
              "                   random_state=42, refit=&#x27;accuracy&#x27;,\n",
              "                   scoring={&#x27;accuracy&#x27;: make_scorer(accuracy_score, response_method=&#x27;predict&#x27;),\n",
              "                            &#x27;precision&#x27;: make_scorer(precision_score, response_method=&#x27;predict&#x27;, average=macro),\n",
              "                            &#x27;recall&#x27;: make_scorer(recall_score, response_method=&#x27;predict&#x27;, average=macro)})</pre></div> </div></div><div class=\"sk-parallel\"><div class=\"sk-parallel-item\"><div class=\"sk-item\"><div class=\"sk-label-container\"><div class=\"sk-label fitted sk-toggleable\"><input class=\"sk-toggleable__control sk-hidden--visually\" id=\"sk-estimator-id-2\" type=\"checkbox\" ><label for=\"sk-estimator-id-2\" class=\"sk-toggleable__label fitted sk-toggleable__label-arrow\"><div><div>best_estimator_: RandomForestClassifier</div></div></label><div class=\"sk-toggleable__content fitted\"><pre>RandomForestClassifier(max_features=53)</pre></div> </div></div><div class=\"sk-serial\"><div class=\"sk-item\"><div class=\"sk-estimator fitted sk-toggleable\"><input class=\"sk-toggleable__control sk-hidden--visually\" id=\"sk-estimator-id-3\" type=\"checkbox\" ><label for=\"sk-estimator-id-3\" class=\"sk-toggleable__label fitted sk-toggleable__label-arrow\"><div><div>RandomForestClassifier</div></div><div><a class=\"sk-estimator-doc-link fitted\" rel=\"noreferrer\" target=\"_blank\" href=\"https://scikit-learn.org/1.6/modules/generated/sklearn.ensemble.RandomForestClassifier.html\">?<span>Documentation for RandomForestClassifier</span></a></div></label><div class=\"sk-toggleable__content fitted\"><pre>RandomForestClassifier(max_features=53)</pre></div> </div></div></div></div></div></div></div></div></div>"
            ]
          },
          "metadata": {},
          "execution_count": 29
        }
      ]
    },
    {
      "cell_type": "code",
      "source": [
        "print_result(rnd_search_splt.cv_results_, 'min_samples_split')\n",
        "print_result(rnd_search_leaf.cv_results_, 'min_samples_leaf')\n",
        "print_result(rnd_search_nodes.cv_results_, 'min_leaf_nodes')\n",
        "print_result(rnd_search_features.cv_results_, 'max_features')"
      ],
      "metadata": {
        "colab": {
          "base_uri": "https://localhost:8080/"
        },
        "id": "Grn7o_4Q4SRu",
        "outputId": "9e2636d0-4ded-472c-a5dd-43f07f612649"
      },
      "execution_count": null,
      "outputs": [
        {
          "output_type": "stream",
          "name": "stdout",
          "text": [
            "min_samples_split  results: \n",
            "                       params  mean_test_precision  mean_test_accuracy  \\\n",
            "3  {'min_samples_split': 44}             0.771068            0.781250   \n",
            "4   {'min_samples_split': 9}             0.761023            0.779514   \n",
            "2  {'min_samples_split': 16}             0.754251            0.770833   \n",
            "0  {'min_samples_split': 40}             0.756519            0.767361   \n",
            "1  {'min_samples_split': 30}             0.748198            0.762153   \n",
            "\n",
            "   mean_test_recall  mean_fit_time  \n",
            "3          0.727385       0.186070  \n",
            "4          0.736691       0.258144  \n",
            "2          0.719338       0.164599  \n",
            "0          0.707259       0.160592  \n",
            "1          0.704493       0.165023  \n",
            "\n",
            "\n",
            "min_samples_leaf  results: \n",
            "                      params  mean_test_precision  mean_test_accuracy  \\\n",
            "4   {'min_samples_leaf': 9}             0.756631            0.770833   \n",
            "2  {'min_samples_leaf': 16}             0.756518            0.765625   \n",
            "1  {'min_samples_leaf': 30}             0.750721            0.748264   \n",
            "0  {'min_samples_leaf': 40}             0.760081            0.746528   \n",
            "3  {'min_samples_leaf': 44}             0.756732            0.736111   \n",
            "\n",
            "   mean_test_recall  mean_fit_time  \n",
            "4          0.715751       0.257125  \n",
            "2          0.702310       0.236058  \n",
            "1          0.666502       0.229609  \n",
            "0          0.658118       0.232642  \n",
            "3          0.639475       0.229145  \n",
            "\n",
            "\n",
            "min_leaf_nodes  results: \n",
            "                    params  mean_test_precision  mean_test_accuracy  \\\n",
            "3  {'max_leaf_nodes': 73}             0.769883            0.784722   \n",
            "1  {'max_leaf_nodes': 94}             0.764992            0.781250   \n",
            "0  {'max_leaf_nodes': 53}             0.753895            0.770833   \n",
            "2  {'max_leaf_nodes': 16}             0.755133            0.770833   \n",
            "4  {'max_leaf_nodes': 62}             0.752409            0.770833   \n",
            "\n",
            "   mean_test_recall  mean_fit_time  \n",
            "3          0.738301       0.344463  \n",
            "1          0.735630       0.174510  \n",
            "0          0.720598       0.164566  \n",
            "2          0.718193       0.170344  \n",
            "4          0.722920       0.451377  \n",
            "\n",
            "\n",
            "max_features  results: \n",
            "                  params  mean_test_precision  mean_test_accuracy  \\\n",
            "0  {'max_features': 53}             0.761350            0.781250   \n",
            "4  {'max_features': 62}             0.760782            0.779514   \n",
            "3  {'max_features': 73}             0.755718            0.776042   \n",
            "1  {'max_features': 94}             0.753788            0.774306   \n",
            "2  {'max_features': 16}             0.751375            0.770833   \n",
            "\n",
            "   mean_test_recall  mean_fit_time  \n",
            "0          0.742741       0.474729  \n",
            "4          0.737875       0.451295  \n",
            "3          0.736400       0.525682  \n",
            "1          0.733875       0.431808  \n",
            "2          0.725343       0.491145  \n",
            "\n",
            "\n"
          ]
        }
      ]
    },
    {
      "cell_type": "markdown",
      "source": [
        "ZADANIE 3"
      ],
      "metadata": {
        "id": "jXWMDn8F7DAZ"
      }
    },
    {
      "cell_type": "code",
      "source": [
        "rf = RandomForestClassifier(criterion = 'gini', random_state = 42)\n",
        "rf.fit(train_features, train_labels);\n",
        "predictions_forest = rf.predict(test_features)\n",
        "print('Accuracy: ', accuracy_score(test_labels, predictions_forest))\n",
        "print('Classification report: \\n', classification_report(test_labels,predictions_forest))"
      ],
      "metadata": {
        "colab": {
          "base_uri": "https://localhost:8080/"
        },
        "id": "0bR5HKTQ6bp-",
        "outputId": "9bea1413-096f-4e92-cd15-0a7c3b1b614a"
      },
      "execution_count": null,
      "outputs": [
        {
          "output_type": "stream",
          "name": "stdout",
          "text": [
            "Accuracy:  0.734375\n",
            "Classification report: \n",
            "               precision    recall  f1-score   support\n",
            "\n",
            "           0       0.80      0.78      0.79       123\n",
            "           1       0.62      0.65      0.64        69\n",
            "\n",
            "    accuracy                           0.73       192\n",
            "   macro avg       0.71      0.72      0.71       192\n",
            "weighted avg       0.74      0.73      0.74       192\n",
            "\n"
          ]
        }
      ]
    },
    {
      "cell_type": "code",
      "source": [
        "rf = RandomForestClassifier(criterion = 'entropy', random_state = 42)\n",
        "rf.fit(train_features, train_labels);\n",
        "predictions_forest = rf.predict(test_features)\n",
        "print('Accuracy: ', accuracy_score(test_labels, predictions_forest))\n",
        "print('Classification report: \\n', classification_report(test_labels,predictions_forest))"
      ],
      "metadata": {
        "colab": {
          "base_uri": "https://localhost:8080/"
        },
        "id": "3JNu0k867Vng",
        "outputId": "988ddcaf-b133-49f8-deb3-c675744d34e6"
      },
      "execution_count": null,
      "outputs": [
        {
          "output_type": "stream",
          "name": "stdout",
          "text": [
            "Accuracy:  0.7291666666666666\n",
            "Classification report: \n",
            "               precision    recall  f1-score   support\n",
            "\n",
            "           0       0.78      0.80      0.79       123\n",
            "           1       0.63      0.61      0.62        69\n",
            "\n",
            "    accuracy                           0.73       192\n",
            "   macro avg       0.71      0.70      0.70       192\n",
            "weighted avg       0.73      0.73      0.73       192\n",
            "\n"
          ]
        }
      ]
    },
    {
      "cell_type": "markdown",
      "source": [
        "ZADANIE 4"
      ],
      "metadata": {
        "id": "PkYFLbv7_BdX"
      }
    },
    {
      "cell_type": "code",
      "source": [
        "four_best = feature_importances[:4]\n",
        "best =[]\n",
        "for name, value in four_best:\n",
        "  best.append(name)"
      ],
      "metadata": {
        "id": "of18Eh4V7dIx"
      },
      "execution_count": null,
      "outputs": []
    },
    {
      "cell_type": "code",
      "source": [
        "two_worst = feature_importances[-2:]\n",
        "worst = []\n",
        "for name, value in two_worst:\n",
        "  worst.append(name)"
      ],
      "metadata": {
        "id": "XBgwD90m7smS"
      },
      "execution_count": null,
      "outputs": []
    },
    {
      "cell_type": "code",
      "source": [
        "rf_most_important = RandomForestClassifier(n_estimators= 100, random_state=42)# Extract the two most important features\n",
        "important_indices = [feature_list.index(x) for x in best]\n",
        "train_important = train_features[:, important_indices]\n",
        "print(\"Four best features: \", important_indices)\n",
        "test_important = test_features[:, important_indices]# Trening\n",
        "rf_most_important.fit(train_important, train_labels)# Predykcja wyników\n",
        "predictions = rf_most_important.predict(test_important)\n",
        "print('Accuracy:')\n",
        "accuracy_score(test_labels, predictions)"
      ],
      "metadata": {
        "colab": {
          "base_uri": "https://localhost:8080/"
        },
        "id": "gt9ISPA775-4",
        "outputId": "3239c46f-5b34-4671-c6ee-a5e7bf707801"
      },
      "execution_count": null,
      "outputs": [
        {
          "output_type": "stream",
          "name": "stdout",
          "text": [
            "Four best features:  [1, 5, 7, 6]\n",
            "Accuracy:\n"
          ]
        },
        {
          "output_type": "execute_result",
          "data": {
            "text/plain": [
              "0.75"
            ]
          },
          "metadata": {},
          "execution_count": 35
        }
      ]
    },
    {
      "cell_type": "code",
      "source": [
        "rf_most_important = RandomForestClassifier(n_estimators= 100, random_state=42)# Extract the two most important features\n",
        "important_indices = [feature_list.index(x) for x in worst]\n",
        "train_important = train_features[:, important_indices]\n",
        "print(\"Two worst features: \", important_indices)\n",
        "test_important = test_features[:, important_indices]# Trening\n",
        "rf_most_important.fit(train_important, train_labels)# Predykcja wyników\n",
        "predictions = rf_most_important.predict(test_important)\n",
        "print('Accuracy:')\n",
        "accuracy_score(test_labels, predictions)"
      ],
      "metadata": {
        "colab": {
          "base_uri": "https://localhost:8080/"
        },
        "id": "bdOIaWyY9urf",
        "outputId": "4b919c24-e67e-4241-cf56-3ef8b208e070"
      },
      "execution_count": null,
      "outputs": [
        {
          "output_type": "stream",
          "name": "stdout",
          "text": [
            "Two worst features:  [3, 4]\n",
            "Accuracy:\n"
          ]
        },
        {
          "output_type": "execute_result",
          "data": {
            "text/plain": [
              "0.6458333333333334"
            ]
          },
          "metadata": {},
          "execution_count": 36
        }
      ]
    },
    {
      "cell_type": "code",
      "source": [],
      "metadata": {
        "id": "A80QUMgx-yMs"
      },
      "execution_count": null,
      "outputs": []
    }
  ]
}